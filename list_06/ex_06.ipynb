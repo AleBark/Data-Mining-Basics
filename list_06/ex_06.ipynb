{
 "cells": [
  {
   "cell_type": "markdown",
   "metadata": {},
   "source": [
    "### Exercício 6\n",
    "\n",
    "#### Pratica 1 -  Dataset MNINST\n",
    "\n",
    "#### Descricao\n",
    "\n",
    "- Problema de classificação de numeros escritos a mão.\n",
    "\n",
    "Atributos\n",
    "\n",
    "- Imagens dos digitos =)\n",
    "\n",
    "Etapas:\n",
    "1. Instale a biblioteca do keras e do tensorflow (atenção isso pode demorar um pouco, 5-10 minutos)\n",
    "```python\n",
    "%pip install --user keras\n",
    "%pip install --user tensorflow\n",
    "```\n",
    "2. Importe as bibliotecas necessárias para a classificação\n",
    "```python\n",
    "from keras.datasets import mnist\n",
    "import matplotlib.pyplot as plt\n",
    "import keras\n",
    "from keras.models import Sequential\n",
    "from keras.layers import Dense, Dropout, Flatten\n",
    "from keras.layers import Conv2D, MaxPooling2D\n",
    "import numpy as np\n",
    "```\n",
    "3. Carregue o Dataset\n",
    "```python\n",
    "(x_train, y_train), (x_test, y_test) = mnist.load_data()\n",
    "x_train = x_train[0:10000]\n",
    "y_train = y_train[0:10000]\n",
    "x_train = x_train.astype('float32')\n",
    "x_test = x_test.astype('float32')\n",
    "x_train /= 255\n",
    "x_test /= 255\n",
    "```\n",
    "4. Determine a AUC e curva RoC para detecção do digito 5 através de uma CNN com o seguinte formato:\n",
    "```python\n",
    "model = Sequential()\n",
    "model.add(Conv2D(64, kernel_size=(3, 3), activation='relu', input_shape=(28, 28, 1)))\n",
    "model.add(MaxPooling2D(pool_size=(2, 2)))\n",
    "model.add(Dropout(0.25))\n",
    "model.add(Flatten())\n",
    "model.add(Dense(256, activation='relu'))\n",
    "model.add(Dropout(0.5))\n",
    "model.add(Dense(10, activation='softmax'))\n",
    "model.compile(loss=keras.losses.categorical_crossentropy,\n",
    "              optimizer=keras.optimizers.Adadelta(),\n",
    "              metrics=['accuracy'])\n",
    "```\n",
    "5. Tente melhorar a acurácia para detecção do dígito 5 =)"
   ]
  },
  {
   "cell_type": "code",
   "execution_count": 34,
   "metadata": {},
   "outputs": [],
   "source": [
    "from keras.datasets import mnist\n",
    "import matplotlib.pyplot as plt\n",
    "import keras\n",
    "from keras.models import Sequential\n",
    "from keras.layers import Dense, Dropout, Flatten\n",
    "from keras.layers import Conv2D, MaxPooling2D\n",
    "import numpy as np"
   ]
  },
  {
   "cell_type": "code",
   "execution_count": 35,
   "metadata": {},
   "outputs": [],
   "source": [
    "(x_train, y_train), (x_test, y_test) = mnist.load_data()\n",
    "x_train = x_train[0:10000]\n",
    "y_train = y_train[0:10000]\n",
    "x_train = x_train.astype('float32')\n",
    "x_test = x_test.astype('float32')\n",
    "x_train /= 255\n",
    "x_test /= 255"
   ]
  },
  {
   "cell_type": "code",
   "execution_count": 36,
   "metadata": {},
   "outputs": [],
   "source": [
    "model = Sequential()\n",
    "model.add(Conv2D(64, kernel_size=(3, 3), activation='relu', input_shape=(28, 28, 1)))\n",
    "model.add(MaxPooling2D(pool_size=(2, 2)))\n",
    "model.add(Dropout(0.25))\n",
    "model.add(Flatten())\n",
    "model.add(Dense(256, activation='relu'))\n",
    "model.add(Dropout(0.5))\n",
    "model.add(Dense(10, activation='softmax'))\n",
    "model.compile(loss=keras.losses.categorical_crossentropy,\n",
    "           optimizer=keras.optimizers.Adadelta(),\n",
    "           metrics=['accuracy'])"
   ]
  },
  {
   "cell_type": "code",
   "execution_count": 37,
   "metadata": {},
   "outputs": [
    {
     "data": {
      "text/plain": [
       "<matplotlib.image.AxesImage at 0x7f9939404c10>"
      ]
     },
     "execution_count": 37,
     "metadata": {},
     "output_type": "execute_result"
    },
    {
     "data": {
      "image/png": "[encoded data removed]",
      "text/plain": [
       "<Figure size 432x288 with 1 Axes>"
      ]
     },
     "metadata": {
      "needs_background": "light"
     },
     "output_type": "display_data"
    }
   ],
   "source": [
    "plt.imshow(x_train[5], cmap='gray')"
   ]
  },
  {
   "cell_type": "code",
   "execution_count": 38,
   "metadata": {},
   "outputs": [],
   "source": [
    "x_train = x_train.reshape(x_train.shape[0], 28, 28, 1)\n",
    "x_test = x_test.reshape(x_test.shape[0], 28, 28, 1)"
   ]
  },
  {
   "cell_type": "code",
   "execution_count": 39,
   "metadata": {},
   "outputs": [
    {
     "data": {
      "text/plain": [
       "(10000, 28, 28, 1)"
      ]
     },
     "execution_count": 39,
     "metadata": {},
     "output_type": "execute_result"
    }
   ],
   "source": [
    "x_train.shape"
   ]
  },
  {
   "cell_type": "code",
   "execution_count": 40,
   "metadata": {},
   "outputs": [
    {
     "data": {
      "text/plain": [
       "array([5, 0, 4, ..., 6, 9, 7], dtype=uint8)"
      ]
     },
     "execution_count": 40,
     "metadata": {},
     "output_type": "execute_result"
    }
   ],
   "source": [
    "y_train"
   ]
  },
  {
   "cell_type": "code",
   "execution_count": 41,
   "metadata": {},
   "outputs": [],
   "source": [
    "y_train = keras.utils.to_categorical(y_train,10)\n",
    "y_test = keras.utils.to_categorical(y_test,10)"
   ]
  },
  {
   "cell_type": "code",
   "execution_count": 42,
   "metadata": {},
   "outputs": [],
   "source": [
    "from keras.models import Sequential\n",
    "from keras.layers import Dense, Dropout, Flatten\n",
    "from keras.layers import Conv2D, MaxPool2D\n",
    "\n",
    "model = Sequential()\n",
    "model.add(Conv2D(32, kernel_size=(3,3), activation='relu', input_shape=(28,28,1)))\n",
    "model.add(MaxPooling2D(pool_size=(2,2)))\n",
    "model.add(Dropout(0.25))\n",
    "model.add(Flatten())\n",
    "model.add(Dense(256, activation='relu'))\n",
    "model.add(Dropout(0.5))\n",
    "model.add(Dense(10, activation='softmax'))\n"
   ]
  },
  {
   "cell_type": "code",
   "execution_count": 43,
   "metadata": {},
   "outputs": [],
   "source": [
    "model.compile(loss=keras.losses.categorical_crossentropy, optimizer=keras.optimizers.Adadelta(), metrics=['accuracy'])"
   ]
  },
  {
   "cell_type": "code",
   "execution_count": 44,
   "metadata": {},
   "outputs": [
    {
     "name": "stdout",
     "output_type": "stream",
     "text": [
      "Model: \"sequential_8\"\n",
      "_________________________________________________________________\n",
      "Layer (type)                 Output Shape              Param #   \n",
      "=================================================================\n",
      "conv2d_6 (Conv2D)            (None, 26, 26, 32)        320       \n",
      "_________________________________________________________________\n",
      "max_pooling2d_6 (MaxPooling2 (None, 13, 13, 32)        0         \n",
      "_________________________________________________________________\n",
      "dropout_9 (Dropout)          (None, 13, 13, 32)        0         \n",
      "_________________________________________________________________\n",
      "flatten_3 (Flatten)          (None, 5408)              0         \n",
      "_________________________________________________________________\n",
      "dense_6 (Dense)              (None, 256)               1384704   \n",
      "_________________________________________________________________\n",
      "dropout_10 (Dropout)         (None, 256)               0         \n",
      "_________________________________________________________________\n",
      "dense_7 (Dense)              (None, 10)                2570      \n",
      "=================================================================\n",
      "Total params: 1,387,594\n",
      "Trainable params: 1,387,594\n",
      "Non-trainable params: 0\n",
      "_________________________________________________________________\n"
     ]
    }
   ],
   "source": [
    "model.summary()"
   ]
  },
  {
   "cell_type": "code",
   "execution_count": 45,
   "metadata": {
    "scrolled": true
   },
   "outputs": [
    {
     "name": "stdout",
     "output_type": "stream",
     "text": [
      "Epoch 1/30\n",
      "219/219 [==============================] - 3s 12ms/step - loss: 2.2961 - accuracy: 0.1264 - val_loss: 2.2750 - val_accuracy: 0.2140\n",
      "Epoch 2/30\n",
      "219/219 [==============================] - 2s 11ms/step - loss: 2.2745 - accuracy: 0.1629 - val_loss: 2.2538 - val_accuracy: 0.2893\n",
      "Epoch 3/30\n",
      "219/219 [==============================] - 2s 11ms/step - loss: 2.2548 - accuracy: 0.1926 - val_loss: 2.2329 - val_accuracy: 0.3390\n",
      "Epoch 4/30\n",
      "219/219 [==============================] - 2s 11ms/step - loss: 2.2340 - accuracy: 0.2331 - val_loss: 2.2119 - val_accuracy: 0.3807\n",
      "Epoch 5/30\n",
      "219/219 [==============================] - 2s 11ms/step - loss: 2.2124 - accuracy: 0.2679 - val_loss: 2.1906 - val_accuracy: 0.4163\n",
      "Epoch 6/30\n",
      "219/219 [==============================] - 2s 11ms/step - loss: 2.1926 - accuracy: 0.3060 - val_loss: 2.1692 - val_accuracy: 0.4500\n",
      "Epoch 7/30\n",
      "219/219 [==============================] - 3s 12ms/step - loss: 2.1732 - accuracy: 0.3370 - val_loss: 2.1475 - val_accuracy: 0.4837\n",
      "Epoch 8/30\n",
      "219/219 [==============================] - 3s 12ms/step - loss: 2.1549 - accuracy: 0.3573 - val_loss: 2.1255 - val_accuracy: 0.5157\n",
      "Epoch 9/30\n",
      "219/219 [==============================] - 3s 12ms/step - loss: 2.1306 - accuracy: 0.3900 - val_loss: 2.1029 - val_accuracy: 0.5430\n",
      "Epoch 10/30\n",
      "219/219 [==============================] - 3s 12ms/step - loss: 2.1076 - accuracy: 0.4187 - val_loss: 2.0798 - val_accuracy: 0.5700\n",
      "Epoch 11/30\n",
      "219/219 [==============================] - 3s 12ms/step - loss: 2.0872 - accuracy: 0.4404 - val_loss: 2.0563 - val_accuracy: 0.5943\n",
      "Epoch 12/30\n",
      "219/219 [==============================] - 3s 12ms/step - loss: 2.0620 - accuracy: 0.4683 - val_loss: 2.0323 - val_accuracy: 0.6143\n",
      "Epoch 13/30\n",
      "219/219 [==============================] - 2s 11ms/step - loss: 2.0365 - accuracy: 0.4883 - val_loss: 2.0077 - val_accuracy: 0.6290\n",
      "Epoch 14/30\n",
      "219/219 [==============================] - 2s 11ms/step - loss: 2.0151 - accuracy: 0.5023 - val_loss: 1.9826 - val_accuracy: 0.6363\n",
      "Epoch 15/30\n",
      "219/219 [==============================] - 2s 11ms/step - loss: 1.9887 - accuracy: 0.5251 - val_loss: 1.9569 - val_accuracy: 0.6477\n",
      "Epoch 16/30\n",
      "219/219 [==============================] - 2s 11ms/step - loss: 1.9680 - accuracy: 0.5287 - val_loss: 1.9311 - val_accuracy: 0.6570\n",
      "Epoch 17/30\n",
      "219/219 [==============================] - 3s 12ms/step - loss: 1.9410 - accuracy: 0.5389 - val_loss: 1.9047 - val_accuracy: 0.6680\n",
      "Epoch 18/30\n",
      "219/219 [==============================] - 2s 11ms/step - loss: 1.9167 - accuracy: 0.5561 - val_loss: 1.8778 - val_accuracy: 0.6723\n",
      "Epoch 19/30\n",
      "219/219 [==============================] - 2s 11ms/step - loss: 1.8898 - accuracy: 0.5661 - val_loss: 1.8506 - val_accuracy: 0.6837\n",
      "Epoch 20/30\n",
      "219/219 [==============================] - 3s 12ms/step - loss: 1.8631 - accuracy: 0.5799 - val_loss: 1.8231 - val_accuracy: 0.6907\n",
      "Epoch 21/30\n",
      "219/219 [==============================] - 3s 12ms/step - loss: 1.8363 - accuracy: 0.5883 - val_loss: 1.7952 - val_accuracy: 0.6970\n",
      "Epoch 22/30\n",
      "219/219 [==============================] - 3s 11ms/step - loss: 1.8072 - accuracy: 0.6047 - val_loss: 1.7668 - val_accuracy: 0.7060\n",
      "Epoch 23/30\n",
      "219/219 [==============================] - 3s 12ms/step - loss: 1.7794 - accuracy: 0.6177 - val_loss: 1.7385 - val_accuracy: 0.7097\n",
      "Epoch 24/30\n",
      "219/219 [==============================] - 3s 12ms/step - loss: 1.7550 - accuracy: 0.6159 - val_loss: 1.7100 - val_accuracy: 0.7150\n",
      "Epoch 25/30\n",
      "219/219 [==============================] - 3s 12ms/step - loss: 1.7256 - accuracy: 0.6194 - val_loss: 1.6815 - val_accuracy: 0.7197\n",
      "Epoch 26/30\n",
      "219/219 [==============================] - 3s 12ms/step - loss: 1.7022 - accuracy: 0.6294 - val_loss: 1.6529 - val_accuracy: 0.7267\n",
      "Epoch 27/30\n",
      "219/219 [==============================] - 3s 12ms/step - loss: 1.6667 - accuracy: 0.6466 - val_loss: 1.6241 - val_accuracy: 0.7320\n",
      "Epoch 28/30\n",
      "219/219 [==============================] - 3s 12ms/step - loss: 1.6424 - accuracy: 0.6471 - val_loss: 1.5955 - val_accuracy: 0.7363\n",
      "Epoch 29/30\n",
      "219/219 [==============================] - 3s 12ms/step - loss: 1.6173 - accuracy: 0.6563 - val_loss: 1.5670 - val_accuracy: 0.7393\n",
      "Epoch 30/30\n",
      "219/219 [==============================] - 3s 12ms/step - loss: 1.5861 - accuracy: 0.6623 - val_loss: 1.5388 - val_accuracy: 0.7460\n"
     ]
    }
   ],
   "source": [
    "valoresTreino = model.fit(x_train, y_train, batch_size=32, epochs=30, verbose = 1, validation_split=0.3)"
   ]
  },
  {
   "cell_type": "code",
   "execution_count": 46,
   "metadata": {},
   "outputs": [
    {
     "data": {
      "text/plain": [
       "{'loss': [2.296135425567627,\n",
       "  2.2744810581207275,\n",
       "  2.254815101623535,\n",
       "  2.2340238094329834,\n",
       "  2.2123711109161377,\n",
       "  2.1926469802856445,\n",
       "  2.1731786727905273,\n",
       "  2.154853582382202,\n",
       "  2.130615234375,\n",
       "  2.1075894832611084,\n",
       "  2.0872390270233154,\n",
       "  2.062016248703003,\n",
       "  2.0365116596221924,\n",
       "  2.0150558948516846,\n",
       "  1.9886661767959595,\n",
       "  1.9679803848266602,\n",
       "  1.940981149673462,\n",
       "  1.9166781902313232,\n",
       "  1.8898255825042725,\n",
       "  1.8630921840667725,\n",
       "  1.8362559080123901,\n",
       "  1.807163953781128,\n",
       "  1.7793904542922974,\n",
       "  1.7549670934677124,\n",
       "  1.7255833148956299,\n",
       "  1.7021842002868652,\n",
       "  1.666710615158081,\n",
       "  1.6424013376235962,\n",
       "  1.617319941520691,\n",
       "  1.5861499309539795],\n",
       " 'accuracy': [0.12642857432365417,\n",
       "  0.16285714507102966,\n",
       "  0.19257143139839172,\n",
       "  0.23314285278320312,\n",
       "  0.2678571343421936,\n",
       "  0.3059999942779541,\n",
       "  0.3370000123977661,\n",
       "  0.3572857081890106,\n",
       "  0.38999998569488525,\n",
       "  0.4187142848968506,\n",
       "  0.44042858481407166,\n",
       "  0.4682857096195221,\n",
       "  0.48828572034835815,\n",
       "  0.5022857189178467,\n",
       "  0.5251428484916687,\n",
       "  0.5287142992019653,\n",
       "  0.5388571619987488,\n",
       "  0.5561428666114807,\n",
       "  0.5661428570747375,\n",
       "  0.5798571705818176,\n",
       "  0.5882856845855713,\n",
       "  0.6047142744064331,\n",
       "  0.6177142858505249,\n",
       "  0.6158571243286133,\n",
       "  0.6194285750389099,\n",
       "  0.6294285655021667,\n",
       "  0.6465714573860168,\n",
       "  0.6471428275108337,\n",
       "  0.6562857031822205,\n",
       "  0.6622856855392456],\n",
       " 'val_loss': [2.274961471557617,\n",
       "  2.253803253173828,\n",
       "  2.2328765392303467,\n",
       "  2.2118828296661377,\n",
       "  2.190570116043091,\n",
       "  2.169187545776367,\n",
       "  2.1475136280059814,\n",
       "  2.1254894733428955,\n",
       "  2.1028823852539062,\n",
       "  2.0798239707946777,\n",
       "  2.0563101768493652,\n",
       "  2.0323235988616943,\n",
       "  2.007716417312622,\n",
       "  1.982569694519043,\n",
       "  1.9569265842437744,\n",
       "  1.9310519695281982,\n",
       "  1.9046844244003296,\n",
       "  1.8778074979782104,\n",
       "  1.8505768775939941,\n",
       "  1.8230741024017334,\n",
       "  1.795190453529358,\n",
       "  1.7668237686157227,\n",
       "  1.7384870052337646,\n",
       "  1.710044264793396,\n",
       "  1.6814534664154053,\n",
       "  1.652881145477295,\n",
       "  1.6240733861923218,\n",
       "  1.5954809188842773,\n",
       "  1.5669924020767212,\n",
       "  1.5387579202651978],\n",
       " 'val_accuracy': [0.21400000154972076,\n",
       "  0.2893333435058594,\n",
       "  0.33899998664855957,\n",
       "  0.38066667318344116,\n",
       "  0.4163333475589752,\n",
       "  0.44999998807907104,\n",
       "  0.48366665840148926,\n",
       "  0.515666663646698,\n",
       "  0.5429999828338623,\n",
       "  0.5699999928474426,\n",
       "  0.5943333506584167,\n",
       "  0.6143333315849304,\n",
       "  0.6290000081062317,\n",
       "  0.6363333463668823,\n",
       "  0.6476666927337646,\n",
       "  0.6570000052452087,\n",
       "  0.6679999828338623,\n",
       "  0.6723333597183228,\n",
       "  0.6836666464805603,\n",
       "  0.690666675567627,\n",
       "  0.6970000267028809,\n",
       "  0.7059999704360962,\n",
       "  0.7096666693687439,\n",
       "  0.7149999737739563,\n",
       "  0.7196666598320007,\n",
       "  0.7266666889190674,\n",
       "  0.7319999933242798,\n",
       "  0.7363333106040955,\n",
       "  0.7393333315849304,\n",
       "  0.7459999918937683]}"
      ]
     },
     "execution_count": 46,
     "metadata": {},
     "output_type": "execute_result"
    }
   ],
   "source": [
    "valoresTreino.history"
   ]
  },
  {
   "cell_type": "code",
   "execution_count": 47,
   "metadata": {},
   "outputs": [
    {
     "data": {
      "image/png": "[encoded data removed]",
      "text/plain": [
       "<Figure size 432x288 with 1 Axes>"
      ]
     },
     "metadata": {
      "needs_background": "light"
     },
     "output_type": "display_data"
    }
   ],
   "source": [
    "plt.plot(valoresTreino.history['accuracy'])\n",
    "plt.plot(valoresTreino.history['val_accuracy'])\n",
    "plt.legend(['Treino', 'Validação'])\n",
    "plt.show()"
   ]
  },
  {
   "cell_type": "markdown",
   "metadata": {},
   "source": [
    "#### Pratica 2 -  Dataset FASHION_MNINST\n",
    "\n",
    "#### Descricao\n",
    "\n",
    "- Problema de classificação de roupas em escalas de cinza de tamanho 28x28\n",
    "\n",
    "Atributos\n",
    "\n",
    "- Imagens das roupas\n",
    "- Classes:\n",
    "    - 0\tT-shirt/top\n",
    "    - 1\tTrouser\n",
    "    - 2\tPullover\n",
    "    - 3\tDress\n",
    "    - 4\tCoat\n",
    "    - 5\tSandal\n",
    "    - 6\tShirt\n",
    "    - 7\tSneaker\n",
    "    - 8\tBag\n",
    "    - 9\tAnkle boot\n",
    "\n",
    "Etapas:\n",
    "1. Instale a biblioteca do keras e do tensorflow (atenção isso pode demorar um pouco, 5-10 minutos)\n",
    "```python\n",
    "%pip install --user keras\n",
    "%pip install --user tensorflow\n",
    "```\n",
    "2. Importe as bibliotecas necessárias para a classificação\n",
    "```python\n",
    "from keras.datasets import fashion_mnist\n",
    "import matplotlib.pyplot as plt\n",
    "import keras\n",
    "from keras.models import Sequential\n",
    "from keras.layers import Dense, Dropout, Flatten\n",
    "from keras.layers import Conv2D, MaxPooling2D\n",
    "import numpy as np\n",
    "```\n",
    "3. Carregue o Dataset\n",
    "```python\n",
    "(x_train, y_train), (x_test, y_test) = fashion_mnist.load_data()\n",
    "x_train = x_train[0:10000]\n",
    "y_train = y_train[0:10000]\n",
    "x_train = x_train.astype('float32')\n",
    "x_test = x_test.astype('float32')\n",
    "x_train /= 255\n",
    "x_test /= 255\n",
    "```\n",
    "4. Determine a AUC e curva RoC para detecção de camisetas (6)\n",
    "5. Tente melhorar a acurácia para detecção de camisetas (6) =)"
   ]
  },
  {
   "cell_type": "code",
   "execution_count": null,
   "metadata": {},
   "outputs": [],
   "source": []
  },
  {
   "cell_type": "markdown",
   "metadata": {},
   "source": [
    "#### Pratica 3 -  Dataset CIFAR10_MNINST\n",
    "\n",
    "#### Descricao\n",
    "\n",
    "- Problema de classificação de imagens coloridas de tamanho 32x32\n",
    "\n",
    "Atributos\n",
    "\n",
    "- Imagens\n",
    "- Classes:\n",
    "    - airplane\t\t\t\t\t\t\t\t\t\t\n",
    "    - automobile\t\t\t\t\t\t\t\t\t\t\n",
    "    - bird\t\t\t\t\t\t\t\t\t\t\n",
    "    - cat\t\t\t\t\t\t\t\t\t\t\n",
    "    - deer\t\t\t\t\t\t\t\t\t\t\n",
    "    - dog\t\t\t\t\t\t\t\t\t\t\n",
    "    - frog\t\t\t\t\t\t\t\t\t\t\n",
    "    - horse\t\t\t\t\t\t\t\t\t\t\n",
    "    - ship\t\t\t\t\t\t\t\t\t\t\n",
    "    - truck\n",
    "\n",
    "Etapas:\n",
    "1. Instale a biblioteca do keras e do tensorflow (atenção isso pode demorar um pouco, 5-10 minutos)\n",
    "```python\n",
    "%pip install --user keras\n",
    "%pip install --user tensorflow\n",
    "```\n",
    "2. Importe as bibliotecas necessárias para a classificação\n",
    "```python\n",
    "from keras.datasets import cifar10\n",
    "import matplotlib.pyplot as plt\n",
    "import keras\n",
    "from keras.models import Sequential\n",
    "from keras.layers import Dense, Dropout, Flatten\n",
    "from keras.layers import Conv2D, MaxPooling2D\n",
    "import numpy as np\n",
    "```\n",
    "3. Carregue o Dataset\n",
    "```python\n",
    "(x_train, y_train), (x_test, y_test) = cifar10.load_data()\n",
    "x_train = x_train[0:10000]\n",
    "y_train = y_train[0:10000]\n",
    "y_train = y_train.flatten()\n",
    "y_test = y_test.flatten()\n",
    "x_train = x_train.astype('float32')\n",
    "x_test = x_test.astype('float32')\n",
    "x_train /= 255\n",
    "x_test /= 255\n",
    "```\n",
    "4. Determine a AUC e curva RoC para detecção de sapos (6)\n",
    "5. Tente melhorar a acurácia para detecção de sapos (6) =)\n",
    "    - Dica, isto vai levar um tempo "
   ]
  },
  {
   "cell_type": "code",
   "execution_count": null,
   "metadata": {},
   "outputs": [],
   "source": []
  }
 ],
 "metadata": {
  "kernelspec": {
   "display_name": "Python 3",
   "language": "python",
   "name": "python3"
  },
  "language_info": {
   "codemirror_mode": {
    "name": "ipython",
    "version": 3
   },
   "file_extension": ".py",
   "mimetype": "text/x-python",
   "name": "python",
   "nbconvert_exporter": "python",
   "pygments_lexer": "ipython3",
   "version": "3.7.6"
  }
 },
 "nbformat": 4,
 "nbformat_minor": 4
}
