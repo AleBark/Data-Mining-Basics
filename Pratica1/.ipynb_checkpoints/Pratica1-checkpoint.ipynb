{
 "cells": [
  {
   "cell_type": "markdown",
   "metadata": {},
   "source": [
    "### Exercício 1\n",
    "\n",
    "#### Pratica 1 -  Dataset 2D (datasets/2d_dataset.csv)\n",
    "\n",
    "#### Descricao\n",
    "\n",
    "Atributos\n",
    "\n",
    "- alpha (numérico): valor x\n",
    "- beta (numérico): valor y\n",
    "- y (0 ou 1, numérico): classe\n",
    "\n",
    "Etapas:\n",
    "1. Importe as bibliotecas necessárias para analise dos dados\n",
    "```python\n",
    "import pandas as pd\n",
    "import numpy as np\n",
    "import seaborn as sns\n",
    "import matplotlib.pyplot as plt\n",
    "```\n",
    "2. Carregue o Dataset em um DataFrame\n",
    "```python\n",
    "df = pd.read_csv('datasets/2d_dataset.csv')\n",
    "```\n",
    "3. Analise as features através do seaborn e pandas (tipos de dados, histogramas)\n",
    "4. Plote a relação entre as classes através do matplotlib (scatter, X versus Y)\n",
    "5. Determine a quantidade de instâncias para cada classe desejada\n",
    "6. Treine um modelo de kNN (efetuando as etapas de preprocessamento necessárias)\n",
    "    - Formula de normalização\n",
    "    \\begin{equation*}\n",
    "    valor =\n",
    "    \\frac{valor - valor^{min}}{valor^{max} - valor^{min}}\n",
    "    \\end{equation*}\n",
    "7. Avalie o modelo treinado\n",
    "    - Formula da acurácia\n",
    "    \\begin{equation*}\n",
    "    Acc =\n",
    "    \\frac{Quantidade\\;de\\;eventos\\;corretamente\\;classificados}{Quantidade\\;total\\;de\\;eventos}\n",
    "    \\end{equation*}\n",
    "8. Faça busca dos melhores hiperparametros do kNN\n",
    "    - Varie de 1 a 100 a quantidade de vizinhos\n",
    "    - Plote a relação entre acurácia e quantidade de vizinhos\n",
    "    - Plote a relação entre quantidade de vizinhos e tempo de treinamento\n",
    "    - Plote a relação entre quantidade de vizinhos e tempo de teste\n",
    "    - Para medir o tempo utilize o seguinte código\n",
    "    ```python\n",
    "    import time\n",
    "    comeco = int(round(time.time() * 1000))\n",
    "    # seu codigo aqui\n",
    "    tempo_total = int(round(time.time() * 1000)) - comeco\n",
    "    ```"
   ]
  },
  {
   "cell_type": "code",
   "execution_count": 2,
   "metadata": {},
   "outputs": [],
   "source": [
    "import pandas as pd\n",
    "import numpy as np\n",
    "import seaborn as sns\n",
    "import matplotlib.pyplot as plt"
   ]
  },
  {
   "cell_type": "code",
   "execution_count": 4,
   "metadata": {},
   "outputs": [],
   "source": [
    "df = pd.read_csv('datasets/2d_dataset.csv')"
   ]
  },
  {
   "cell_type": "code",
   "execution_count": 6,
   "metadata": {},
   "outputs": [
    {
     "data": {
      "text/html": [
       "<div>\n",
       "<style scoped>\n",
       "    .dataframe tbody tr th:only-of-type {\n",
       "        vertical-align: middle;\n",
       "    }\n",
       "\n",
       "    .dataframe tbody tr th {\n",
       "        vertical-align: top;\n",
       "    }\n",
       "\n",
       "    .dataframe thead th {\n",
       "        text-align: right;\n",
       "    }\n",
       "</style>\n",
       "<table border=\"1\" class=\"dataframe\">\n",
       "  <thead>\n",
       "    <tr style=\"text-align: right;\">\n",
       "      <th></th>\n",
       "      <th>y</th>\n",
       "      <th>alpha</th>\n",
       "      <th>beta</th>\n",
       "    </tr>\n",
       "  </thead>\n",
       "  <tbody>\n",
       "    <tr>\n",
       "      <th>0</th>\n",
       "      <td>1</td>\n",
       "      <td>681</td>\n",
       "      <td>604</td>\n",
       "    </tr>\n",
       "    <tr>\n",
       "      <th>1</th>\n",
       "      <td>1</td>\n",
       "      <td>517</td>\n",
       "      <td>783</td>\n",
       "    </tr>\n",
       "    <tr>\n",
       "      <th>2</th>\n",
       "      <td>0</td>\n",
       "      <td>384</td>\n",
       "      <td>513</td>\n",
       "    </tr>\n",
       "    <tr>\n",
       "      <th>3</th>\n",
       "      <td>1</td>\n",
       "      <td>41</td>\n",
       "      <td>694</td>\n",
       "    </tr>\n",
       "    <tr>\n",
       "      <th>4</th>\n",
       "      <td>0</td>\n",
       "      <td>783</td>\n",
       "      <td>449</td>\n",
       "    </tr>\n",
       "  </tbody>\n",
       "</table>\n",
       "</div>"
      ],
      "text/plain": [
       "   y  alpha  beta\n",
       "0  1    681   604\n",
       "1  1    517   783\n",
       "2  0    384   513\n",
       "3  1     41   694\n",
       "4  0    783   449"
      ]
     },
     "execution_count": 6,
     "metadata": {},
     "output_type": "execute_result"
    }
   ],
   "source": [
    "df.head(5)"
   ]
  },
  {
   "cell_type": "code",
   "execution_count": 8,
   "metadata": {},
   "outputs": [
    {
     "data": {
      "text/plain": [
       "y        int64\n",
       "alpha    int64\n",
       "beta     int64\n",
       "dtype: object"
      ]
     },
     "execution_count": 8,
     "metadata": {},
     "output_type": "execute_result"
    }
   ],
   "source": [
    "df.dtypes"
   ]
  },
  {
   "cell_type": "code",
   "execution_count": 12,
   "metadata": {},
   "outputs": [
    {
     "data": {
      "text/html": [
       "<div>\n",
       "<style scoped>\n",
       "    .dataframe tbody tr th:only-of-type {\n",
       "        vertical-align: middle;\n",
       "    }\n",
       "\n",
       "    .dataframe tbody tr th {\n",
       "        vertical-align: top;\n",
       "    }\n",
       "\n",
       "    .dataframe thead th {\n",
       "        text-align: right;\n",
       "    }\n",
       "</style>\n",
       "<table border=\"1\" class=\"dataframe\">\n",
       "  <thead>\n",
       "    <tr style=\"text-align: right;\">\n",
       "      <th></th>\n",
       "      <th>y</th>\n",
       "      <th>alpha</th>\n",
       "      <th>beta</th>\n",
       "    </tr>\n",
       "  </thead>\n",
       "  <tbody>\n",
       "    <tr>\n",
       "      <th>count</th>\n",
       "      <td>2994.000000</td>\n",
       "      <td>2994.000000</td>\n",
       "      <td>2994.000000</td>\n",
       "    </tr>\n",
       "    <tr>\n",
       "      <th>mean</th>\n",
       "      <td>0.656981</td>\n",
       "      <td>500.917502</td>\n",
       "      <td>501.393454</td>\n",
       "    </tr>\n",
       "    <tr>\n",
       "      <th>std</th>\n",
       "      <td>0.474797</td>\n",
       "      <td>289.387318</td>\n",
       "      <td>286.933215</td>\n",
       "    </tr>\n",
       "    <tr>\n",
       "      <th>min</th>\n",
       "      <td>0.000000</td>\n",
       "      <td>0.000000</td>\n",
       "      <td>0.000000</td>\n",
       "    </tr>\n",
       "    <tr>\n",
       "      <th>25%</th>\n",
       "      <td>0.000000</td>\n",
       "      <td>248.000000</td>\n",
       "      <td>256.000000</td>\n",
       "    </tr>\n",
       "    <tr>\n",
       "      <th>50%</th>\n",
       "      <td>1.000000</td>\n",
       "      <td>505.500000</td>\n",
       "      <td>499.000000</td>\n",
       "    </tr>\n",
       "    <tr>\n",
       "      <th>75%</th>\n",
       "      <td>1.000000</td>\n",
       "      <td>755.000000</td>\n",
       "      <td>749.000000</td>\n",
       "    </tr>\n",
       "    <tr>\n",
       "      <th>max</th>\n",
       "      <td>1.000000</td>\n",
       "      <td>998.000000</td>\n",
       "      <td>999.000000</td>\n",
       "    </tr>\n",
       "  </tbody>\n",
       "</table>\n",
       "</div>"
      ],
      "text/plain": [
       "                 y        alpha         beta\n",
       "count  2994.000000  2994.000000  2994.000000\n",
       "mean      0.656981   500.917502   501.393454\n",
       "std       0.474797   289.387318   286.933215\n",
       "min       0.000000     0.000000     0.000000\n",
       "25%       0.000000   248.000000   256.000000\n",
       "50%       1.000000   505.500000   499.000000\n",
       "75%       1.000000   755.000000   749.000000\n",
       "max       1.000000   998.000000   999.000000"
      ]
     },
     "execution_count": 12,
     "metadata": {},
     "output_type": "execute_result"
    }
   ],
   "source": [
    "df.describe()"
   ]
  },
  {
   "cell_type": "code",
   "execution_count": 14,
   "metadata": {},
   "outputs": [
    {
     "data": {
      "text/plain": [
       "<seaborn.axisgrid.PairGrid at 0x7fafc28d02d0>"
      ]
     },
     "execution_count": 14,
     "metadata": {},
     "output_type": "execute_result"
    },
    {
     "data": {
      "image/png": "[encoded data removed]",
      "text/plain": [
       "<Figure size 402.375x360 with 6 Axes>"
      ]
     },
     "metadata": {
      "needs_background": "light"
     },
     "output_type": "display_data"
    }
   ],
   "source": [
    "sns.pairplot(df, hue='y')"
   ]
  },
  {
   "cell_type": "code",
   "execution_count": 25,
   "metadata": {},
   "outputs": [
    {
     "data": {
      "text/plain": [
       "KNeighborsClassifier(algorithm='auto', leaf_size=30, metric='minkowski',\n",
       "                     metric_params=None, n_jobs=None, n_neighbors=10, p=2,\n",
       "                     weights='uniform')"
      ]
     },
     "execution_count": 25,
     "metadata": {},
     "output_type": "execute_result"
    }
   ],
   "source": [
    "from sklearn.neighbors import KNeighborsClassifier\n",
    "\n",
    "classe = np.array(df['y'])\n",
    "features = np.array(df.drop('y', axis =1))\n",
    "\n",
    "features, classe\n",
    "kNN = KNeighborsClassifier(n_neighbors = 10)\n",
    "kNN.fit(features, classe)"
   ]
  },
  {
   "cell_type": "code",
   "execution_count": 28,
   "metadata": {},
   "outputs": [
    {
     "data": {
      "text/plain": [
       "array([1, 1, 0, ..., 1, 1, 1])"
      ]
     },
     "execution_count": 28,
     "metadata": {},
     "output_type": "execute_result"
    }
   ],
   "source": [
    "predicao = kNN.predict(features)\n",
    "predicao"
   ]
  },
  {
   "cell_type": "code",
   "execution_count": 30,
   "metadata": {},
   "outputs": [
    {
     "data": {
      "text/plain": [
       "array([ True,  True,  True, ...,  True,  True,  True])"
      ]
     },
     "execution_count": 30,
     "metadata": {},
     "output_type": "execute_result"
    }
   ],
   "source": [
    "predicao == classe"
   ]
  },
  {
   "cell_type": "code",
   "execution_count": 33,
   "metadata": {},
   "outputs": [
    {
     "data": {
      "text/plain": [
       "2895"
      ]
     },
     "execution_count": 33,
     "metadata": {},
     "output_type": "execute_result"
    }
   ],
   "source": [
    "len(df[predicao == classe])"
   ]
  },
  {
   "cell_type": "code",
   "execution_count": 35,
   "metadata": {},
   "outputs": [
    {
     "data": {
      "text/plain": [
       "96.69338677354709"
      ]
     },
     "execution_count": 35,
     "metadata": {},
     "output_type": "execute_result"
    }
   ],
   "source": [
    "(len(df[predicao == classe]) / len(df)) * 100"
   ]
  },
  {
   "cell_type": "markdown",
   "metadata": {},
   "source": [
    "#### Pratica 2 -  Dataset 2D (datasets/2d_dataset_1.csv)\n",
    "\n",
    "#### Descricao\n",
    "\n",
    "Atributos\n",
    "\n",
    "- alpha (numérico): valor x\n",
    "- beta (numérico): valor y\n",
    "- y (0 ou 1, numérico): classe\n",
    "\n",
    "Etapas:\n",
    "1. Importe as bibliotecas necessárias para analise dos dados\n",
    "2. Carregue o Dataset em um DataFrame\n",
    "```python\n",
    "df = pd.read_csv('datasets/2d_dataset_1.csv')\n",
    "```\n",
    "3. Analise as features através do seaborn e pandas (tipos de dados, histogramas)\n",
    "4. Plote a relação entre as classes através do matplotlib (scatter, X versus Y)\n",
    "5. Determine a quantidade de instâncias para cada classe desejada\n",
    "6. Treine um modelo de kNN (efetuando as etapas de preprocessamento necessárias)\n",
    "    - Utilize a normalização através do sklearn\n",
    "    ```python\n",
    "    from sklearn.preprocessing import MaxAbsScaler\n",
    "\n",
    "    VETOR_NUMPY_NORMALIZADO = MaxAbsScaler().fit_transform(VETOR_NUMPY)\n",
    "    ```\n",
    "7. Avalie o modelo treinado\n",
    "8. Faça busca dos melhores hiperparametros do kNN"
   ]
  },
  {
   "cell_type": "code",
   "execution_count": null,
   "metadata": {},
   "outputs": [],
   "source": []
  },
  {
   "cell_type": "markdown",
   "metadata": {},
   "source": [
    "#### Pratica 3 -  Dataset Heart Disease (datasets/heart.csv)\n",
    "\n",
    "#### Descricao\n",
    "\n",
    "Problema\n",
    "\n",
    "This database contains 76 attributes, but all published experiments refer to using a subset of 14 of them. In particular, the Cleveland database is the only one that has been used by ML researchers to this date. The \"target\" field refers to the presence of heart disease in the patient. It is integer valued from 0 (not present) or 1 (present).\n",
    "\n",
    "Atributos\n",
    "\n",
    "- age (numérico)\n",
    "- sex (numérico)\n",
    "- chest pain type (4 values) (numérico)\n",
    "- resting blood pressure (numérico)\n",
    "- serum cholestoral in mg/dl (numérico)\n",
    "- fasting blood sugar > 120 mg/dl (numérico)\n",
    "- resting electrocardiographic results (values 0,1,2) (numérico)\n",
    "- maximum heart rate achieved (numérico)\n",
    "- exercise induced angina (numérico)\n",
    "- oldpeak = ST depression induced by exercise relative to rest (numérico)\n",
    "- the slope of the peak exercise ST segment (numérico)\n",
    "- number of major vessels (0-3) colored by flourosopy (numérico)\n",
    "- thal: 3 = normal; 6 = fixed defect; 7 = reversable defect (numérico)\n",
    "- target (0 ou 1, numérico): classe\n",
    "\n",
    "Etapas:\n",
    "1. Faça busca dos melhores hiperparametros do kNN para o dataset acima"
   ]
  },
  {
   "cell_type": "code",
   "execution_count": null,
   "metadata": {},
   "outputs": [],
   "source": []
  },
  {
   "cell_type": "markdown",
   "metadata": {},
   "source": [
    "#### Pratica 4 -  Income Classification (datasets/income.csv)\n",
    "\n",
    "#### Descricao\n",
    "\n",
    "Problema\n",
    "\n",
    "The Us Adult income dataset was extracted by Barry Becker from the 1994 US Census Database. The data set consists of anonymous information such as occupation, age, native country, race, capital gain, capital loss, education, work class and more.\n",
    "Each row is labelled as either having a salary greater than \">50K\" or \"<=50K\".\n",
    "\n",
    "Atributos\n",
    "\n",
    "- age (numérico): idade.\n",
    "- workclass (nominal): Private, Self-emp-not-inc, Self-emp-inc, Federal-gov, Local-gov, State-gov, Without-pay, Never-worked.\n",
    "- fnlwgt (numérico): continuous.\n",
    "- education (nominal): Bachelors, Some-college, 11th, HS-grad, Prof-school, Assoc-acdm, Assoc-voc, 9th, 7th-8th, 12th, Masters, 1st-4th, 10th, Doctorate, 5th-6th, Preschool.\n",
    "- education-num (numérico): continuous.\n",
    "- marital-status (nominal): Married-civ-spouse, Divorced, Never-married, Separated, Widowed, Married-spouse-absent, Married-AF-spouse.\n",
    "- occupation (nominal): Tech-support, Craft-repair, Other-service, Sales, Exec-managerial, Prof-specialty, Handlers-cleaners, Machine-op-inspct, Adm-clerical, Farming-fishing, Transport-moving, Priv-house-serv, Protective-serv, Armed-Forces.\n",
    "- relationship (nominal): Wife, Own-child, Husband, Not-in-family, Other-relative, Unmarried.\n",
    "- race (nominal): White, Asian-Pac-Islander, Amer-Indian-Eskimo, Other, Black.\n",
    "- sex (nominal): Female, Male.\n",
    "- capital-gain (numérico): continuous.\n",
    "- capital-loss (numérico): continuous.\n",
    "- hours-per-week (numérico): continuous.\n",
    "- native-country (nominal): United-States, Cambodia, England, Puerto-Rico, Canada, Germany, Outlying-US(Guam-USVI-etc), India, Japan, Greece, South, China, Cuba, Iran, Honduras, Philippines, Italy, Poland, Jamaica, Vietnam, Mexico, Portugal, Ireland, France, Dominican-Republic, Laos, Ecuador, Taiwan, Haiti, Columbia, Hungary, Guatemala, Nicaragua, Scotland, Thailand, Yugoslavia, El-Salvador, Trinadad&Tobago, Peru, Hong, Holand-Netherlands.\n",
    "- income (>50K ou <=50K, nominal): classe\n",
    "\n",
    "Etapas:\n",
    "1. Faça busca dos melhores hiperparametros do kNN para o dataset acima utilizando os primeiros 2000 eventos apenas\n",
    "    - Atenção este dataset possui dados nominais!\n",
    "        ```python\n",
    "        dfNumerico = pd.get_dummies(df, prefix_sep='_', drop_first=True)\n",
    "        dfNumerico = dfNumerico.head(2000)\n",
    "        ```\n",
    "2. Baseado no melhor K encontrado no experimento acima, faça um teste relacionando a quantidade de instâncias (1 mil a 10 mil), acurácia e tempo de teste"
   ]
  },
  {
   "cell_type": "code",
   "execution_count": null,
   "metadata": {},
   "outputs": [],
   "source": []
  },
  {
   "cell_type": "markdown",
   "metadata": {},
   "source": [
    "#### Pratica 5 -  Classificação de RaioX relacionado a Covid-19 (datasets/covid/covid.csv)\n",
    "\n",
    "#### Descricao\n",
    "\n",
    "Problema\n",
    "\n",
    "Dataset com raio-X de pacientes com e sem COVID-19.\n",
    "- Pasta datasets/covid/Normal possui os arquivos originais com pacientes sem COVID-19\n",
    "- Pasta datasets/covid/Covid possui os arquivos originais com pacientes com COVID-19\n",
    "Dataset\n",
    "\n",
    "Atributos\n",
    "\n",
    "- histo_0 (numérico): Ocorrencias do pixel com valor 0 na imagem de entrada\n",
    "- histo_1 (numérico): Ocorrencias do pixel com valor 1 na imagem de entrada\n",
    "- ...\n",
    "- histo_255 (numérico): Ocorrencias do pixel com valor 255 na imagem de entrada\n",
    "- arquivo (nominal): nome do arquivo que gerou a entrada (estará nas pastas datasets/covid/Covid ou datasets/covid/Normal de acordo com a sua label\n",
    "- label (normal ou covid, nominal): classe\n",
    "\n",
    "Etapas:\n",
    "1. Faça busca dos melhores hiperparametros do kNN para o dataset acima (k entre 10 a 100)\n",
    "2. Para o melhor K\n",
    "    - Liste os arquivos classificados erroneamente pelo classificador"
   ]
  }
 ],
 "metadata": {
  "kernelspec": {
   "display_name": "Python 3",
   "language": "python",
   "name": "python3"
  },
  "language_info": {
   "codemirror_mode": {
    "name": "ipython",
    "version": 3
   },
   "file_extension": ".py",
   "mimetype": "text/x-python",
   "name": "python",
   "nbconvert_exporter": "python",
   "pygments_lexer": "ipython3",
   "version": "3.7.6"
  }
 },
 "nbformat": 4,
 "nbformat_minor": 4
}
