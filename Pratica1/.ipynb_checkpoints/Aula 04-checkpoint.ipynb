{
 "cells": [
  {
   "cell_type": "code",
   "execution_count": 4,
   "metadata": {},
   "outputs": [],
   "source": [
    "import numpy as np\n",
    "import pandas as pd\n",
    "import seaborn as sns\n",
    "import matplotlib.pyplot as plt"
   ]
  },
  {
   "cell_type": "code",
   "execution_count": 6,
   "metadata": {},
   "outputs": [],
   "source": [
    "# Base de dados de análise de crédito\n",
    "df = pd.read_csv('http://www.ppgia.pucpr.br/~jean.barddal/datascience/ommlbd_familiar.csv')"
   ]
  },
  {
   "cell_type": "code",
   "execution_count": 31,
   "metadata": {},
   "outputs": [
    {
     "data": {
      "text/html": [
       "<div>\n",
       "<style scoped>\n",
       "    .dataframe tbody tr th:only-of-type {\n",
       "        vertical-align: middle;\n",
       "    }\n",
       "\n",
       "    .dataframe tbody tr th {\n",
       "        vertical-align: top;\n",
       "    }\n",
       "\n",
       "    .dataframe thead th {\n",
       "        text-align: right;\n",
       "    }\n",
       "</style>\n",
       "<table border=\"1\" class=\"dataframe\">\n",
       "  <thead>\n",
       "    <tr style=\"text-align: right;\">\n",
       "      <th></th>\n",
       "      <th>HS_CPF</th>\n",
       "      <th>QTDPESSOASCASA</th>\n",
       "      <th>MENORRENDACASA</th>\n",
       "      <th>MAIORRENDACASA</th>\n",
       "      <th>SOMARENDACASA</th>\n",
       "      <th>MEDIARENDACASA</th>\n",
       "      <th>MAIORIDADECASA</th>\n",
       "      <th>MENORIDADECASA</th>\n",
       "      <th>MEDIAIDADECASA</th>\n",
       "      <th>INDICMENORDEIDADE</th>\n",
       "      <th>COBRANCABAIXOCASA</th>\n",
       "      <th>COBRANCAMEDIOCASA</th>\n",
       "      <th>COBRANCAALTACASA</th>\n",
       "      <th>SEGMENTACAOFINBAIXACASA</th>\n",
       "      <th>SEGMENTACAOFINMEDIACASA</th>\n",
       "      <th>SEGMENTACAOALTACASA</th>\n",
       "      <th>BOLSAFAMILIACASA</th>\n",
       "      <th>FUNCIONARIOPUBLICOCASA</th>\n",
       "      <th>FAIXA_RENDA_MENSAL</th>\n",
       "    </tr>\n",
       "  </thead>\n",
       "  <tbody>\n",
       "    <tr>\n",
       "      <th>0</th>\n",
       "      <td>23325</td>\n",
       "      <td>-9999</td>\n",
       "      <td>-9999</td>\n",
       "      <td>-9999</td>\n",
       "      <td>-9999</td>\n",
       "      <td>-9999</td>\n",
       "      <td>-9999</td>\n",
       "      <td>-9999</td>\n",
       "      <td>-9999</td>\n",
       "      <td>-9999</td>\n",
       "      <td>-9999</td>\n",
       "      <td>-9999</td>\n",
       "      <td>-9999</td>\n",
       "      <td>-9999</td>\n",
       "      <td>-9999</td>\n",
       "      <td>-9999</td>\n",
       "      <td>-9999</td>\n",
       "      <td>-9999</td>\n",
       "      <td>(-inf, 1000.0]</td>\n",
       "    </tr>\n",
       "    <tr>\n",
       "      <th>1</th>\n",
       "      <td>667198</td>\n",
       "      <td>-9999</td>\n",
       "      <td>-9999</td>\n",
       "      <td>-9999</td>\n",
       "      <td>-9999</td>\n",
       "      <td>-9999</td>\n",
       "      <td>-9999</td>\n",
       "      <td>-9999</td>\n",
       "      <td>-9999</td>\n",
       "      <td>-9999</td>\n",
       "      <td>-9999</td>\n",
       "      <td>-9999</td>\n",
       "      <td>-9999</td>\n",
       "      <td>-9999</td>\n",
       "      <td>-9999</td>\n",
       "      <td>-9999</td>\n",
       "      <td>-9999</td>\n",
       "      <td>-9999</td>\n",
       "      <td>(-inf, 1000.0]</td>\n",
       "    </tr>\n",
       "    <tr>\n",
       "      <th>2</th>\n",
       "      <td>116666</td>\n",
       "      <td>-9999</td>\n",
       "      <td>-9999</td>\n",
       "      <td>-9999</td>\n",
       "      <td>-9999</td>\n",
       "      <td>-9999</td>\n",
       "      <td>-9999</td>\n",
       "      <td>-9999</td>\n",
       "      <td>-9999</td>\n",
       "      <td>-9999</td>\n",
       "      <td>-9999</td>\n",
       "      <td>-9999</td>\n",
       "      <td>-9999</td>\n",
       "      <td>-9999</td>\n",
       "      <td>-9999</td>\n",
       "      <td>-9999</td>\n",
       "      <td>-9999</td>\n",
       "      <td>-9999</td>\n",
       "      <td>(-inf, 1000.0]</td>\n",
       "    </tr>\n",
       "    <tr>\n",
       "      <th>3</th>\n",
       "      <td>129342</td>\n",
       "      <td>2</td>\n",
       "      <td>1000</td>\n",
       "      <td>1200</td>\n",
       "      <td>2200</td>\n",
       "      <td>1100</td>\n",
       "      <td>54</td>\n",
       "      <td>29</td>\n",
       "      <td>41</td>\n",
       "      <td>0</td>\n",
       "      <td>0</td>\n",
       "      <td>0</td>\n",
       "      <td>0</td>\n",
       "      <td>0</td>\n",
       "      <td>0</td>\n",
       "      <td>0</td>\n",
       "      <td>0</td>\n",
       "      <td>0</td>\n",
       "      <td>(1000.0, 2000.0]</td>\n",
       "    </tr>\n",
       "    <tr>\n",
       "      <th>4</th>\n",
       "      <td>681531</td>\n",
       "      <td>5</td>\n",
       "      <td>400</td>\n",
       "      <td>1400</td>\n",
       "      <td>4400</td>\n",
       "      <td>880</td>\n",
       "      <td>43</td>\n",
       "      <td>16</td>\n",
       "      <td>25</td>\n",
       "      <td>1</td>\n",
       "      <td>0</td>\n",
       "      <td>0</td>\n",
       "      <td>0</td>\n",
       "      <td>0</td>\n",
       "      <td>0</td>\n",
       "      <td>0</td>\n",
       "      <td>1</td>\n",
       "      <td>1</td>\n",
       "      <td>(-inf, 1000.0]</td>\n",
       "    </tr>\n",
       "  </tbody>\n",
       "</table>\n",
       "</div>"
      ],
      "text/plain": [
       "   HS_CPF  QTDPESSOASCASA  MENORRENDACASA  MAIORRENDACASA  SOMARENDACASA  \\\n",
       "0   23325           -9999           -9999           -9999          -9999   \n",
       "1  667198           -9999           -9999           -9999          -9999   \n",
       "2  116666           -9999           -9999           -9999          -9999   \n",
       "3  129342               2            1000            1200           2200   \n",
       "4  681531               5             400            1400           4400   \n",
       "\n",
       "   MEDIARENDACASA  MAIORIDADECASA  MENORIDADECASA  MEDIAIDADECASA  \\\n",
       "0           -9999           -9999           -9999           -9999   \n",
       "1           -9999           -9999           -9999           -9999   \n",
       "2           -9999           -9999           -9999           -9999   \n",
       "3            1100              54              29              41   \n",
       "4             880              43              16              25   \n",
       "\n",
       "   INDICMENORDEIDADE  COBRANCABAIXOCASA  COBRANCAMEDIOCASA  COBRANCAALTACASA  \\\n",
       "0              -9999              -9999              -9999             -9999   \n",
       "1              -9999              -9999              -9999             -9999   \n",
       "2              -9999              -9999              -9999             -9999   \n",
       "3                  0                  0                  0                 0   \n",
       "4                  1                  0                  0                 0   \n",
       "\n",
       "   SEGMENTACAOFINBAIXACASA  SEGMENTACAOFINMEDIACASA  SEGMENTACAOALTACASA  \\\n",
       "0                    -9999                    -9999                -9999   \n",
       "1                    -9999                    -9999                -9999   \n",
       "2                    -9999                    -9999                -9999   \n",
       "3                        0                        0                    0   \n",
       "4                        0                        0                    0   \n",
       "\n",
       "   BOLSAFAMILIACASA  FUNCIONARIOPUBLICOCASA FAIXA_RENDA_MENSAL  \n",
       "0             -9999                   -9999     (-inf, 1000.0]  \n",
       "1             -9999                   -9999     (-inf, 1000.0]  \n",
       "2             -9999                   -9999     (-inf, 1000.0]  \n",
       "3                 0                       0   (1000.0, 2000.0]  \n",
       "4                 1                       1     (-inf, 1000.0]  "
      ]
     },
     "execution_count": 31,
     "metadata": {},
     "output_type": "execute_result"
    }
   ],
   "source": [
    "df.head(5)"
   ]
  },
  {
   "cell_type": "code",
   "execution_count": 39,
   "metadata": {},
   "outputs": [],
   "source": [
    "df.replace(-9999, np.nan, inplace=True)"
   ]
  },
  {
   "cell_type": "code",
   "execution_count": 40,
   "metadata": {},
   "outputs": [
    {
     "data": {
      "text/plain": [
       "<matplotlib.axes._subplots.AxesSubplot at 0x7f55892d0d90>"
      ]
     },
     "execution_count": 40,
     "metadata": {},
     "output_type": "execute_result"
    },
    {
     "data": {
      "image/png": "[encoded data removed]",
      "text/plain": [
       "<Figure size 432x288 with 1 Axes>"
      ]
     },
     "metadata": {
      "needs_background": "light"
     },
     "output_type": "display_data"
    }
   ],
   "source": [
    "# Distplot (y = densisdade / quantidade)\n",
    "sns.distplot(df['MEDIARENDACASA'],kde = False)"
   ]
  },
  {
   "cell_type": "code",
   "execution_count": 34,
   "metadata": {},
   "outputs": [
    {
     "data": {
      "text/plain": [
       "<matplotlib.axes._subplots.AxesSubplot at 0x7f558945c710>"
      ]
     },
     "execution_count": 34,
     "metadata": {},
     "output_type": "execute_result"
    },
    {
     "data": {
      "image/png": "[encoded data removed]",
      "text/plain": [
       "<Figure size 432x288 with 1 Axes>"
      ]
     },
     "metadata": {
      "needs_background": "light"
     },
     "output_type": "display_data"
    }
   ],
   "source": [
    "# Boxplot\n",
    "sns.boxplot(df['MEDIARENDACASA'])"
   ]
  },
  {
   "cell_type": "code",
   "execution_count": 35,
   "metadata": {},
   "outputs": [
    {
     "data": {
      "text/plain": [
       "<matplotlib.axes._subplots.AxesSubplot at 0x7f5589430650>"
      ]
     },
     "execution_count": 35,
     "metadata": {},
     "output_type": "execute_result"
    },
    {
     "data": {
      "image/png": "[encoded data removed]",
      "text/plain": [
       "<Figure size 432x288 with 1 Axes>"
      ]
     },
     "metadata": {
      "needs_background": "light"
     },
     "output_type": "display_data"
    }
   ],
   "source": [
    "# Kdeplot\n",
    "sns.kdeplot(df['MEDIARENDACASA'])"
   ]
  },
  {
   "cell_type": "code",
   "execution_count": 37,
   "metadata": {},
   "outputs": [
    {
     "data": {
      "text/plain": [
       "<matplotlib.axes._subplots.AxesSubplot at 0x7f5589367290>"
      ]
     },
     "execution_count": 37,
     "metadata": {},
     "output_type": "execute_result"
    },
    {
     "data": {
      "image/png": "[encoded data removed]",
      "text/plain": [
       "<Figure size 432x288 with 1 Axes>"
      ]
     },
     "metadata": {
      "needs_background": "light"
     },
     "output_type": "display_data"
    }
   ],
   "source": [
    "# Violinplot\n",
    "sns.violinplot(df['MEDIARENDACASA'])"
   ]
  },
  {
   "cell_type": "code",
   "execution_count": 30,
   "metadata": {},
   "outputs": [
    {
     "data": {
      "image/png": "[encoded data removed]",
      "text/plain": [
       "<Figure size 432x288 with 1 Axes>"
      ]
     },
     "metadata": {
      "needs_background": "light"
     },
     "output_type": "display_data"
    }
   ],
   "source": [
    "# Agrupando a renda em faixas\n",
    "\n",
    "# Faixa 1: < 1000\n",
    "# Faixa 2: < 2000\n",
    "# Faixa 3: < 4000\n",
    "# Faixa 4: acima de 4000\n",
    "\n",
    "# Pesquisar sobre comando QCUT (quantiles)\n",
    "\n",
    "df['FAIXA_RENDA_MENSAL'] = pd.cut(df['MEDIARENDACASA'], [float('-inf'), 1000 , 2000,4000, float('inf')])\n",
    "\n",
    "sns.countplot(df['FAIXA_RENDA_MENSAL'])\n",
    "plt.show()"
   ]
  }
 ],
 "metadata": {
  "kernelspec": {
   "display_name": "Python 3",
   "language": "python",
   "name": "python3"
  },
  "language_info": {
   "codemirror_mode": {
    "name": "ipython",
    "version": 3
   },
   "file_extension": ".py",
   "mimetype": "text/x-python",
   "name": "python",
   "nbconvert_exporter": "python",
   "pygments_lexer": "ipython3",
   "version": "3.7.6"
  }
 },
 "nbformat": 4,
 "nbformat_minor": 4
}
