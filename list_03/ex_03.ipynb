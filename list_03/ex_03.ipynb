{
 "cells": [
  {
   "cell_type": "markdown",
   "metadata": {},
   "source": [
    "### Exercício 3\n",
    "\n",
    "#### Pratica 1 -  Dataset 2D (datasets/2d_dataset.csv)\n",
    "\n",
    "#### Descricao\n",
    "\n",
    "Atributos\n",
    "\n",
    "- alpha (numérico): valor x\n",
    "- beta (numérico): valor y\n",
    "- y (0 ou 1, numérico): classe\n",
    "\n",
    "Etapas:\n",
    "1. Importe as bibliotecas necessárias para analise dos dados\n",
    "```python\n",
    "import pandas as pd\n",
    "import numpy as np\n",
    "import seaborn as sns\n",
    "import matplotlib.pyplot as plt\n",
    "```\n",
    "2. Carregue o Dataset em um DataFrame\n",
    "```python\n",
    "df = pd.read_csv('datasets/2d_dataset.csv')\n",
    "```\n",
    "3. Treine modelos de:\n",
    "    1. kNN (efetuando as etapas de preprocessamento necessárias)\n",
    "    2. Árvore de Decisão (efetuando as etapas de preprocessamento necessárias)\n",
    "    3. Random Forest (efetuando as etapas de preprocessamento necessárias)\n",
    "4. Avalie os modelos treinados considerando:\n",
    "    1. Matriz de Confusão\n",
    "    2. Acurácia\n",
    "        \\begin{equation*}\n",
    "        Acc =\n",
    "        \\frac{Quantidade\\;de\\;eventos\\;corretamente\\;classificados}{Quantidade\\;total\\;de\\;eventos}\n",
    "        \\end{equation*}\n",
    "    3. Falso-Positivo\n",
    "        \\begin{equation*}\n",
    "        FP =\n",
    "        \\frac{FP}{FP+TN}\n",
    "        \\end{equation*}\n",
    "    4. Falso-Negativo\n",
    "        \\begin{equation*}\n",
    "        FN =\n",
    "        \\frac{FN}{FN+TP}\n",
    "        \\end{equation*}\n",
    "    5. Verdadeiro-Positivo\n",
    "        \\begin{equation*}\n",
    "        TP =\n",
    "        \\frac{TP}{TP+FN}\n",
    "        \\end{equation*}\n",
    "    6. Verdadeiro-Negativo\n",
    "        \\begin{equation*}\n",
    "        TN =\n",
    "        \\frac{TN}{TN+FP}\n",
    "        \\end{equation*}\n",
    "    7. F-measure\n",
    "        \\begin{equation*}\n",
    "        Precisão =\n",
    "        \\frac{TP}{TP+FP}\n",
    "        \\end{equation*}\n",
    "        \n",
    "        \\begin{equation*}\n",
    "        Recall =\n",
    "        \\frac{TP}{TP+FN}\n",
    "        \\end{equation*}\n",
    "        \n",
    "        \\begin{equation*}\n",
    "        FScore =\n",
    "        \\frac{2*Recall*Precisão}{Precisao+Recall}\n",
    "        \\end{equation*}\n",
    "        \n",
    "5. Repita os passos 3 e 4 utilizando a abordagem de holdout (70% para treinamento, 30% para teste), identifique o ponto de operação com a generalização\n",
    "6. Repita os passos 3 e 4 utilizando a abordagem de validação cruzada (5 folds)"
   ]
  },
  {
   "cell_type": "code",
   "execution_count": 57,
   "metadata": {},
   "outputs": [],
   "source": [
    "import time\n",
    "import pandas as pd\n",
    "import numpy as np\n",
    "import seaborn as sns\n",
    "import seaborn as sns\n",
    "import matplotlib.pyplot as plt"
   ]
  },
  {
   "cell_type": "code",
   "execution_count": 58,
   "metadata": {},
   "outputs": [],
   "source": [
    "df = pd.read_csv('datasets/2d_dataset.csv')"
   ]
  },
  {
   "cell_type": "code",
   "execution_count": 59,
   "metadata": {},
   "outputs": [
    {
     "data": {
      "text/html": [
       "<div>\n",
       "<style scoped>\n",
       "    .dataframe tbody tr th:only-of-type {\n",
       "        vertical-align: middle;\n",
       "    }\n",
       "\n",
       "    .dataframe tbody tr th {\n",
       "        vertical-align: top;\n",
       "    }\n",
       "\n",
       "    .dataframe thead th {\n",
       "        text-align: right;\n",
       "    }\n",
       "</style>\n",
       "<table border=\"1\" class=\"dataframe\">\n",
       "  <thead>\n",
       "    <tr style=\"text-align: right;\">\n",
       "      <th></th>\n",
       "      <th>y</th>\n",
       "      <th>alpha</th>\n",
       "      <th>beta</th>\n",
       "    </tr>\n",
       "  </thead>\n",
       "  <tbody>\n",
       "    <tr>\n",
       "      <th>count</th>\n",
       "      <td>2994.000000</td>\n",
       "      <td>2994.000000</td>\n",
       "      <td>2994.000000</td>\n",
       "    </tr>\n",
       "    <tr>\n",
       "      <th>mean</th>\n",
       "      <td>0.656981</td>\n",
       "      <td>500.917502</td>\n",
       "      <td>501.393454</td>\n",
       "    </tr>\n",
       "    <tr>\n",
       "      <th>std</th>\n",
       "      <td>0.474797</td>\n",
       "      <td>289.387318</td>\n",
       "      <td>286.933215</td>\n",
       "    </tr>\n",
       "    <tr>\n",
       "      <th>min</th>\n",
       "      <td>0.000000</td>\n",
       "      <td>0.000000</td>\n",
       "      <td>0.000000</td>\n",
       "    </tr>\n",
       "    <tr>\n",
       "      <th>25%</th>\n",
       "      <td>0.000000</td>\n",
       "      <td>248.000000</td>\n",
       "      <td>256.000000</td>\n",
       "    </tr>\n",
       "    <tr>\n",
       "      <th>50%</th>\n",
       "      <td>1.000000</td>\n",
       "      <td>505.500000</td>\n",
       "      <td>499.000000</td>\n",
       "    </tr>\n",
       "    <tr>\n",
       "      <th>75%</th>\n",
       "      <td>1.000000</td>\n",
       "      <td>755.000000</td>\n",
       "      <td>749.000000</td>\n",
       "    </tr>\n",
       "    <tr>\n",
       "      <th>max</th>\n",
       "      <td>1.000000</td>\n",
       "      <td>998.000000</td>\n",
       "      <td>999.000000</td>\n",
       "    </tr>\n",
       "  </tbody>\n",
       "</table>\n",
       "</div>"
      ],
      "text/plain": [
       "                 y        alpha         beta\n",
       "count  2994.000000  2994.000000  2994.000000\n",
       "mean      0.656981   500.917502   501.393454\n",
       "std       0.474797   289.387318   286.933215\n",
       "min       0.000000     0.000000     0.000000\n",
       "25%       0.000000   248.000000   256.000000\n",
       "50%       1.000000   505.500000   499.000000\n",
       "75%       1.000000   755.000000   749.000000\n",
       "max       1.000000   998.000000   999.000000"
      ]
     },
     "execution_count": 59,
     "metadata": {},
     "output_type": "execute_result"
    }
   ],
   "source": [
    "df.describe()"
   ]
  },
  {
   "cell_type": "code",
   "execution_count": 60,
   "metadata": {},
   "outputs": [],
   "source": [
    "from sklearn.metrics import accuracy_score\n",
    "from sklearn.neighbors import KNeighborsClassifier\n",
    "from sklearn.tree import DecisionTreeClassifier\n",
    "from sklearn.ensemble import RandomForestClassifier\n",
    "from sklearn.preprocessing import MaxAbsScaler\n",
    "from sklearn.metrics import confusion_matrix\n",
    "from sklearn.metrics import f1_score\n",
    "from sklearn.metrics import ConfusionMatrixDisplay"
   ]
  },
  {
   "cell_type": "code",
   "execution_count": 61,
   "metadata": {},
   "outputs": [],
   "source": [
    "features = np.array(df.drop(['y'], axis = 1))\n",
    "label = np.array(df.y)\n",
    "\n",
    "scaler = MaxAbsScaler()\n",
    "scaler.fit(features)\n",
    "featuresNormalizadas = scaler.transform(features)"
   ]
  },
  {
   "cell_type": "code",
   "execution_count": 62,
   "metadata": {},
   "outputs": [
    {
     "ename": "NameError",
     "evalue": "name 'predictForestknn' is not defined",
     "output_type": "error",
     "traceback": [
      "\u001b[0;31m---------------------------------------------------------------------------\u001b[0m",
      "\u001b[0;31mNameError\u001b[0m                                 Traceback (most recent call last)",
      "\u001b[0;32m<ipython-input-62-a9f343d1ad40>\u001b[0m in \u001b[0;36m<module>\u001b[0;34m\u001b[0m\n\u001b[1;32m     14\u001b[0m \u001b[0mknn\u001b[0m \u001b[0;34m=\u001b[0m \u001b[0mKNeighborsClassifier\u001b[0m\u001b[0;34m(\u001b[0m\u001b[0mn_neighbors\u001b[0m \u001b[0;34m=\u001b[0m \u001b[0;36m5\u001b[0m\u001b[0;34m)\u001b[0m\u001b[0;34m\u001b[0m\u001b[0;34m\u001b[0m\u001b[0m\n\u001b[1;32m     15\u001b[0m \u001b[0mknn\u001b[0m\u001b[0;34m.\u001b[0m\u001b[0mfit\u001b[0m\u001b[0;34m(\u001b[0m\u001b[0mfeaturesNormalizadas\u001b[0m\u001b[0;34m,\u001b[0m \u001b[0mlabel\u001b[0m\u001b[0;34m)\u001b[0m\u001b[0;34m\u001b[0m\u001b[0;34m\u001b[0m\u001b[0m\n\u001b[0;32m---> 16\u001b[0;31m \u001b[0mpredicaoKNN\u001b[0m \u001b[0;34m=\u001b[0m \u001b[0mpredictForestknn\u001b[0m\u001b[0;34m.\u001b[0m\u001b[0mpredict\u001b[0m\u001b[0;34m(\u001b[0m\u001b[0mfeaturesNormalizadas\u001b[0m\u001b[0;34m)\u001b[0m\u001b[0;34m\u001b[0m\u001b[0;34m\u001b[0m\u001b[0m\n\u001b[0m\u001b[1;32m     17\u001b[0m \u001b[0maccKNN\u001b[0m \u001b[0;34m=\u001b[0m \u001b[0maccuracy_score\u001b[0m\u001b[0;34m(\u001b[0m\u001b[0mpredicaoKNN\u001b[0m\u001b[0;34m,\u001b[0m \u001b[0mlabel\u001b[0m\u001b[0;34m)\u001b[0m\u001b[0;34m\u001b[0m\u001b[0;34m\u001b[0m\u001b[0m\n\u001b[1;32m     18\u001b[0m \u001b[0;34m\u001b[0m\u001b[0m\n",
      "\u001b[0;31mNameError\u001b[0m: name 'predictForestknn' is not defined"
     ]
    }
   ],
   "source": [
    "#Decision Tree\n",
    "tree = DecisionTreeClassifier(min_samples_split = 50)\n",
    "tree.fit(featuresNormalizadas, label)\n",
    "predictTree = tree.predict(featuresNormalizadas)\n",
    "accTree = accuracy_score(predictTree, label)\n",
    "\n",
    "#Random Forest\n",
    "forest = RandomForestClassifier(n_estimators = 10)\n",
    "forest.fit(featuresNormalizadas, label)\n",
    "predictForest = forest.predict(featuresNormalizadas)\n",
    "accForest = accuracy_score(predictForest, label)\n",
    "\n",
    "#KNeighbors Classifier\n",
    "knn = KNeighborsClassifier(n_neighbors = 5)\n",
    "knn.fit(featuresNormalizadas, label)\n",
    "predicaoKNN = predictForestknn.predict(featuresNormalizadas)\n",
    "accKNN = accuracy_score(predicaoKNN, label)\n",
    "\n",
    "accTree,accForest,accKNN"
   ]
  },
  {
   "cell_type": "code",
   "execution_count": null,
   "metadata": {},
   "outputs": [],
   "source": [
    "matrix = confusion_matrix(predictTree, label)\n",
    "\n",
    "tpr = matrix[0][0] / matrix[0].sum()\n",
    "fnr = matrix[0][1] / matrix[0].sum()\n",
    "tnr = matrix[1][1] / matrix[1].sum()\n",
    "fpr = matrix[1][0] / matrix[1].sum()\n",
    "\n",
    "matrix"
   ]
  },
  {
   "cell_type": "code",
   "execution_count": null,
   "metadata": {},
   "outputs": [],
   "source": [
    "ConfusionMatrixDisplay(confusion_matrix(label, predictTree), display_labels=['negativo', 'positivo']).plot(values_format= '1g')"
   ]
  },
  {
   "cell_type": "code",
   "execution_count": null,
   "metadata": {},
   "outputs": [],
   "source": [
    "print(\"True positive rate:\", tpr)\n",
    "print(\"False negative rate\", fnr)\n",
    "print(\"True negative rate\",  tnr)\n",
    "print(\"False positive rate\", fpr)\n",
    "print(\"F1 score\", f1_score(label, predictTree))"
   ]
  },
  {
   "cell_type": "code",
   "execution_count": null,
   "metadata": {},
   "outputs": [],
   "source": [
    "matrix = confusion_matrix(predictForest, label)\n",
    "\n",
    "tpr = matrix[0][0] / matrix[0].sum()\n",
    "fnr = matrix[0][1] / matrix[0].sum()\n",
    "tnr = matrix[1][1] / matrix[1].sum()\n",
    "fpr = matrix[1][0] / matrix[1].sum()\n",
    "\n",
    "matrix"
   ]
  },
  {
   "cell_type": "code",
   "execution_count": null,
   "metadata": {},
   "outputs": [],
   "source": [
    "ConfusionMatrixDisplay(confusion_matrix(label, predictForest), display_labels=['negativo', 'positivo']).plot(values_format= '1g')"
   ]
  },
  {
   "cell_type": "code",
   "execution_count": null,
   "metadata": {},
   "outputs": [],
   "source": [
    "print(\"True positive rate:\", tpr)\n",
    "print(\"False negative rate\", fnr)\n",
    "print(\"True negative rate\",  tnr)\n",
    "print(\"False positive rate\", fpr)\n",
    "print(\"F1 score\", f1_score(label, predictForest))"
   ]
  },
  {
   "cell_type": "code",
   "execution_count": null,
   "metadata": {},
   "outputs": [],
   "source": [
    "matrix = confusion_matrix(predicaoKNN, label)\n",
    "\n",
    "tpr = matrix[0][0] / matrix[0].sum()\n",
    "fnr = matrix[0][1] / matrix[0].sum()\n",
    "tnr = matrix[1][1] / matrix[1].sum()\n",
    "fpr = matrix[1][0] / matrix[1].sum()\n",
    "\n",
    "matrix"
   ]
  },
  {
   "cell_type": "code",
   "execution_count": null,
   "metadata": {},
   "outputs": [],
   "source": [
    "ConfusionMatrixDisplay(confusion_matrix(label, predicaoKNN), display_labels=['negativo', 'positivo']).plot(values_format= '1g')"
   ]
  },
  {
   "cell_type": "code",
   "execution_count": null,
   "metadata": {},
   "outputs": [],
   "source": [
    "print(\"True positive rate:\", tpr)\n",
    "print(\"False negative rate\", fnr)\n",
    "print(\"True negative rate\",  tnr)\n",
    "print(\"False positive rate\", fpr)\n",
    "print(\"F1 score\", f1_score(label, predicaoKNN))"
   ]
  },
  {
   "cell_type": "code",
   "execution_count": null,
   "metadata": {},
   "outputs": [],
   "source": [
    "from sklearn.model_selection import train_test_split\n",
    "\n",
    "featuresTreino, featuresTeste, labelTreino, labelTeste = train_test_split(featuresNormalizadas, label, train_size = 0.7, random_state = 42)"
   ]
  },
  {
   "cell_type": "code",
   "execution_count": null,
   "metadata": {},
   "outputs": [],
   "source": [
    "tree = DecisionTreeClassifier()\n",
    "tree.fit(featuresTreino, labelTreino)\n",
    "predicaoTeste = tree.predict(featuresTeste)\n",
    "accuracy_score(labelTeste,predicaoTeste)"
   ]
  },
  {
   "cell_type": "code",
   "execution_count": null,
   "metadata": {},
   "outputs": [],
   "source": [
    "predicaoTreino = tree.predict(featuresTreino)\n",
    "accuracy_score(labelTreino,predicaoTreino )"
   ]
  },
  {
   "cell_type": "code",
   "execution_count": null,
   "metadata": {},
   "outputs": [],
   "source": [
    "listaAccTreino = []\n",
    "listaAccTeste = []\n",
    "\n",
    "for i in range(200,1, -2):\n",
    "    tree = DecisionTreeClassifier(min_samples_split= i)\n",
    "    tree.fit(featuresTreino, labelTreino)\n",
    "    \n",
    "    predicaoTreino = tree.fit(featuresTreino)\n",
    "    accTreino = accuracy_score(labelTreino, predicaoTreino)\n",
    "    \n",
    "    predicaoTeste = tree.predict(featuresTestes)\n",
    "    accTeste = accuracy_score(labelTeste, predicaoTeste)\n",
    "    \n",
    "    listaAccTreino.append(1- accTreino)\n",
    "    listaAccTeste.append(1-accTeste)"
   ]
  },
  {
   "cell_type": "code",
   "execution_count": null,
   "metadata": {},
   "outputs": [],
   "source": [
    "from sklearn.model_selection import RepeatedStratifiedKFold\n",
    "\n",
    "folds = RepeatedStratifiedKFold(n_splits=5, n_repeats=1, random_state= 42).split(featuresNormalizadas, label)\n",
    "somaTpr = 0\n",
    "for indice_treino, indice_teste in folds:\n",
    "    print(indice_treino)\n",
    "    \n",
    "    featuresTreino = featuresNormalizadas[indice_treino]\n",
    "    labelTreino = label[indice_treino]\n",
    "    \n",
    "    featuresTeste = featuresNormalizadas[indice_teste]\n",
    "    labelTeste = label[indice_treino]\n",
    "    \n",
    "    tree = DecisionTreeClassifier()\n",
    "    tree.fit(featuresTreino, labelTreino)\n",
    "    \n",
    "    predicaoTeste  = tree.predict(featuresTeste)\n",
    "    \n",
    "    matrix = confusion_matrix(predicao, label)\n",
    "\n",
    "    tpr = matrix[0][0] / matrix[0].sum()\n",
    "    fnr = matrix[0][1] / matrix[0].sum()\n",
    "    tnr = matrix[1][1] / matrix[1].sum()\n",
    "    fpr = matrix[1][0] / matrix[1].sum()\n",
    "    \n",
    "    somaTpr = somaTpr + tpr\n",
    "    \n",
    "    print(\"True positive rate:\", round(tpr,2))\n",
    "    print(\"False negative rate\", round(fnr,2))\n",
    "    print(\"True negative rate\",  round(tnr,2))\n",
    "    print(\"False positive rate\", round(fpr,2))\n",
    "    print(\"F1 score\", round(f1_score(label, predicao),2))\n",
    "    \n",
    "print(somaTpr / 5.0)"
   ]
  },
  {
   "cell_type": "code",
   "execution_count": null,
   "metadata": {},
   "outputs": [],
   "source": []
  },
  {
   "cell_type": "code",
   "execution_count": null,
   "metadata": {},
   "outputs": [],
   "source": []
  },
  {
   "cell_type": "markdown",
   "metadata": {},
   "source": [
    "#### Pratica 2 -  Dataset Titanic (datasets/titanic.csv)\n",
    "\n",
    "#### Descricao\n",
    "\n",
    "Problema\n",
    "\n",
    "The competition is simple: use machine learning to create a model that predicts which passengers survived the Titanic shipwreck.\n",
    "\n",
    "Atributos\n",
    "\n",
    "- survival (0 = No, 1 = Yes)\n",
    "- pclas: Ticket class (1 = 1st, 2 = 2nd, 3 = 3rd)\n",
    "- sex: Sex\t\n",
    "- sibsp: # of siblings / spouses aboard the Titanic\t\n",
    "- parch: # of parents / children aboard the Titanic\t\n",
    "- ticket: Ticket number\t\n",
    "- fare: Passenger fare\t\n",
    "- cabin: Cabin number\t\n",
    "- embarked: Port of Embarkation (C = Cherbourg, Q = Queenstown, S = Southampton)\n",
    "\n",
    "Etapas, fazendo a devida otimização de parametros:\n",
    "1. Utilizando a abordagem de holdout (70% para treinamento, 30% para teste), fazendo uso do ponto de operação com a generalização, determine:\n",
    "    - O melhor classificador para determinar quem sobreviveu, exiba a sua matriz de confusão com o resultado\n",
    "    - O melhor classificador para determinar quem não sobreviveu, exiba a sua matriz de confusão com o resultado\n",
    "    - O melhor classificador para determinar quem sobreviveu ou não\n",
    "2. Repita os passos 3 e 4 utilizando a abordagem de validação cruzada (5 folds)\n",
    "    - O melhor classificador para determinar quem sobreviveu, exiba a sua matriz de confusão com o resultado\n",
    "    - O melhor classificador para determinar quem não sobreviveu, exiba a sua matriz de confusão com o resultado\n",
    "    - O melhor classificador para determinar quem sobreviveu ou não"
   ]
  },
  {
   "cell_type": "code",
   "execution_count": null,
   "metadata": {},
   "outputs": [],
   "source": [
    "import numpy as np\n",
    "import pandas as pd\n",
    "import matplotlib.pyplot as plt"
   ]
  },
  {
   "cell_type": "code",
   "execution_count": null,
   "metadata": {},
   "outputs": [],
   "source": [
    "dfTitanic = pd.read_csv('datasets/titanic.csv')"
   ]
  },
  {
   "cell_type": "code",
   "execution_count": null,
   "metadata": {},
   "outputs": [],
   "source": [
    "dfTitanic.dtypes"
   ]
  },
  {
   "cell_type": "code",
   "execution_count": null,
   "metadata": {},
   "outputs": [],
   "source": [
    "dfTitanic = dfTitanic.drop(['PassengerId', 'Name', 'Ticket', 'Cabin'], axis = 1)"
   ]
  },
  {
   "cell_type": "code",
   "execution_count": null,
   "metadata": {},
   "outputs": [],
   "source": [
    "dfTitanic.dtypes"
   ]
  },
  {
   "cell_type": "code",
   "execution_count": null,
   "metadata": {},
   "outputs": [],
   "source": [
    "dfNumerico = pd.get_dummies(dfTitanic, prefix_sep='_', drop_first=True)"
   ]
  },
  {
   "cell_type": "code",
   "execution_count": null,
   "metadata": {},
   "outputs": [],
   "source": [
    "dfNumerico.describe()"
   ]
  },
  {
   "cell_type": "code",
   "execution_count": null,
   "metadata": {},
   "outputs": [],
   "source": [
    "from sklearn.preprocessing import MaxAbsScaler\n",
    "\n",
    "features = np.array(dfNumerico.drop(['Survived'], axis = 1))\n",
    "label = np.array(dfNumerico.Survived)\n",
    "\n",
    "scaler = MaxAbsScaler()\n",
    "scaler.fit(features)\n",
    "featuresNormalizadas = scaler.transform(features)"
   ]
  },
  {
   "cell_type": "code",
   "execution_count": null,
   "metadata": {},
   "outputs": [],
   "source": [
    "featuresTreino, featuresTeste, labelTreino, labelTeste = train_test_split(featuresNormalizadas, label, train_size = 0.7, random_state = 42)"
   ]
  },
  {
   "cell_type": "code",
   "execution_count": null,
   "metadata": {},
   "outputs": [],
   "source": [
    "listaErroTreino = []\n",
    "listaErroTeste = []\n",
    "\n",
    "for i in range(200,1,-2):\n",
    "    tree = DecisionTreeClassifier(min_samples_split= i)\n",
    "    tree.fit(featuresTreino, labelTreino)\n",
    "    \n",
    "    predicaoTreino = tree.predict(featuresTreino)\n",
    "    accTreino = accuracy_score(labelTreino, predicaoTreino)\n",
    "    \n",
    "    predicaoTeste = tree.predict(featuresTeste)\n",
    "    accTeste = accuracy_score(labelTeste, predicaoTeste)\n",
    "    \n",
    "    #100% - acc% = erro\n",
    "    listaErroTeste.append(1 - accTeste)\n",
    "    listaErroTreino.append(1- accTreino)\n",
    "    "
   ]
  },
  {
   "cell_type": "code",
   "execution_count": null,
   "metadata": {},
   "outputs": [],
   "source": [
    "plt.plot(listaErroTreino)\n",
    "plt.plot(listaErroTeste)\n",
    "plt.legend(['Treino', 'Teste'])\n",
    "plt.show()"
   ]
  },
  {
   "cell_type": "code",
   "execution_count": null,
   "metadata": {},
   "outputs": [],
   "source": [
    "from sklearn.ensemble import RandomForestClassifier\n",
    "listaErroTreino = []\n",
    "listaErroTeste = []\n",
    "\n",
    "for i in range(200,1,-2):\n",
    "    forest = RandomForestClassifier(min_samples_split= i)\n",
    "    forest.fit(featuresTreino, labelTreino)\n",
    "    \n",
    "    predicaoTreino = forest.predict(featuresTreino)\n",
    "    accTreino = accuracy_score(labelTreino, predicaoTreino)\n",
    "    \n",
    "    predicaoTeste = forest.predict(featuresTeste)\n",
    "    accTeste = accuracy_score(labelTeste, predicaoTeste)\n",
    "    \n",
    "    #100% - acc% = erro\n",
    "    listaErroTeste.append(1 - accTeste)\n",
    "    listaErroTreino.append(1- accTreino)\n",
    "    "
   ]
  },
  {
   "cell_type": "code",
   "execution_count": null,
   "metadata": {},
   "outputs": [],
   "source": [
    "plt.plot(listaErroTreino)\n",
    "plt.plot(listaErroTeste)\n",
    "plt.legend(['Treino', 'Teste'])\n",
    "plt.show()"
   ]
  },
  {
   "cell_type": "markdown",
   "metadata": {},
   "source": [
    "####  Pratica 3 -  Detecção de Números (datasets/digit.csv)\n",
    "\n",
    "#### Descricao\n",
    "\n",
    "Problema\n",
    "\n",
    "Detecção de imagens com números (0 a 9) escritos a mão.\n",
    "\n",
    "Atributos\n",
    "\n",
    "- Label (0,1,2,3,4,5,6,7,8,9)\n",
    "- pixel0\n",
    "- pixel1\n",
    "- ...\n",
    "- pixel783\n",
    "\n",
    "Etapas, fazendo a devida otimização de parametros:\n",
    "1. Utilizando a abordagem de holdout (70% para treinamento, 30% para teste), fazendo uso do ponto de operação com a generalização, determine:\n",
    "    - O melhor classificador para detecção dos números\n",
    "    - O melhor classificador para detecção do dígito '5'"
   ]
  },
  {
   "cell_type": "code",
   "execution_count": null,
   "metadata": {},
   "outputs": [],
   "source": []
  }
 ],
 "metadata": {
  "kernelspec": {
   "display_name": "Python 3",
   "language": "python",
   "name": "python3"
  },
  "language_info": {
   "codemirror_mode": {
    "name": "ipython",
    "version": 3
   },
   "file_extension": ".py",
   "mimetype": "text/x-python",
   "name": "python",
   "nbconvert_exporter": "python",
   "pygments_lexer": "ipython3",
   "version": "3.7.6"
  }
 },
 "nbformat": 4,
 "nbformat_minor": 4
}
