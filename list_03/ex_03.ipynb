{
 "cells": [
  {
   "cell_type": "markdown",
   "metadata": {},
   "source": [
    "### Exercício 3\n",
    "\n",
    "#### Pratica 1 -  Dataset 2D (datasets/2d_dataset.csv)\n",
    "\n",
    "#### Descricao\n",
    "\n",
    "Atributos\n",
    "\n",
    "- alpha (numérico): valor x\n",
    "- beta (numérico): valor y\n",
    "- y (0 ou 1, numérico): classe\n",
    "\n",
    "Etapas:\n",
    "1. Importe as bibliotecas necessárias para analise dos dados\n",
    "```python\n",
    "import pandas as pd\n",
    "import numpy as np\n",
    "import seaborn as sns\n",
    "import matplotlib.pyplot as plt\n",
    "```\n",
    "2. Carregue o Dataset em um DataFrame\n",
    "```python\n",
    "df = pd.read_csv('datasets/2d_dataset.csv')\n",
    "```\n",
    "3. Treine modelos de:\n",
    "    1. kNN (efetuando as etapas de preprocessamento necessárias)\n",
    "    2. Árvore de Decisão (efetuando as etapas de preprocessamento necessárias)\n",
    "    3. Random Forest (efetuando as etapas de preprocessamento necessárias)\n",
    "4. Avalie os modelos treinados considerando:\n",
    "    1. Matriz de Confusão\n",
    "    2. Acurácia\n",
    "        \\begin{equation*}\n",
    "        Acc =\n",
    "        \\frac{Quantidade\\;de\\;eventos\\;corretamente\\;classificados}{Quantidade\\;total\\;de\\;eventos}\n",
    "        \\end{equation*}\n",
    "    3. Falso-Positivo\n",
    "        \\begin{equation*}\n",
    "        FP =\n",
    "        \\frac{FP}{FP+TN}\n",
    "        \\end{equation*}\n",
    "    4. Falso-Negativo\n",
    "        \\begin{equation*}\n",
    "        FN =\n",
    "        \\frac{FN}{FN+TP}\n",
    "        \\end{equation*}\n",
    "    5. Verdadeiro-Positivo\n",
    "        \\begin{equation*}\n",
    "        TP =\n",
    "        \\frac{TP}{TP+FN}\n",
    "        \\end{equation*}\n",
    "    6. Verdadeiro-Negativo\n",
    "        \\begin{equation*}\n",
    "        TN =\n",
    "        \\frac{TN}{TN+FP}\n",
    "        \\end{equation*}\n",
    "    7. F-measure\n",
    "        \\begin{equation*}\n",
    "        Precisão =\n",
    "        \\frac{TP}{TP+FP}\n",
    "        \\end{equation*}\n",
    "        \n",
    "        \\begin{equation*}\n",
    "        Recall =\n",
    "        \\frac{TP}{TP+FN}\n",
    "        \\end{equation*}\n",
    "        \n",
    "        \\begin{equation*}\n",
    "        FScore =\n",
    "        \\frac{2*Recall*Precisão}{Precisao+Recall}\n",
    "        \\end{equation*}\n",
    "        \n",
    "5. Repita os passos 3 e 4 utilizando a abordagem de holdout (70% para treinamento, 30% para teste), identifique o ponto de operação com a generalização\n",
    "6. Repita os passos 3 e 4 utilizando a abordagem de validação cruzada (5 folds)"
   ]
  },
  {
   "cell_type": "code",
   "execution_count": 29,
   "metadata": {},
   "outputs": [],
   "source": [
    "import time\n",
    "import pandas as pd\n",
    "import numpy as np\n",
    "import seaborn as sns\n",
    "import seaborn as sns\n",
    "import matplotlib.pyplot as plt"
   ]
  },
  {
   "cell_type": "code",
   "execution_count": 30,
   "metadata": {},
   "outputs": [],
   "source": [
    "df = pd.read_csv('datasets/2d_dataset.csv')"
   ]
  },
  {
   "cell_type": "code",
   "execution_count": 31,
   "metadata": {},
   "outputs": [
    {
     "data": {
      "text/html": [
       "<div>\n",
       "<style scoped>\n",
       "    .dataframe tbody tr th:only-of-type {\n",
       "        vertical-align: middle;\n",
       "    }\n",
       "\n",
       "    .dataframe tbody tr th {\n",
       "        vertical-align: top;\n",
       "    }\n",
       "\n",
       "    .dataframe thead th {\n",
       "        text-align: right;\n",
       "    }\n",
       "</style>\n",
       "<table border=\"1\" class=\"dataframe\">\n",
       "  <thead>\n",
       "    <tr style=\"text-align: right;\">\n",
       "      <th></th>\n",
       "      <th>y</th>\n",
       "      <th>alpha</th>\n",
       "      <th>beta</th>\n",
       "    </tr>\n",
       "  </thead>\n",
       "  <tbody>\n",
       "    <tr>\n",
       "      <th>count</th>\n",
       "      <td>2994.000000</td>\n",
       "      <td>2994.000000</td>\n",
       "      <td>2994.000000</td>\n",
       "    </tr>\n",
       "    <tr>\n",
       "      <th>mean</th>\n",
       "      <td>0.656981</td>\n",
       "      <td>500.917502</td>\n",
       "      <td>501.393454</td>\n",
       "    </tr>\n",
       "    <tr>\n",
       "      <th>std</th>\n",
       "      <td>0.474797</td>\n",
       "      <td>289.387318</td>\n",
       "      <td>286.933215</td>\n",
       "    </tr>\n",
       "    <tr>\n",
       "      <th>min</th>\n",
       "      <td>0.000000</td>\n",
       "      <td>0.000000</td>\n",
       "      <td>0.000000</td>\n",
       "    </tr>\n",
       "    <tr>\n",
       "      <th>25%</th>\n",
       "      <td>0.000000</td>\n",
       "      <td>248.000000</td>\n",
       "      <td>256.000000</td>\n",
       "    </tr>\n",
       "    <tr>\n",
       "      <th>50%</th>\n",
       "      <td>1.000000</td>\n",
       "      <td>505.500000</td>\n",
       "      <td>499.000000</td>\n",
       "    </tr>\n",
       "    <tr>\n",
       "      <th>75%</th>\n",
       "      <td>1.000000</td>\n",
       "      <td>755.000000</td>\n",
       "      <td>749.000000</td>\n",
       "    </tr>\n",
       "    <tr>\n",
       "      <th>max</th>\n",
       "      <td>1.000000</td>\n",
       "      <td>998.000000</td>\n",
       "      <td>999.000000</td>\n",
       "    </tr>\n",
       "  </tbody>\n",
       "</table>\n",
       "</div>"
      ],
      "text/plain": [
       "                 y        alpha         beta\n",
       "count  2994.000000  2994.000000  2994.000000\n",
       "mean      0.656981   500.917502   501.393454\n",
       "std       0.474797   289.387318   286.933215\n",
       "min       0.000000     0.000000     0.000000\n",
       "25%       0.000000   248.000000   256.000000\n",
       "50%       1.000000   505.500000   499.000000\n",
       "75%       1.000000   755.000000   749.000000\n",
       "max       1.000000   998.000000   999.000000"
      ]
     },
     "execution_count": 31,
     "metadata": {},
     "output_type": "execute_result"
    }
   ],
   "source": [
    "df.describe()"
   ]
  },
  {
   "cell_type": "code",
   "execution_count": 32,
   "metadata": {},
   "outputs": [],
   "source": [
    "from sklearn.metrics import accuracy_score\n",
    "from sklearn.neighbors import KNeighborsClassifier\n",
    "from sklearn.tree import DecisionTreeClassifier\n",
    "from sklearn.ensemble import RandomForestClassifier\n",
    "from sklearn.preprocessing import MaxAbsScaler\n",
    "from sklearn.metrics import confusion_matrix\n",
    "from sklearn.model_selection import train_test_split\n",
    "from sklearn.metrics import f1_score\n",
    "from sklearn.metrics import ConfusionMatrixDisplay\n",
    "from sklearn.metrics import roc_curve\n",
    "from sklearn.metrics import auc"
   ]
  },
  {
   "cell_type": "code",
   "execution_count": 33,
   "metadata": {},
   "outputs": [],
   "source": [
    "features = np.array(df.drop(['y'], axis = 1))\n",
    "label = np.array(df.y)\n",
    "\n",
    "scaler = MaxAbsScaler()\n",
    "scaler.fit(features)\n",
    "featuresNormalizadas = scaler.transform(features)"
   ]
  },
  {
   "cell_type": "code",
   "execution_count": 34,
   "metadata": {},
   "outputs": [
    {
     "data": {
      "text/plain": [
       "(0.9024716098864396, 0.9976619906479626, 0.9716098864395457)"
      ]
     },
     "execution_count": 34,
     "metadata": {},
     "output_type": "execute_result"
    }
   ],
   "source": [
    "#Decision Tree\n",
    "tree = DecisionTreeClassifier(min_samples_split = 50)\n",
    "tree.fit(featuresNormalizadas, label)\n",
    "predictTree = tree.predict(featuresNormalizadas)\n",
    "accTree = accuracy_score(label,predictTree)\n",
    "\n",
    "#Random Forest\n",
    "forest = RandomForestClassifier(n_estimators = 10)\n",
    "forest.fit(featuresNormalizadas, label)\n",
    "predictForest = forest.predict(featuresNormalizadas)\n",
    "accForest = accuracy_score(label, predictForest)\n",
    "\n",
    "#KNeighbors Classifier\n",
    "knn = KNeighborsClassifier(n_neighbors = 5)\n",
    "knn.fit(featuresNormalizadas, label)\n",
    "predicaoKNN = knn.predict(featuresNormalizadas)\n",
    "accKNN = accuracy_score(label, predicaoKNN)\n",
    "\n",
    "accTree,accForest,accKNN"
   ]
  },
  {
   "cell_type": "code",
   "execution_count": 35,
   "metadata": {},
   "outputs": [
    {
     "data": {
      "text/plain": [
       "array([[ 871,  136],\n",
       "       [ 156, 1831]])"
      ]
     },
     "execution_count": 35,
     "metadata": {},
     "output_type": "execute_result"
    }
   ],
   "source": [
    "matrix = confusion_matrix(predictTree, label)\n",
    "\n",
    "tpr = matrix[0][0] / matrix[0].sum()\n",
    "fnr = matrix[0][1] / matrix[0].sum()\n",
    "tnr = matrix[1][1] / matrix[1].sum()\n",
    "fpr = matrix[1][0] / matrix[1].sum()\n",
    "\n",
    "matrix"
   ]
  },
  {
   "cell_type": "code",
   "execution_count": 36,
   "metadata": {},
   "outputs": [
    {
     "data": {
      "text/plain": [
       "<sklearn.metrics._plot.confusion_matrix.ConfusionMatrixDisplay at 0x7f07bab14bd0>"
      ]
     },
     "execution_count": 36,
     "metadata": {},
     "output_type": "execute_result"
    },
    {
     "data": {
      "image/png": "[encoded data removed]",
      "text/plain": [
       "<Figure size 432x288 with 2 Axes>"
      ]
     },
     "metadata": {
      "needs_background": "light"
     },
     "output_type": "display_data"
    }
   ],
   "source": [
    "ConfusionMatrixDisplay(confusion_matrix(label, predictTree), display_labels=['negativo', 'positivo']).plot(values_format= '1g')"
   ]
  },
  {
   "cell_type": "code",
   "execution_count": 37,
   "metadata": {},
   "outputs": [
    {
     "name": "stdout",
     "output_type": "stream",
     "text": [
      "True positive rate: 0.8649453823237339\n",
      "False negative rate 0.13505461767626614\n",
      "True negative rate 0.9214896829391042\n",
      "False positive rate 0.07851031706089583\n",
      "F1 score 0.9261507334344967\n"
     ]
    }
   ],
   "source": [
    "print(\"True positive rate:\", tpr)\n",
    "print(\"False negative rate\", fnr)\n",
    "print(\"True negative rate\",  tnr)\n",
    "print(\"False positive rate\", fpr)\n",
    "print(\"F1 score\", f1_score(label, predictTree))"
   ]
  },
  {
   "cell_type": "code",
   "execution_count": 38,
   "metadata": {},
   "outputs": [
    {
     "data": {
      "text/plain": [
       "array([[1025,    5],\n",
       "       [   2, 1962]])"
      ]
     },
     "execution_count": 38,
     "metadata": {},
     "output_type": "execute_result"
    }
   ],
   "source": [
    "matrix = confusion_matrix(predictForest, label)\n",
    "\n",
    "tpr = matrix[0][0] / matrix[0].sum()\n",
    "fnr = matrix[0][1] / matrix[0].sum()\n",
    "tnr = matrix[1][1] / matrix[1].sum()\n",
    "fpr = matrix[1][0] / matrix[1].sum()\n",
    "\n",
    "matrix"
   ]
  },
  {
   "cell_type": "code",
   "execution_count": 39,
   "metadata": {},
   "outputs": [
    {
     "data": {
      "text/plain": [
       "<sklearn.metrics._plot.confusion_matrix.ConfusionMatrixDisplay at 0x7f07babcf310>"
      ]
     },
     "execution_count": 39,
     "metadata": {},
     "output_type": "execute_result"
    },
    {
     "data": {
      "image/png": "[encoded data removed]",
      "text/plain": [
       "<Figure size 432x288 with 2 Axes>"
      ]
     },
     "metadata": {
      "needs_background": "light"
     },
     "output_type": "display_data"
    }
   ],
   "source": [
    "ConfusionMatrixDisplay(confusion_matrix(label, predictForest), display_labels=['negativo', 'positivo']).plot(values_format= '1g')"
   ]
  },
  {
   "cell_type": "code",
   "execution_count": 40,
   "metadata": {},
   "outputs": [
    {
     "name": "stdout",
     "output_type": "stream",
     "text": [
      "True positive rate: 0.9951456310679612\n",
      "False negative rate 0.0048543689320388345\n",
      "True negative rate 0.9989816700610998\n",
      "False positive rate 0.0010183299389002036\n",
      "F1 score 0.9982192826252861\n"
     ]
    }
   ],
   "source": [
    "print(\"True positive rate:\", tpr)\n",
    "print(\"False negative rate\", fnr)\n",
    "print(\"True negative rate\",  tnr)\n",
    "print(\"False positive rate\", fpr)\n",
    "print(\"F1 score\", f1_score(label, predictForest))"
   ]
  },
  {
   "cell_type": "code",
   "execution_count": 41,
   "metadata": {},
   "outputs": [
    {
     "data": {
      "text/plain": [
       "array([[ 983,   41],\n",
       "       [  44, 1926]])"
      ]
     },
     "execution_count": 41,
     "metadata": {},
     "output_type": "execute_result"
    }
   ],
   "source": [
    "matrix = confusion_matrix(predicaoKNN, label)\n",
    "\n",
    "tpr = matrix[0][0] / matrix[0].sum()\n",
    "fnr = matrix[0][1] / matrix[0].sum()\n",
    "tnr = matrix[1][1] / matrix[1].sum()\n",
    "fpr = matrix[1][0] / matrix[1].sum()\n",
    "\n",
    "matrix"
   ]
  },
  {
   "cell_type": "code",
   "execution_count": 42,
   "metadata": {},
   "outputs": [
    {
     "data": {
      "text/plain": [
       "<sklearn.metrics._plot.confusion_matrix.ConfusionMatrixDisplay at 0x7f07ba335750>"
      ]
     },
     "execution_count": 42,
     "metadata": {},
     "output_type": "execute_result"
    },
    {
     "data": {
      "image/png": "[encoded data removed]",
      "text/plain": [
       "<Figure size 432x288 with 2 Axes>"
      ]
     },
     "metadata": {
      "needs_background": "light"
     },
     "output_type": "display_data"
    }
   ],
   "source": [
    "ConfusionMatrixDisplay(confusion_matrix(label, predicaoKNN), display_labels=['negativo', 'positivo']).plot(values_format= '1g')"
   ]
  },
  {
   "cell_type": "code",
   "execution_count": 43,
   "metadata": {},
   "outputs": [
    {
     "name": "stdout",
     "output_type": "stream",
     "text": [
      "True positive rate: 0.9599609375\n",
      "False negative rate 0.0400390625\n",
      "True negative rate 0.9776649746192894\n",
      "False positive rate 0.02233502538071066\n",
      "F1 score 0.9784099568199137\n"
     ]
    }
   ],
   "source": [
    "print(\"True positive rate:\", tpr)\n",
    "print(\"False negative rate\", fnr)\n",
    "print(\"True negative rate\",  tnr)\n",
    "print(\"False positive rate\", fpr)\n",
    "print(\"F1 score\", f1_score(label, predicaoKNN))"
   ]
  },
  {
   "cell_type": "code",
   "execution_count": 44,
   "metadata": {},
   "outputs": [],
   "source": [
    "featuresTreino, featuresTeste, labelTreino, labelTeste = train_test_split(featuresNormalizadas, label, train_size = 0.7, random_state = 42)"
   ]
  },
  {
   "cell_type": "code",
   "execution_count": 45,
   "metadata": {},
   "outputs": [
    {
     "name": "stdout",
     "output_type": "stream",
     "text": [
      "Tree => Treino/Teste 0.8701670644391408 0.8509454949944383\n",
      "Forest => Treino/Teste 0.99618138424821 0.9276974416017798\n",
      "kNN => Treino/Teste 0.966109785202864 0.9299221357063404\n"
     ]
    }
   ],
   "source": [
    "#Decision Tree\n",
    "tree = DecisionTreeClassifier(min_samples_split = 50)\n",
    "tree.fit(featuresTreino, labelTreino)\n",
    "predictTree = tree.predict(featuresTeste)\n",
    "predictTreeTreino = tree.predict(featuresTreino)\n",
    "\n",
    "accTree = accuracy_score(labelTeste, predictTree)\n",
    "accTreeTreino = accuracy_score(labelTreino, predictTreeTreino)\n",
    "\n",
    "#Random Forest\n",
    "forest = RandomForestClassifier(n_estimators = 10)\n",
    "forest.fit(featuresTreino, labelTreino)\n",
    "predictForest = forest.predict(featuresTeste)\n",
    "predicaoForestTreino = forest.predict(featuresTreino)\n",
    "\n",
    "accForest = accuracy_score(labelTeste, predictForest)\n",
    "accForestTreino = accuracy_score(labelTreino, predicaoForestTreino)\n",
    "\n",
    "#KNeighbors Classifier\n",
    "knn = KNeighborsClassifier(n_neighbors = 5)\n",
    "knn.fit(featuresTreino, labelTreino)\n",
    "predicaoKNN = knn.predict(featuresTeste)\n",
    "predicaoKNNTreino = knn.predict(featuresTreino)\n",
    "\n",
    "accKNN = accuracy_score(labelTeste, predicaoKNN)\n",
    "accKNNTreino = accuracy_score(labelTreino, predicaoKNNTreino)\n",
    "\n",
    "\n",
    "print(\"Tree => Treino/Teste\", accTreeTreino, accTree)\n",
    "print(\"Forest => Treino/Teste\", accForestTreino, accForest)\n",
    "print(\"kNN => Treino/Teste\", accKNNTreino, accKNN)"
   ]
  },
  {
   "cell_type": "code",
   "execution_count": 46,
   "metadata": {},
   "outputs": [],
   "source": [
    "listaAccTreino = []\n",
    "listaAccTeste = []\n",
    "\n",
    "for i in range(200,1, -2):\n",
    "    tree = DecisionTreeClassifier(min_samples_split= i)\n",
    "    tree.fit(featuresTreino, labelTreino)\n",
    "    \n",
    "    predicaoTreeTreino = tree.predict(featuresTreino)\n",
    "    accTreino = accuracy_score(labelTreino, predicaoTreeTreino)\n",
    "    \n",
    "    predicaoTreeTeste = tree.predict(featuresTeste)\n",
    "    accTeste = accuracy_score(labelTeste, predicaoTreeTeste)\n",
    "    \n",
    "    listaAccTreino.append(1-accTreino)\n",
    "    listaAccTeste.append(1-accTeste)"
   ]
  },
  {
   "cell_type": "code",
   "execution_count": 47,
   "metadata": {},
   "outputs": [
    {
     "data": {
      "text/plain": [
       "array([[265,  43],\n",
       "       [ 27, 564]])"
      ]
     },
     "execution_count": 47,
     "metadata": {},
     "output_type": "execute_result"
    }
   ],
   "source": [
    "matrix = confusion_matrix(labelTeste,predicaoTreeTeste)\n",
    "\n",
    "tpr = matrix[0][0] / matrix[0].sum()\n",
    "fnr = matrix[0][1] / matrix[0].sum()\n",
    "tnr = matrix[1][1] / matrix[1].sum()\n",
    "fpr = matrix[1][0] / matrix[1].sum()\n",
    "\n",
    "matrix"
   ]
  },
  {
   "cell_type": "code",
   "execution_count": 48,
   "metadata": {},
   "outputs": [
    {
     "data": {
      "text/plain": [
       "<sklearn.metrics._plot.confusion_matrix.ConfusionMatrixDisplay at 0x7f07ba34fd90>"
      ]
     },
     "execution_count": 48,
     "metadata": {},
     "output_type": "execute_result"
    },
    {
     "data": {
      "image/png": "[encoded data removed]",
      "text/plain": [
       "<Figure size 432x288 with 2 Axes>"
      ]
     },
     "metadata": {
      "needs_background": "light"
     },
     "output_type": "display_data"
    }
   ],
   "source": [
    "ConfusionMatrixDisplay(confusion_matrix(labelTeste, predicaoTreeTeste), display_labels=['negativo', 'positivo']).plot(values_format= '1g')"
   ]
  },
  {
   "cell_type": "code",
   "execution_count": 49,
   "metadata": {},
   "outputs": [
    {
     "name": "stdout",
     "output_type": "stream",
     "text": [
      "True positive rate: 0.8603896103896104\n",
      "False negative rate 0.1396103896103896\n",
      "True negative rate 0.9543147208121827\n",
      "False positive rate 0.04568527918781726\n",
      "F1 score 0.9415692821368948\n"
     ]
    }
   ],
   "source": [
    "print(\"True positive rate:\", tpr)\n",
    "print(\"False negative rate\", fnr)\n",
    "print(\"True negative rate\",  tnr)\n",
    "print(\"False positive rate\", fpr)\n",
    "print(\"F1 score\", f1_score(labelTeste,predicaoTreeTeste))"
   ]
  },
  {
   "cell_type": "code",
   "execution_count": 50,
   "metadata": {},
   "outputs": [
    {
     "data": {
      "text/plain": [
       "<matplotlib.legend.Legend at 0x7f07ba1b9810>"
      ]
     },
     "execution_count": 50,
     "metadata": {},
     "output_type": "execute_result"
    },
    {
     "data": {
      "image/png": "[encoded data removed]",
      "text/plain": [
       "<Figure size 432x288 with 1 Axes>"
      ]
     },
     "metadata": {
      "needs_background": "light"
     },
     "output_type": "display_data"
    }
   ],
   "source": [
    "plt.plot(listaAccTreino)\n",
    "plt.plot(listaAccTeste)\n",
    "plt.legend(['Treino', 'Teste'])"
   ]
  },
  {
   "cell_type": "code",
   "execution_count": 51,
   "metadata": {},
   "outputs": [],
   "source": [
    "listaAccTreino = []\n",
    "listaAccTeste = []\n",
    "\n",
    "for estimator in range(10,100,1):\n",
    "       \n",
    "    forest = RandomForestClassifier(n_estimators = estimator)\n",
    "    forest.fit(featuresTreino, labelTreino)\n",
    "\n",
    "    predicaoForestTreino = forest.predict(featuresTreino)\n",
    "    accTreino = accuracy_score(labelTreino, predicaoForestTreino)\n",
    "    \n",
    "    predicaoForestTeste = forest.predict(featuresTeste)\n",
    "    accTeste = accuracy_score(labelTeste, predicaoForestTeste)\n",
    "    \n",
    "    listaAccTreino.append(1-accTreino)\n",
    "    listaAccTeste.append(1-accTeste)"
   ]
  },
  {
   "cell_type": "code",
   "execution_count": 52,
   "metadata": {},
   "outputs": [
    {
     "data": {
      "text/plain": [
       "array([[275,  33],\n",
       "       [ 14, 577]])"
      ]
     },
     "execution_count": 52,
     "metadata": {},
     "output_type": "execute_result"
    }
   ],
   "source": [
    "matrix = confusion_matrix(labelTeste,predicaoForestTeste)\n",
    "\n",
    "tpr = matrix[0][0] / matrix[0].sum()\n",
    "fnr = matrix[0][1] / matrix[0].sum()\n",
    "tnr = matrix[1][1] / matrix[1].sum()\n",
    "fpr = matrix[1][0] / matrix[1].sum()\n",
    "\n",
    "matrix"
   ]
  },
  {
   "cell_type": "code",
   "execution_count": 53,
   "metadata": {},
   "outputs": [
    {
     "data": {
      "text/plain": [
       "<sklearn.metrics._plot.confusion_matrix.ConfusionMatrixDisplay at 0x7f07ba197c10>"
      ]
     },
     "execution_count": 53,
     "metadata": {},
     "output_type": "execute_result"
    },
    {
     "data": {
      "image/png": "[encoded data removed]",
      "text/plain": [
       "<Figure size 432x288 with 2 Axes>"
      ]
     },
     "metadata": {
      "needs_background": "light"
     },
     "output_type": "display_data"
    }
   ],
   "source": [
    "ConfusionMatrixDisplay(confusion_matrix(labelTeste, predicaoForestTeste), display_labels=['negativo', 'positivo']).plot(values_format= '1g')"
   ]
  },
  {
   "cell_type": "code",
   "execution_count": 54,
   "metadata": {},
   "outputs": [
    {
     "name": "stdout",
     "output_type": "stream",
     "text": [
      "True positive rate: 0.8928571428571429\n",
      "False negative rate 0.10714285714285714\n",
      "True negative rate 0.9763113367174281\n",
      "False positive rate 0.023688663282571912\n",
      "F1 score 0.9608659450457951\n"
     ]
    }
   ],
   "source": [
    "print(\"True positive rate:\", tpr)\n",
    "print(\"False negative rate\", fnr)\n",
    "print(\"True negative rate\",  tnr)\n",
    "print(\"False positive rate\", fpr)\n",
    "print(\"F1 score\", f1_score(labelTeste,predicaoForestTeste))"
   ]
  },
  {
   "cell_type": "code",
   "execution_count": 55,
   "metadata": {},
   "outputs": [
    {
     "data": {
      "text/plain": [
       "<matplotlib.legend.Legend at 0x7f07ba0ddd50>"
      ]
     },
     "execution_count": 55,
     "metadata": {},
     "output_type": "execute_result"
    },
    {
     "data": {
      "image/png": "[encoded data removed]",
      "text/plain": [
       "<Figure size 432x288 with 1 Axes>"
      ]
     },
     "metadata": {
      "needs_background": "light"
     },
     "output_type": "display_data"
    }
   ],
   "source": [
    "plt.plot(listaAccTreino)\n",
    "plt.plot(listaAccTeste)\n",
    "plt.legend(['Treino', 'Teste'])"
   ]
  },
  {
   "cell_type": "code",
   "execution_count": 56,
   "metadata": {},
   "outputs": [],
   "source": [
    "listaAccTreino = []\n",
    "listaAccTeste = []\n",
    "\n",
    "for neighbor in range(5,100,1):\n",
    "       \n",
    "    knn = KNeighborsClassifier(n_neighbors = neighbor)\n",
    "    knn.fit(featuresTreino, labelTreino)\n",
    "    \n",
    "    predicaoKnnTreino = knn.predict(featuresTreino)\n",
    "    accTreino = accuracy_score(labelTreino, predicaoKnnTreino)\n",
    "    \n",
    "    predicaoKnnTeste = knn.predict(featuresTeste)\n",
    "    accTeste = accuracy_score(labelTeste, predicaoKnnTeste)\n",
    "    \n",
    "    listaAccTreino.append(1-accTreino)\n",
    "    listaAccTeste.append(1-accTeste)\n",
    "    "
   ]
  },
  {
   "cell_type": "code",
   "execution_count": 57,
   "metadata": {},
   "outputs": [
    {
     "data": {
      "text/plain": [
       "array([[129, 179],\n",
       "       [ 60, 531]])"
      ]
     },
     "execution_count": 57,
     "metadata": {},
     "output_type": "execute_result"
    }
   ],
   "source": [
    "matrix = confusion_matrix(labelTeste,predicaoKnnTeste)\n",
    "\n",
    "tpr = matrix[0][0] / matrix[0].sum()\n",
    "fnr = matrix[0][1] / matrix[0].sum()\n",
    "tnr = matrix[1][1] / matrix[1].sum()\n",
    "fpr = matrix[1][0] / matrix[1].sum()\n",
    "\n",
    "matrix"
   ]
  },
  {
   "cell_type": "code",
   "execution_count": 58,
   "metadata": {},
   "outputs": [
    {
     "data": {
      "text/plain": [
       "<sklearn.metrics._plot.confusion_matrix.ConfusionMatrixDisplay at 0x7f07bae88890>"
      ]
     },
     "execution_count": 58,
     "metadata": {},
     "output_type": "execute_result"
    },
    {
     "data": {
      "image/png": "[encoded data removed]",
      "text/plain": [
       "<Figure size 432x288 with 2 Axes>"
      ]
     },
     "metadata": {
      "needs_background": "light"
     },
     "output_type": "display_data"
    }
   ],
   "source": [
    "ConfusionMatrixDisplay(confusion_matrix(labelTeste, predicaoKnnTeste), display_labels=['negativo', 'positivo']).plot(values_format= '1g')"
   ]
  },
  {
   "cell_type": "code",
   "execution_count": 59,
   "metadata": {},
   "outputs": [
    {
     "name": "stdout",
     "output_type": "stream",
     "text": [
      "True positive rate: 0.41883116883116883\n",
      "False negative rate 0.5811688311688312\n",
      "True negative rate 0.8984771573604061\n",
      "False positive rate 0.10152284263959391\n",
      "F1 score 0.8162951575710992\n"
     ]
    }
   ],
   "source": [
    "print(\"True positive rate:\", tpr)\n",
    "print(\"False negative rate\", fnr)\n",
    "print(\"True negative rate\",  tnr)\n",
    "print(\"False positive rate\", fpr)\n",
    "print(\"F1 score\", f1_score(labelTeste,predicaoKnnTeste))"
   ]
  },
  {
   "cell_type": "code",
   "execution_count": 60,
   "metadata": {},
   "outputs": [
    {
     "data": {
      "text/plain": [
       "<matplotlib.legend.Legend at 0x7f07b9feb6d0>"
      ]
     },
     "execution_count": 60,
     "metadata": {},
     "output_type": "execute_result"
    },
    {
     "data": {
      "image/png": "[encoded data removed]",
      "text/plain": [
       "<Figure size 432x288 with 1 Axes>"
      ]
     },
     "metadata": {
      "needs_background": "light"
     },
     "output_type": "display_data"
    }
   ],
   "source": [
    "plt.plot(listaAccTreino)\n",
    "plt.plot(listaAccTeste)\n",
    "plt.legend(['Treino', 'Teste'])"
   ]
  },
  {
   "cell_type": "code",
   "execution_count": 61,
   "metadata": {},
   "outputs": [
    {
     "name": "stdout",
     "output_type": "stream",
     "text": [
      "True positive rate: 0.8390243902439024\n",
      "False negative rate 0.16097560975609757\n",
      "True negative rate 0.9568527918781726\n",
      "False positive rate 0.04314720812182741\n",
      "F1 score 0.9378109452736317\n",
      "True positive rate: 0.8878048780487805\n",
      "False negative rate 0.11219512195121951\n",
      "True negative rate 0.9467005076142132\n",
      "False positive rate 0.0532994923857868\n",
      "F1 score 0.9443037974683544\n",
      "True positive rate: 0.8980582524271845\n",
      "False negative rate 0.10194174757281553\n",
      "True negative rate 0.9491094147582697\n",
      "False positive rate 0.05089058524173028\n",
      "F1 score 0.9479034307496824\n",
      "True positive rate: 0.9174757281553398\n",
      "False negative rate 0.0825242718446602\n",
      "True negative rate 0.9465648854961832\n",
      "False positive rate 0.05343511450381679\n",
      "F1 score 0.9514066496163683\n",
      "True positive rate: 0.8878048780487805\n",
      "False negative rate 0.11219512195121951\n",
      "True negative rate 0.9491094147582697\n",
      "False positive rate 0.05089058524173028\n",
      "F1 score 0.9455006337135615\n",
      "0.8860336253847976\n"
     ]
    }
   ],
   "source": [
    "from sklearn.model_selection import RepeatedStratifiedKFold\n",
    "\n",
    "folds = RepeatedStratifiedKFold(n_splits=5, n_repeats=1, random_state= 42)\\\n",
    ".split(featuresNormalizadas, label)\n",
    "\n",
    "somaTpr = 0\n",
    "\n",
    "for indice_treino, indice_teste in folds:\n",
    "    \n",
    "    featuresTreino = featuresNormalizadas[indice_treino]\n",
    "    labelTreino = label[indice_treino]\n",
    "    \n",
    "    featuresTeste = featuresNormalizadas[indice_teste]\n",
    "    labelTeste = label[indice_teste]\n",
    "    \n",
    "    tree = DecisionTreeClassifier()\n",
    "    tree.fit(featuresTreino, labelTreino)\n",
    "    \n",
    "    predicaoTeste  = tree.predict(featuresTeste)\n",
    "    \n",
    "    matrix = confusion_matrix(labelTeste, predicaoTeste)\n",
    "\n",
    "    tpr = matrix[0][0] / matrix[0].sum()\n",
    "    fnr = matrix[0][1] / matrix[0].sum()\n",
    "    tnr = matrix[1][1] / matrix[1].sum()\n",
    "    fpr = matrix[1][0] / matrix[1].sum()\n",
    "    \n",
    "    somaTpr = somaTpr + tpr\n",
    "    \n",
    "    print(\"True positive rate:\", tpr)\n",
    "    print(\"False negative rate\", fnr)\n",
    "    print(\"True negative rate\",  tnr)\n",
    "    print(\"False positive rate\", fpr)\n",
    "    print(\"F1 score\", f1_score(labelTeste, predicaoTeste))\n",
    "    \n",
    "print(somaTpr / 5.0)"
   ]
  },
  {
   "cell_type": "code",
   "execution_count": 62,
   "metadata": {},
   "outputs": [
    {
     "name": "stdout",
     "output_type": "stream",
     "text": [
      "True positive rate: 0.9121951219512195\n",
      "False negative rate 0.08780487804878048\n",
      "True negative rate 0.9644670050761421\n",
      "False positive rate 0.03553299492385787\n",
      "F1 score 0.9595959595959597\n",
      "True positive rate: 0.8926829268292683\n",
      "False negative rate 0.1073170731707317\n",
      "True negative rate 0.9670050761421319\n",
      "False positive rate 0.03299492385786802\n",
      "F1 score 0.9560853199498118\n",
      "True positive rate: 0.9029126213592233\n",
      "False negative rate 0.0970873786407767\n",
      "True negative rate 0.9516539440203562\n",
      "False positive rate 0.04834605597964377\n",
      "F1 score 0.9504447268106734\n",
      "True positive rate: 0.9174757281553398\n",
      "False negative rate 0.0825242718446602\n",
      "True negative rate 0.9516539440203562\n",
      "False positive rate 0.04834605597964377\n",
      "F1 score 0.9540816326530612\n",
      "True positive rate: 0.8975609756097561\n",
      "False negative rate 0.1024390243902439\n",
      "True negative rate 0.9567430025445293\n",
      "False positive rate 0.043256997455470736\n",
      "F1 score 0.9518987341772152\n",
      "0.9045654747809614\n"
     ]
    }
   ],
   "source": [
    "from sklearn.model_selection import RepeatedStratifiedKFold\n",
    "\n",
    "folds = RepeatedStratifiedKFold(n_splits=5, n_repeats=1, random_state= 42)\\\n",
    ".split(featuresNormalizadas, label)\n",
    "\n",
    "somaTpr = 0\n",
    "\n",
    "for indice_treino, indice_teste in folds:\n",
    "    \n",
    "    featuresTreino = featuresNormalizadas[indice_treino]\n",
    "    labelTreino = label[indice_treino]\n",
    "    \n",
    "    featuresTeste = featuresNormalizadas[indice_teste]\n",
    "    labelTeste = label[indice_teste]\n",
    "    \n",
    "    knn = KNeighborsClassifier(n_neighbors = 5)\n",
    "    knn.fit(featuresTreino, labelTreino)\n",
    "    \n",
    "    predicaoTeste  = knn.predict(featuresTeste)\n",
    "    \n",
    "    matrix = confusion_matrix(labelTeste, predicaoTeste)\n",
    "\n",
    "    tpr = matrix[0][0] / matrix[0].sum()\n",
    "    fnr = matrix[0][1] / matrix[0].sum()\n",
    "    tnr = matrix[1][1] / matrix[1].sum()\n",
    "    fpr = matrix[1][0] / matrix[1].sum()\n",
    "    \n",
    "    somaTpr = somaTpr + tpr\n",
    "    \n",
    "    print(\"True positive rate:\", tpr)\n",
    "    print(\"False negative rate\", fnr)\n",
    "    print(\"True negative rate\",  tnr)\n",
    "    print(\"False positive rate\", fpr)\n",
    "    print(\"F1 score\", f1_score(labelTeste, predicaoTeste))\n",
    "    \n",
    "print(somaTpr / 5.0)"
   ]
  },
  {
   "cell_type": "code",
   "execution_count": 63,
   "metadata": {},
   "outputs": [
    {
     "name": "stdout",
     "output_type": "stream",
     "text": [
      "True positive rate: 0.8780487804878049\n",
      "False negative rate 0.12195121951219512\n",
      "True negative rate 0.9619289340101523\n",
      "False positive rate 0.03807106598984772\n",
      "F1 score 0.9498746867167919\n",
      "True positive rate: 0.9073170731707317\n",
      "False negative rate 0.09268292682926829\n",
      "True negative rate 0.9796954314720813\n",
      "False positive rate 0.02030456852791878\n",
      "F1 score 0.9662077596996246\n",
      "True positive rate: 0.8980582524271845\n",
      "False negative rate 0.10194174757281553\n",
      "True negative rate 0.9720101781170484\n",
      "False positive rate 0.027989821882951654\n",
      "F1 score 0.9597989949748743\n",
      "True positive rate: 0.9466019417475728\n",
      "False negative rate 0.05339805825242718\n",
      "True negative rate 0.9643765903307888\n",
      "False positive rate 0.035623409669211195\n",
      "F1 score 0.9680715197956578\n",
      "True positive rate: 0.9121951219512195\n",
      "False negative rate 0.08780487804878048\n",
      "True negative rate 0.9567430025445293\n",
      "False positive rate 0.043256997455470736\n",
      "F1 score 0.9555273189326556\n",
      "0.9084442339569027\n"
     ]
    }
   ],
   "source": [
    "from sklearn.model_selection import RepeatedStratifiedKFold\n",
    "\n",
    "folds = RepeatedStratifiedKFold(n_splits=5, n_repeats=1, random_state= 42)\\\n",
    ".split(featuresNormalizadas, label)\n",
    "\n",
    "somaTpr = 0\n",
    "\n",
    "for indice_treino, indice_teste in folds:\n",
    "    \n",
    "    featuresTreino = featuresNormalizadas[indice_treino]\n",
    "    labelTreino = label[indice_treino]\n",
    "    \n",
    "    featuresTeste = featuresNormalizadas[indice_teste]\n",
    "    labelTeste = label[indice_teste]\n",
    "     \n",
    "    forest = RandomForestClassifier(n_estimators = 100)\n",
    "    forest.fit(featuresTreino, labelTreino)\n",
    "    \n",
    "    predicaoTeste  = forest.predict(featuresTeste)\n",
    "    \n",
    "    matrix = confusion_matrix(labelTeste, predicaoTeste)\n",
    "\n",
    "    tpr = matrix[0][0] / matrix[0].sum()\n",
    "    fnr = matrix[0][1] / matrix[0].sum()\n",
    "    tnr = matrix[1][1] / matrix[1].sum()\n",
    "    fpr = matrix[1][0] / matrix[1].sum()\n",
    "    \n",
    "    somaTpr = somaTpr + tpr\n",
    "    \n",
    "    print(\"True positive rate:\", tpr)\n",
    "    print(\"False negative rate\", fnr)\n",
    "    print(\"True negative rate\",  tnr)\n",
    "    print(\"False positive rate\", fpr)\n",
    "    print(\"F1 score\", f1_score(labelTeste, predicaoTeste))\n",
    "    \n",
    "print(somaTpr / 5.0)"
   ]
  },
  {
   "cell_type": "markdown",
   "metadata": {},
   "source": [
    "#### Pratica 2 -  Dataset Titanic (datasets/titanic.csv)\n",
    "\n",
    "#### Descricao\n",
    "\n",
    "Problema\n",
    "\n",
    "The competition is simple: use machine learning to create a model that predicts which passengers survived the Titanic shipwreck.\n",
    "\n",
    "Atributos\n",
    "\n",
    "- survival (0 = No, 1 = Yes)\n",
    "- pclas: Ticket class (1 = 1st, 2 = 2nd, 3 = 3rd)\n",
    "- sex: Sex\t\n",
    "- sibsp: # of siblings / spouses aboard the Titanic\t\n",
    "- parch: # of parents / children aboard the Titanic\t\n",
    "- ticket: Ticket number\t\n",
    "- fare: Passenger fare\t\n",
    "- cabin: Cabin number\t\n",
    "- embarked: Port of Embarkation (C = Cherbourg, Q = Queenstown, S = Southampton)\n",
    "\n",
    "Etapas, fazendo a devida otimização de parametros:\n",
    "1. Utilizando a abordagem de holdout (70% para treinamento, 30% para teste), fazendo uso do ponto de operação com a generalização, determine:\n",
    "    - O melhor classificador para determinar quem sobreviveu, exiba a sua matriz de confusão com o resultado\n",
    "    - O melhor classificador para determinar quem não sobreviveu, exiba a sua matriz de confusão com o resultado\n",
    "    - O melhor classificador para determinar quem sobreviveu ou não\n",
    "2. Repita os passos 3 e 4 utilizando a abordagem de validação cruzada (5 folds)\n",
    "    - O melhor classificador para determinar quem sobreviveu, exiba a sua matriz de confusão com o resultado\n",
    "    - O melhor classificador para determinar quem não sobreviveu, exiba a sua matriz de confusão com o resultado\n",
    "    - O melhor classificador para determinar quem sobreviveu ou não"
   ]
  },
  {
   "cell_type": "code",
   "execution_count": 64,
   "metadata": {},
   "outputs": [],
   "source": [
    "import numpy as np\n",
    "import pandas as pd\n",
    "import matplotlib.pyplot as plt"
   ]
  },
  {
   "cell_type": "code",
   "execution_count": 65,
   "metadata": {},
   "outputs": [],
   "source": [
    "dfTitanic = pd.read_csv('datasets/titanic.csv')"
   ]
  },
  {
   "cell_type": "code",
   "execution_count": 66,
   "metadata": {},
   "outputs": [
    {
     "data": {
      "text/plain": [
       "PassengerId      int64\n",
       "Survived         int64\n",
       "Pclass           int64\n",
       "Name            object\n",
       "Sex             object\n",
       "SibSp            int64\n",
       "Parch            int64\n",
       "Ticket          object\n",
       "Fare           float64\n",
       "Cabin           object\n",
       "Embarked        object\n",
       "dtype: object"
      ]
     },
     "execution_count": 66,
     "metadata": {},
     "output_type": "execute_result"
    }
   ],
   "source": [
    "dfTitanic.dtypes"
   ]
  },
  {
   "cell_type": "code",
   "execution_count": 67,
   "metadata": {},
   "outputs": [],
   "source": [
    "dfTitanic = dfTitanic.drop(['PassengerId', 'Name', 'Ticket', 'Cabin'], axis = 1)"
   ]
  },
  {
   "cell_type": "code",
   "execution_count": 68,
   "metadata": {},
   "outputs": [
    {
     "data": {
      "text/plain": [
       "Survived      int64\n",
       "Pclass        int64\n",
       "Sex          object\n",
       "SibSp         int64\n",
       "Parch         int64\n",
       "Fare        float64\n",
       "Embarked     object\n",
       "dtype: object"
      ]
     },
     "execution_count": 68,
     "metadata": {},
     "output_type": "execute_result"
    }
   ],
   "source": [
    "dfTitanic.dtypes"
   ]
  },
  {
   "cell_type": "code",
   "execution_count": 69,
   "metadata": {},
   "outputs": [],
   "source": [
    "dfNumerico = pd.get_dummies(dfTitanic, prefix_sep='_', drop_first=True)"
   ]
  },
  {
   "cell_type": "code",
   "execution_count": 70,
   "metadata": {},
   "outputs": [
    {
     "data": {
      "text/html": [
       "<div>\n",
       "<style scoped>\n",
       "    .dataframe tbody tr th:only-of-type {\n",
       "        vertical-align: middle;\n",
       "    }\n",
       "\n",
       "    .dataframe tbody tr th {\n",
       "        vertical-align: top;\n",
       "    }\n",
       "\n",
       "    .dataframe thead th {\n",
       "        text-align: right;\n",
       "    }\n",
       "</style>\n",
       "<table border=\"1\" class=\"dataframe\">\n",
       "  <thead>\n",
       "    <tr style=\"text-align: right;\">\n",
       "      <th></th>\n",
       "      <th>Survived</th>\n",
       "      <th>Pclass</th>\n",
       "      <th>SibSp</th>\n",
       "      <th>Parch</th>\n",
       "      <th>Fare</th>\n",
       "      <th>Sex_male</th>\n",
       "      <th>Embarked_Q</th>\n",
       "      <th>Embarked_S</th>\n",
       "    </tr>\n",
       "  </thead>\n",
       "  <tbody>\n",
       "    <tr>\n",
       "      <th>count</th>\n",
       "      <td>891.000000</td>\n",
       "      <td>891.000000</td>\n",
       "      <td>891.000000</td>\n",
       "      <td>891.000000</td>\n",
       "      <td>891.000000</td>\n",
       "      <td>891.000000</td>\n",
       "      <td>891.000000</td>\n",
       "      <td>891.000000</td>\n",
       "    </tr>\n",
       "    <tr>\n",
       "      <th>mean</th>\n",
       "      <td>0.383838</td>\n",
       "      <td>2.308642</td>\n",
       "      <td>0.523008</td>\n",
       "      <td>0.381594</td>\n",
       "      <td>32.204208</td>\n",
       "      <td>0.647587</td>\n",
       "      <td>0.086420</td>\n",
       "      <td>0.722783</td>\n",
       "    </tr>\n",
       "    <tr>\n",
       "      <th>std</th>\n",
       "      <td>0.486592</td>\n",
       "      <td>0.836071</td>\n",
       "      <td>1.102743</td>\n",
       "      <td>0.806057</td>\n",
       "      <td>49.693429</td>\n",
       "      <td>0.477990</td>\n",
       "      <td>0.281141</td>\n",
       "      <td>0.447876</td>\n",
       "    </tr>\n",
       "    <tr>\n",
       "      <th>min</th>\n",
       "      <td>0.000000</td>\n",
       "      <td>1.000000</td>\n",
       "      <td>0.000000</td>\n",
       "      <td>0.000000</td>\n",
       "      <td>0.000000</td>\n",
       "      <td>0.000000</td>\n",
       "      <td>0.000000</td>\n",
       "      <td>0.000000</td>\n",
       "    </tr>\n",
       "    <tr>\n",
       "      <th>25%</th>\n",
       "      <td>0.000000</td>\n",
       "      <td>2.000000</td>\n",
       "      <td>0.000000</td>\n",
       "      <td>0.000000</td>\n",
       "      <td>7.910400</td>\n",
       "      <td>0.000000</td>\n",
       "      <td>0.000000</td>\n",
       "      <td>0.000000</td>\n",
       "    </tr>\n",
       "    <tr>\n",
       "      <th>50%</th>\n",
       "      <td>0.000000</td>\n",
       "      <td>3.000000</td>\n",
       "      <td>0.000000</td>\n",
       "      <td>0.000000</td>\n",
       "      <td>14.454200</td>\n",
       "      <td>1.000000</td>\n",
       "      <td>0.000000</td>\n",
       "      <td>1.000000</td>\n",
       "    </tr>\n",
       "    <tr>\n",
       "      <th>75%</th>\n",
       "      <td>1.000000</td>\n",
       "      <td>3.000000</td>\n",
       "      <td>1.000000</td>\n",
       "      <td>0.000000</td>\n",
       "      <td>31.000000</td>\n",
       "      <td>1.000000</td>\n",
       "      <td>0.000000</td>\n",
       "      <td>1.000000</td>\n",
       "    </tr>\n",
       "    <tr>\n",
       "      <th>max</th>\n",
       "      <td>1.000000</td>\n",
       "      <td>3.000000</td>\n",
       "      <td>8.000000</td>\n",
       "      <td>6.000000</td>\n",
       "      <td>512.329200</td>\n",
       "      <td>1.000000</td>\n",
       "      <td>1.000000</td>\n",
       "      <td>1.000000</td>\n",
       "    </tr>\n",
       "  </tbody>\n",
       "</table>\n",
       "</div>"
      ],
      "text/plain": [
       "         Survived      Pclass       SibSp       Parch        Fare    Sex_male  \\\n",
       "count  891.000000  891.000000  891.000000  891.000000  891.000000  891.000000   \n",
       "mean     0.383838    2.308642    0.523008    0.381594   32.204208    0.647587   \n",
       "std      0.486592    0.836071    1.102743    0.806057   49.693429    0.477990   \n",
       "min      0.000000    1.000000    0.000000    0.000000    0.000000    0.000000   \n",
       "25%      0.000000    2.000000    0.000000    0.000000    7.910400    0.000000   \n",
       "50%      0.000000    3.000000    0.000000    0.000000   14.454200    1.000000   \n",
       "75%      1.000000    3.000000    1.000000    0.000000   31.000000    1.000000   \n",
       "max      1.000000    3.000000    8.000000    6.000000  512.329200    1.000000   \n",
       "\n",
       "       Embarked_Q  Embarked_S  \n",
       "count  891.000000  891.000000  \n",
       "mean     0.086420    0.722783  \n",
       "std      0.281141    0.447876  \n",
       "min      0.000000    0.000000  \n",
       "25%      0.000000    0.000000  \n",
       "50%      0.000000    1.000000  \n",
       "75%      0.000000    1.000000  \n",
       "max      1.000000    1.000000  "
      ]
     },
     "execution_count": 70,
     "metadata": {},
     "output_type": "execute_result"
    }
   ],
   "source": [
    "dfNumerico.describe()"
   ]
  },
  {
   "cell_type": "code",
   "execution_count": 71,
   "metadata": {},
   "outputs": [],
   "source": [
    "from sklearn.preprocessing import MaxAbsScaler\n",
    "\n",
    "features = np.array(dfNumerico.drop(['Survived'], axis = 1))\n",
    "label = np.array(dfNumerico.Survived)\n",
    "\n",
    "scaler = MaxAbsScaler()\n",
    "scaler.fit(features)\n",
    "featuresNormalizadas = scaler.transform(features)"
   ]
  },
  {
   "cell_type": "code",
   "execution_count": 72,
   "metadata": {},
   "outputs": [],
   "source": [
    "featuresTreino, featuresTeste, labelTreino, labelTeste = train_test_split(featuresNormalizadas, label, train_size = 0.7, random_state = 42)"
   ]
  },
  {
   "cell_type": "code",
   "execution_count": 73,
   "metadata": {},
   "outputs": [],
   "source": [
    "listaErroTreino = []\n",
    "listaErroTeste = []\n",
    "\n",
    "for i in range(200,1,-2):\n",
    "    tree = DecisionTreeClassifier(min_samples_split= i)\n",
    "    tree.fit(featuresTreino, labelTreino)\n",
    "    \n",
    "    predicaoTreino = tree.predict(featuresTreino)\n",
    "    accTreino = accuracy_score(labelTreino, predicaoTreino)\n",
    "    \n",
    "    predicaoTeste = tree.predict(featuresTeste)\n",
    "    accTeste = accuracy_score(labelTeste, predicaoTeste)\n",
    "    \n",
    "    #100% - acc% = erro\n",
    "    listaErroTeste.append(1 - accTeste)\n",
    "    listaErroTreino.append(1- accTreino)\n",
    "    "
   ]
  },
  {
   "cell_type": "code",
   "execution_count": 74,
   "metadata": {},
   "outputs": [
    {
     "data": {
      "image/png": "[encoded data removed]",
      "text/plain": [
       "<Figure size 432x288 with 1 Axes>"
      ]
     },
     "metadata": {
      "needs_background": "light"
     },
     "output_type": "display_data"
    }
   ],
   "source": [
    "plt.plot(listaErroTreino)\n",
    "plt.plot(listaErroTeste)\n",
    "plt.legend(['Treino', 'Teste'])\n",
    "plt.show()"
   ]
  },
  {
   "cell_type": "code",
   "execution_count": 75,
   "metadata": {},
   "outputs": [],
   "source": [
    "from sklearn.ensemble import RandomForestClassifier\n",
    "listaErroTreino = []\n",
    "listaErroTeste = []\n",
    "\n",
    "for i in range(1,200,2):\n",
    "    forest = RandomForestClassifier(n_estimators = i)\n",
    "    forest.fit(featuresTreino, labelTreino)\n",
    "    \n",
    "    predicaoTreino = forest.predict(featuresTreino)\n",
    "    accTreino = accuracy_score(labelTreino, predicaoTreino)\n",
    "    \n",
    "    predicaoTeste = forest.predict(featuresTeste)\n",
    "    accTeste = accuracy_score(labelTeste, predicaoTeste)\n",
    "    \n",
    "    #100% - acc% = erro\n",
    "    listaErroTeste.append(1 - accTeste)\n",
    "    listaErroTreino.append(1- accTreino)\n",
    "    "
   ]
  },
  {
   "cell_type": "code",
   "execution_count": 76,
   "metadata": {},
   "outputs": [
    {
     "data": {
      "image/png": "[encoded data removed]",
      "text/plain": [
       "<Figure size 432x288 with 1 Axes>"
      ]
     },
     "metadata": {
      "needs_background": "light"
     },
     "output_type": "display_data"
    }
   ],
   "source": [
    "plt.plot(listaErroTreino)\n",
    "plt.plot(listaErroTeste)\n",
    "plt.legend(['Treino', 'Teste'])\n",
    "plt.show()"
   ]
  },
  {
   "cell_type": "code",
   "execution_count": 77,
   "metadata": {},
   "outputs": [],
   "source": [
    "listaAccTreino = []\n",
    "listaAccTeste = []\n",
    "\n",
    "for neighbor in range(5,100,1):\n",
    "       \n",
    "    knn = KNeighborsClassifier(n_neighbors = neighbor)\n",
    "    knn.fit(featuresTreino, labelTreino)\n",
    "    \n",
    "    predicaoKnnTreino = knn.predict(featuresTreino)\n",
    "    accTreino = accuracy_score(labelTreino, predicaoKnnTreino)\n",
    "    \n",
    "    predicaoKnnTeste = knn.predict(featuresTeste)\n",
    "    accTeste = accuracy_score(labelTeste, predicaoKnnTeste)\n",
    "    \n",
    "    listaAccTreino.append(1-accTreino)\n",
    "    listaAccTeste.append(1-accTeste)\n",
    "    "
   ]
  },
  {
   "cell_type": "code",
   "execution_count": 78,
   "metadata": {},
   "outputs": [
    {
     "data": {
      "image/png": "[encoded data removed]",
      "text/plain": [
       "<Figure size 432x288 with 1 Axes>"
      ]
     },
     "metadata": {
      "needs_background": "light"
     },
     "output_type": "display_data"
    }
   ],
   "source": [
    "plt.plot(listaErroTreino)\n",
    "plt.plot(listaErroTeste)\n",
    "plt.legend(['Treino', 'Teste'])\n",
    "plt.show()"
   ]
  },
  {
   "cell_type": "markdown",
   "metadata": {},
   "source": [
    "####  Pratica 3 -  Detecção de Números (datasets/digit.csv)\n",
    "\n",
    "#### Descricao\n",
    "\n",
    "Problema\n",
    "\n",
    "Detecção de imagens com números (0 a 9) escritos a mão.\n",
    "\n",
    "Atributos\n",
    "\n",
    "- Label (0,1,2,3,4,5,6,7,8,9)\n",
    "- pixel0\n",
    "- pixel1\n",
    "- ...\n",
    "- pixel783\n",
    "\n",
    "Etapas, fazendo a devida otimização de parametros:\n",
    "1. Utilizando a abordagem de holdout (70% para treinamento, 30% para teste), fazendo uso do ponto de operação com a generalização, determine:\n",
    "    - O melhor classificador para detecção dos números\n",
    "    - O melhor classificador para detecção do dígito '5'"
   ]
  },
  {
   "cell_type": "code",
   "execution_count": 79,
   "metadata": {},
   "outputs": [],
   "source": [
    "df = pd.read_csv('datasets/digit.csv')"
   ]
  },
  {
   "cell_type": "code",
   "execution_count": 80,
   "metadata": {},
   "outputs": [
    {
     "data": {
      "text/html": [
       "<div>\n",
       "<style scoped>\n",
       "    .dataframe tbody tr th:only-of-type {\n",
       "        vertical-align: middle;\n",
       "    }\n",
       "\n",
       "    .dataframe tbody tr th {\n",
       "        vertical-align: top;\n",
       "    }\n",
       "\n",
       "    .dataframe thead th {\n",
       "        text-align: right;\n",
       "    }\n",
       "</style>\n",
       "<table border=\"1\" class=\"dataframe\">\n",
       "  <thead>\n",
       "    <tr style=\"text-align: right;\">\n",
       "      <th></th>\n",
       "      <th>label</th>\n",
       "      <th>pixel0</th>\n",
       "      <th>pixel1</th>\n",
       "      <th>pixel2</th>\n",
       "      <th>pixel3</th>\n",
       "      <th>pixel4</th>\n",
       "      <th>pixel5</th>\n",
       "      <th>pixel6</th>\n",
       "      <th>pixel7</th>\n",
       "      <th>pixel8</th>\n",
       "      <th>...</th>\n",
       "      <th>pixel774</th>\n",
       "      <th>pixel775</th>\n",
       "      <th>pixel776</th>\n",
       "      <th>pixel777</th>\n",
       "      <th>pixel778</th>\n",
       "      <th>pixel779</th>\n",
       "      <th>pixel780</th>\n",
       "      <th>pixel781</th>\n",
       "      <th>pixel782</th>\n",
       "      <th>pixel783</th>\n",
       "    </tr>\n",
       "  </thead>\n",
       "  <tbody>\n",
       "    <tr>\n",
       "      <th>count</th>\n",
       "      <td>42000.000000</td>\n",
       "      <td>42000.0</td>\n",
       "      <td>42000.0</td>\n",
       "      <td>42000.0</td>\n",
       "      <td>42000.0</td>\n",
       "      <td>42000.0</td>\n",
       "      <td>42000.0</td>\n",
       "      <td>42000.0</td>\n",
       "      <td>42000.0</td>\n",
       "      <td>42000.0</td>\n",
       "      <td>...</td>\n",
       "      <td>42000.000000</td>\n",
       "      <td>42000.000000</td>\n",
       "      <td>42000.000000</td>\n",
       "      <td>42000.00000</td>\n",
       "      <td>42000.000000</td>\n",
       "      <td>42000.000000</td>\n",
       "      <td>42000.0</td>\n",
       "      <td>42000.0</td>\n",
       "      <td>42000.0</td>\n",
       "      <td>42000.0</td>\n",
       "    </tr>\n",
       "    <tr>\n",
       "      <th>mean</th>\n",
       "      <td>4.456643</td>\n",
       "      <td>0.0</td>\n",
       "      <td>0.0</td>\n",
       "      <td>0.0</td>\n",
       "      <td>0.0</td>\n",
       "      <td>0.0</td>\n",
       "      <td>0.0</td>\n",
       "      <td>0.0</td>\n",
       "      <td>0.0</td>\n",
       "      <td>0.0</td>\n",
       "      <td>...</td>\n",
       "      <td>0.219286</td>\n",
       "      <td>0.117095</td>\n",
       "      <td>0.059024</td>\n",
       "      <td>0.02019</td>\n",
       "      <td>0.017238</td>\n",
       "      <td>0.002857</td>\n",
       "      <td>0.0</td>\n",
       "      <td>0.0</td>\n",
       "      <td>0.0</td>\n",
       "      <td>0.0</td>\n",
       "    </tr>\n",
       "    <tr>\n",
       "      <th>std</th>\n",
       "      <td>2.887730</td>\n",
       "      <td>0.0</td>\n",
       "      <td>0.0</td>\n",
       "      <td>0.0</td>\n",
       "      <td>0.0</td>\n",
       "      <td>0.0</td>\n",
       "      <td>0.0</td>\n",
       "      <td>0.0</td>\n",
       "      <td>0.0</td>\n",
       "      <td>0.0</td>\n",
       "      <td>...</td>\n",
       "      <td>6.312890</td>\n",
       "      <td>4.633819</td>\n",
       "      <td>3.274488</td>\n",
       "      <td>1.75987</td>\n",
       "      <td>1.894498</td>\n",
       "      <td>0.414264</td>\n",
       "      <td>0.0</td>\n",
       "      <td>0.0</td>\n",
       "      <td>0.0</td>\n",
       "      <td>0.0</td>\n",
       "    </tr>\n",
       "    <tr>\n",
       "      <th>min</th>\n",
       "      <td>0.000000</td>\n",
       "      <td>0.0</td>\n",
       "      <td>0.0</td>\n",
       "      <td>0.0</td>\n",
       "      <td>0.0</td>\n",
       "      <td>0.0</td>\n",
       "      <td>0.0</td>\n",
       "      <td>0.0</td>\n",
       "      <td>0.0</td>\n",
       "      <td>0.0</td>\n",
       "      <td>...</td>\n",
       "      <td>0.000000</td>\n",
       "      <td>0.000000</td>\n",
       "      <td>0.000000</td>\n",
       "      <td>0.00000</td>\n",
       "      <td>0.000000</td>\n",
       "      <td>0.000000</td>\n",
       "      <td>0.0</td>\n",
       "      <td>0.0</td>\n",
       "      <td>0.0</td>\n",
       "      <td>0.0</td>\n",
       "    </tr>\n",
       "    <tr>\n",
       "      <th>25%</th>\n",
       "      <td>2.000000</td>\n",
       "      <td>0.0</td>\n",
       "      <td>0.0</td>\n",
       "      <td>0.0</td>\n",
       "      <td>0.0</td>\n",
       "      <td>0.0</td>\n",
       "      <td>0.0</td>\n",
       "      <td>0.0</td>\n",
       "      <td>0.0</td>\n",
       "      <td>0.0</td>\n",
       "      <td>...</td>\n",
       "      <td>0.000000</td>\n",
       "      <td>0.000000</td>\n",
       "      <td>0.000000</td>\n",
       "      <td>0.00000</td>\n",
       "      <td>0.000000</td>\n",
       "      <td>0.000000</td>\n",
       "      <td>0.0</td>\n",
       "      <td>0.0</td>\n",
       "      <td>0.0</td>\n",
       "      <td>0.0</td>\n",
       "    </tr>\n",
       "    <tr>\n",
       "      <th>50%</th>\n",
       "      <td>4.000000</td>\n",
       "      <td>0.0</td>\n",
       "      <td>0.0</td>\n",
       "      <td>0.0</td>\n",
       "      <td>0.0</td>\n",
       "      <td>0.0</td>\n",
       "      <td>0.0</td>\n",
       "      <td>0.0</td>\n",
       "      <td>0.0</td>\n",
       "      <td>0.0</td>\n",
       "      <td>...</td>\n",
       "      <td>0.000000</td>\n",
       "      <td>0.000000</td>\n",
       "      <td>0.000000</td>\n",
       "      <td>0.00000</td>\n",
       "      <td>0.000000</td>\n",
       "      <td>0.000000</td>\n",
       "      <td>0.0</td>\n",
       "      <td>0.0</td>\n",
       "      <td>0.0</td>\n",
       "      <td>0.0</td>\n",
       "    </tr>\n",
       "    <tr>\n",
       "      <th>75%</th>\n",
       "      <td>7.000000</td>\n",
       "      <td>0.0</td>\n",
       "      <td>0.0</td>\n",
       "      <td>0.0</td>\n",
       "      <td>0.0</td>\n",
       "      <td>0.0</td>\n",
       "      <td>0.0</td>\n",
       "      <td>0.0</td>\n",
       "      <td>0.0</td>\n",
       "      <td>0.0</td>\n",
       "      <td>...</td>\n",
       "      <td>0.000000</td>\n",
       "      <td>0.000000</td>\n",
       "      <td>0.000000</td>\n",
       "      <td>0.00000</td>\n",
       "      <td>0.000000</td>\n",
       "      <td>0.000000</td>\n",
       "      <td>0.0</td>\n",
       "      <td>0.0</td>\n",
       "      <td>0.0</td>\n",
       "      <td>0.0</td>\n",
       "    </tr>\n",
       "    <tr>\n",
       "      <th>max</th>\n",
       "      <td>9.000000</td>\n",
       "      <td>0.0</td>\n",
       "      <td>0.0</td>\n",
       "      <td>0.0</td>\n",
       "      <td>0.0</td>\n",
       "      <td>0.0</td>\n",
       "      <td>0.0</td>\n",
       "      <td>0.0</td>\n",
       "      <td>0.0</td>\n",
       "      <td>0.0</td>\n",
       "      <td>...</td>\n",
       "      <td>254.000000</td>\n",
       "      <td>254.000000</td>\n",
       "      <td>253.000000</td>\n",
       "      <td>253.00000</td>\n",
       "      <td>254.000000</td>\n",
       "      <td>62.000000</td>\n",
       "      <td>0.0</td>\n",
       "      <td>0.0</td>\n",
       "      <td>0.0</td>\n",
       "      <td>0.0</td>\n",
       "    </tr>\n",
       "  </tbody>\n",
       "</table>\n",
       "<p>8 rows × 785 columns</p>\n",
       "</div>"
      ],
      "text/plain": [
       "              label   pixel0   pixel1   pixel2   pixel3   pixel4   pixel5  \\\n",
       "count  42000.000000  42000.0  42000.0  42000.0  42000.0  42000.0  42000.0   \n",
       "mean       4.456643      0.0      0.0      0.0      0.0      0.0      0.0   \n",
       "std        2.887730      0.0      0.0      0.0      0.0      0.0      0.0   \n",
       "min        0.000000      0.0      0.0      0.0      0.0      0.0      0.0   \n",
       "25%        2.000000      0.0      0.0      0.0      0.0      0.0      0.0   \n",
       "50%        4.000000      0.0      0.0      0.0      0.0      0.0      0.0   \n",
       "75%        7.000000      0.0      0.0      0.0      0.0      0.0      0.0   \n",
       "max        9.000000      0.0      0.0      0.0      0.0      0.0      0.0   \n",
       "\n",
       "        pixel6   pixel7   pixel8  ...      pixel774      pixel775  \\\n",
       "count  42000.0  42000.0  42000.0  ...  42000.000000  42000.000000   \n",
       "mean       0.0      0.0      0.0  ...      0.219286      0.117095   \n",
       "std        0.0      0.0      0.0  ...      6.312890      4.633819   \n",
       "min        0.0      0.0      0.0  ...      0.000000      0.000000   \n",
       "25%        0.0      0.0      0.0  ...      0.000000      0.000000   \n",
       "50%        0.0      0.0      0.0  ...      0.000000      0.000000   \n",
       "75%        0.0      0.0      0.0  ...      0.000000      0.000000   \n",
       "max        0.0      0.0      0.0  ...    254.000000    254.000000   \n",
       "\n",
       "           pixel776     pixel777      pixel778      pixel779  pixel780  \\\n",
       "count  42000.000000  42000.00000  42000.000000  42000.000000   42000.0   \n",
       "mean       0.059024      0.02019      0.017238      0.002857       0.0   \n",
       "std        3.274488      1.75987      1.894498      0.414264       0.0   \n",
       "min        0.000000      0.00000      0.000000      0.000000       0.0   \n",
       "25%        0.000000      0.00000      0.000000      0.000000       0.0   \n",
       "50%        0.000000      0.00000      0.000000      0.000000       0.0   \n",
       "75%        0.000000      0.00000      0.000000      0.000000       0.0   \n",
       "max      253.000000    253.00000    254.000000     62.000000       0.0   \n",
       "\n",
       "       pixel781  pixel782  pixel783  \n",
       "count   42000.0   42000.0   42000.0  \n",
       "mean        0.0       0.0       0.0  \n",
       "std         0.0       0.0       0.0  \n",
       "min         0.0       0.0       0.0  \n",
       "25%         0.0       0.0       0.0  \n",
       "50%         0.0       0.0       0.0  \n",
       "75%         0.0       0.0       0.0  \n",
       "max         0.0       0.0       0.0  \n",
       "\n",
       "[8 rows x 785 columns]"
      ]
     },
     "execution_count": 80,
     "metadata": {},
     "output_type": "execute_result"
    }
   ],
   "source": [
    "df.describe()"
   ]
  },
  {
   "cell_type": "code",
   "execution_count": 81,
   "metadata": {},
   "outputs": [
    {
     "data": {
      "text/plain": [
       "label       int64\n",
       "pixel0      int64\n",
       "pixel1      int64\n",
       "pixel2      int64\n",
       "pixel3      int64\n",
       "            ...  \n",
       "pixel779    int64\n",
       "pixel780    int64\n",
       "pixel781    int64\n",
       "pixel782    int64\n",
       "pixel783    int64\n",
       "Length: 785, dtype: object"
      ]
     },
     "execution_count": 81,
     "metadata": {},
     "output_type": "execute_result"
    }
   ],
   "source": [
    "df.dtypes"
   ]
  },
  {
   "cell_type": "code",
   "execution_count": 82,
   "metadata": {},
   "outputs": [
    {
     "data": {
      "text/plain": [
       "{0, 1, 2, 3, 4, 5, 6, 7, 8, 9}"
      ]
     },
     "execution_count": 82,
     "metadata": {},
     "output_type": "execute_result"
    }
   ],
   "source": [
    "set(df.label)"
   ]
  },
  {
   "cell_type": "code",
   "execution_count": 83,
   "metadata": {},
   "outputs": [],
   "source": [
    "features = np.array(df.drop(['label'], axis =1))\n",
    "label = np.array(df['label'])"
   ]
  },
  {
   "cell_type": "code",
   "execution_count": 84,
   "metadata": {},
   "outputs": [],
   "source": [
    "scaler = MaxAbsScaler()\n",
    "scaler.fit(features)\n",
    "featuresNormalizadas = scaler.transform(features)"
   ]
  },
  {
   "cell_type": "code",
   "execution_count": 85,
   "metadata": {},
   "outputs": [],
   "source": [
    "featuresTreino, featuresTeste, labelTreino, labelTeste = train_test_split(featuresNormalizadas, label, train_size = 0.7, random_state = 42)"
   ]
  },
  {
   "cell_type": "code",
   "execution_count": 86,
   "metadata": {},
   "outputs": [],
   "source": [
    "listaErroTreino = []\n",
    "listaErroTeste = []\n",
    "\n",
    "for i in range(200, 1, -20):\n",
    "    tree = DecisionTreeClassifier(min_samples_split = i)\n",
    "    tree.fit(featuresTreino, labelTreino)\n",
    "    \n",
    "    predicaoTreino = tree.predict(featuresTreino)\n",
    "    predicaoTeste = tree.predict(featuresTeste)\n",
    "    \n",
    "    erroTreino =(1 - accuracy_score(predicaoTreino, labelTreino))\n",
    "    erroTeste = (1- accuracy_score(predicaoTeste, labelTeste))\n",
    "    \n",
    "    listaErroTeste.append(erroTeste)\n",
    "    listaErroTreino.append(erroTreino)"
   ]
  },
  {
   "cell_type": "code",
   "execution_count": 87,
   "metadata": {},
   "outputs": [
    {
     "data": {
      "image/png": "[encoded data removed]",
      "text/plain": [
       "<Figure size 432x288 with 1 Axes>"
      ]
     },
     "metadata": {
      "needs_background": "light"
     },
     "output_type": "display_data"
    }
   ],
   "source": [
    "plt.plot(listaErroTreino)\n",
    "plt.plot(listaErroTeste)\n",
    "plt.legend(['Treino', 'Teste'])\n",
    "plt.show()"
   ]
  },
  {
   "cell_type": "code",
   "execution_count": 88,
   "metadata": {},
   "outputs": [
    {
     "data": {
      "text/plain": [
       "DecisionTreeClassifier(min_samples_split=20)"
      ]
     },
     "execution_count": 88,
     "metadata": {},
     "output_type": "execute_result"
    }
   ],
   "source": [
    "tree = DecisionTreeClassifier(min_samples_split = 20)\n",
    "tree.fit(featuresTreino, labelTreino)"
   ]
  },
  {
   "cell_type": "code",
   "execution_count": 89,
   "metadata": {},
   "outputs": [],
   "source": [
    "predictTeste = tree.predict(featuresTeste)\n",
    "matrix = confusion_matrix(labelTeste, predictTeste)"
   ]
  },
  {
   "cell_type": "code",
   "execution_count": 90,
   "metadata": {},
   "outputs": [
    {
     "data": {
      "text/plain": [
       "array([[1082,    6,   24,    9,   12,   37,   12,    5,    9,    4],\n",
       "       [   3, 1299,   18,    9,    9,    6,    4,    5,   27,    9],\n",
       "       [  28,   25, 1063,   28,   24,   21,   18,   38,   41,    8],\n",
       "       [  22,   19,   52, 1054,   21,   88,    1,   18,   55,   25],\n",
       "       [   9,   17,   21,   10, 1052,   14,   17,    8,   26,   49],\n",
       "       [  15,   17,   22,   66,   22,  842,   36,   11,   35,   19],\n",
       "       [  24,    6,   25,   15,   31,   34, 1090,    3,   23,    5],\n",
       "       [  14,    9,   37,   21,   24,   13,    0, 1201,    8,   32],\n",
       "       [  24,   26,   45,   51,   36,   37,   21,   11,  930,   28],\n",
       "       [  12,    3,   11,   27,   64,   34,   11,   34,   43,  992]])"
      ]
     },
     "execution_count": 90,
     "metadata": {},
     "output_type": "execute_result"
    }
   ],
   "source": [
    "matrix\n",
    "#linha = classe\n",
    "#coluna = como a classe foi classificada"
   ]
  },
  {
   "cell_type": "code",
   "execution_count": 91,
   "metadata": {},
   "outputs": [
    {
     "data": {
      "text/plain": [
       "<sklearn.metrics._plot.confusion_matrix.ConfusionMatrixDisplay at 0x7f07ba13e250>"
      ]
     },
     "execution_count": 91,
     "metadata": {},
     "output_type": "execute_result"
    },
    {
     "data": {
      "image/png": "[encoded data removed]",
      "text/plain": [
       "<Figure size 432x288 with 2 Axes>"
      ]
     },
     "metadata": {
      "needs_background": "light"
     },
     "output_type": "display_data"
    }
   ],
   "source": [
    "ConfusionMatrixDisplay(confusion_matrix(labelTeste, predicaoTeste), display_labels=range(0,10)).plot()"
   ]
  },
  {
   "cell_type": "code",
   "execution_count": 92,
   "metadata": {},
   "outputs": [
    {
     "data": {
      "text/plain": [
       "array([[0.  , 0.  , 0.  , ..., 0.  , 0.  , 0.25],\n",
       "       [0.  , 1.  , 0.  , ..., 0.  , 0.  , 0.  ],\n",
       "       [0.  , 0.  , 0.  , ..., 0.  , 0.  , 1.  ],\n",
       "       ...,\n",
       "       [0.  , 0.  , 0.  , ..., 0.  , 0.  , 0.  ],\n",
       "       [1.  , 0.  , 0.  , ..., 0.  , 0.  , 0.  ],\n",
       "       [0.  , 0.  , 0.  , ..., 0.  , 0.  , 0.  ]])"
      ]
     },
     "execution_count": 92,
     "metadata": {},
     "output_type": "execute_result"
    }
   ],
   "source": [
    "confiancas = tree.predict_proba(featuresTeste)\n",
    "confiancas\n",
    "# tree.predict_proba(featuresTeste)[0] confianças da primeira linha (instância 0)"
   ]
  },
  {
   "cell_type": "code",
   "execution_count": 93,
   "metadata": {},
   "outputs": [
    {
     "data": {
      "text/plain": [
       "array([0., 0., 0., ..., 1., 0., 0.])"
      ]
     },
     "execution_count": 93,
     "metadata": {},
     "output_type": "execute_result"
    }
   ],
   "source": [
    "#Confianças do dígito 5\n",
    "confiancas[:,5]"
   ]
  },
  {
   "cell_type": "code",
   "execution_count": 94,
   "metadata": {},
   "outputs": [],
   "source": [
    "fprTree, tprTree, limiaresTree = roc_curve(labelTeste, confiancas[:,5], pos_label = 5)"
   ]
  },
  {
   "cell_type": "code",
   "execution_count": 95,
   "metadata": {},
   "outputs": [
    {
     "data": {
      "image/png": "[encoded data removed]",
      "text/plain": [
       "<Figure size 432x288 with 1 Axes>"
      ]
     },
     "metadata": {
      "needs_background": "light"
     },
     "output_type": "display_data"
    }
   ],
   "source": [
    "plt.plot(fprTree, tprTree)\n",
    "plt.legend(['Tree'])\n",
    "plt.xlabel('False Positive Rate')\n",
    "plt.ylabel('True Positive Rate')\n",
    "plt.show()"
   ]
  },
  {
   "cell_type": "code",
   "execution_count": 96,
   "metadata": {},
   "outputs": [
    {
     "data": {
      "text/plain": [
       "0.9198133472483886"
      ]
     },
     "execution_count": 96,
     "metadata": {},
     "output_type": "execute_result"
    }
   ],
   "source": [
    "auc(fprTree, tprTree)"
   ]
  }
 ],
 "metadata": {
  "kernelspec": {
   "display_name": "Python 3",
   "language": "python",
   "name": "python3"
  },
  "language_info": {
   "codemirror_mode": {
    "name": "ipython",
    "version": 3
   },
   "file_extension": ".py",
   "mimetype": "text/x-python",
   "name": "python",
   "nbconvert_exporter": "python",
   "pygments_lexer": "ipython3",
   "version": "3.7.6"
  }
 },
 "nbformat": 4,
 "nbformat_minor": 4
}
