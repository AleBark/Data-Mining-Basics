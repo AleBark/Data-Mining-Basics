{
 "cells": [
  {
   "cell_type": "markdown",
   "metadata": {},
   "source": [
    "### Exercício 3\n",
    "\n",
    "#### Pratica 1 -  Dataset 2D (datasets/2d_dataset.csv)\n",
    "\n",
    "#### Descricao\n",
    "\n",
    "Atributos\n",
    "\n",
    "- alpha (numérico): valor x\n",
    "- beta (numérico): valor y\n",
    "- y (0 ou 1, numérico): classe\n",
    "\n",
    "Etapas:\n",
    "1. Importe as bibliotecas necessárias para analise dos dados\n",
    "```python\n",
    "import pandas as pd\n",
    "import numpy as np\n",
    "import seaborn as sns\n",
    "import matplotlib.pyplot as plt\n",
    "```\n",
    "2. Carregue o Dataset em um DataFrame\n",
    "```python\n",
    "df = pd.read_csv('datasets/2d_dataset.csv')\n",
    "```\n",
    "3. Treine modelos de:\n",
    "    1. kNN (efetuando as etapas de preprocessamento necessárias)\n",
    "    2. Árvore de Decisão (efetuando as etapas de preprocessamento necessárias)\n",
    "    3. Random Forest (efetuando as etapas de preprocessamento necessárias)\n",
    "4. Avalie os modelos treinados considerando:\n",
    "    1. Matriz de Confusão\n",
    "    2. Acurácia\n",
    "        \\begin{equation*}\n",
    "        Acc =\n",
    "        \\frac{Quantidade\\;de\\;eventos\\;corretamente\\;classificados}{Quantidade\\;total\\;de\\;eventos}\n",
    "        \\end{equation*}\n",
    "    3. Falso-Positivo\n",
    "        \\begin{equation*}\n",
    "        FP =\n",
    "        \\frac{FP}{FP+TN}\n",
    "        \\end{equation*}\n",
    "    4. Falso-Negativo\n",
    "        \\begin{equation*}\n",
    "        FN =\n",
    "        \\frac{FN}{FN+TP}\n",
    "        \\end{equation*}\n",
    "    5. Verdadeiro-Positivo\n",
    "        \\begin{equation*}\n",
    "        TP =\n",
    "        \\frac{TP}{TP+FN}\n",
    "        \\end{equation*}\n",
    "    6. Verdadeiro-Negativo\n",
    "        \\begin{equation*}\n",
    "        TN =\n",
    "        \\frac{TN}{TN+FP}\n",
    "        \\end{equation*}\n",
    "    7. F-measure\n",
    "        \\begin{equation*}\n",
    "        Precisão =\n",
    "        \\frac{TP}{TP+FP}\n",
    "        \\end{equation*}\n",
    "        \n",
    "        \\begin{equation*}\n",
    "        Recall =\n",
    "        \\frac{TP}{TP+FN}\n",
    "        \\end{equation*}\n",
    "        \n",
    "        \\begin{equation*}\n",
    "        FScore =\n",
    "        \\frac{2*Recall*Precisão}{Precisao+Recall}\n",
    "        \\end{equation*}\n",
    "        \n",
    "5. Repita os passos 3 e 4 utilizando a abordagem de holdout (70% para treinamento, 30% para teste), identifique o ponto de operação com a generalização\n",
    "6. Repita os passos 3 e 4 utilizando a abordagem de validação cruzada (5 folds)"
   ]
  },
  {
   "cell_type": "code",
   "execution_count": 63,
   "metadata": {},
   "outputs": [],
   "source": [
    "import time\n",
    "import pandas as pd\n",
    "import numpy as np\n",
    "import seaborn as sns\n",
    "import seaborn as sns\n",
    "import matplotlib.pyplot as plt"
   ]
  },
  {
   "cell_type": "code",
   "execution_count": 64,
   "metadata": {},
   "outputs": [],
   "source": [
    "df = pd.read_csv('datasets/2d_dataset.csv')"
   ]
  },
  {
   "cell_type": "code",
   "execution_count": 65,
   "metadata": {},
   "outputs": [
    {
     "data": {
      "text/html": [
       "<div>\n",
       "<style scoped>\n",
       "    .dataframe tbody tr th:only-of-type {\n",
       "        vertical-align: middle;\n",
       "    }\n",
       "\n",
       "    .dataframe tbody tr th {\n",
       "        vertical-align: top;\n",
       "    }\n",
       "\n",
       "    .dataframe thead th {\n",
       "        text-align: right;\n",
       "    }\n",
       "</style>\n",
       "<table border=\"1\" class=\"dataframe\">\n",
       "  <thead>\n",
       "    <tr style=\"text-align: right;\">\n",
       "      <th></th>\n",
       "      <th>y</th>\n",
       "      <th>alpha</th>\n",
       "      <th>beta</th>\n",
       "    </tr>\n",
       "  </thead>\n",
       "  <tbody>\n",
       "    <tr>\n",
       "      <th>count</th>\n",
       "      <td>2994.000000</td>\n",
       "      <td>2994.000000</td>\n",
       "      <td>2994.000000</td>\n",
       "    </tr>\n",
       "    <tr>\n",
       "      <th>mean</th>\n",
       "      <td>0.656981</td>\n",
       "      <td>500.917502</td>\n",
       "      <td>501.393454</td>\n",
       "    </tr>\n",
       "    <tr>\n",
       "      <th>std</th>\n",
       "      <td>0.474797</td>\n",
       "      <td>289.387318</td>\n",
       "      <td>286.933215</td>\n",
       "    </tr>\n",
       "    <tr>\n",
       "      <th>min</th>\n",
       "      <td>0.000000</td>\n",
       "      <td>0.000000</td>\n",
       "      <td>0.000000</td>\n",
       "    </tr>\n",
       "    <tr>\n",
       "      <th>25%</th>\n",
       "      <td>0.000000</td>\n",
       "      <td>248.000000</td>\n",
       "      <td>256.000000</td>\n",
       "    </tr>\n",
       "    <tr>\n",
       "      <th>50%</th>\n",
       "      <td>1.000000</td>\n",
       "      <td>505.500000</td>\n",
       "      <td>499.000000</td>\n",
       "    </tr>\n",
       "    <tr>\n",
       "      <th>75%</th>\n",
       "      <td>1.000000</td>\n",
       "      <td>755.000000</td>\n",
       "      <td>749.000000</td>\n",
       "    </tr>\n",
       "    <tr>\n",
       "      <th>max</th>\n",
       "      <td>1.000000</td>\n",
       "      <td>998.000000</td>\n",
       "      <td>999.000000</td>\n",
       "    </tr>\n",
       "  </tbody>\n",
       "</table>\n",
       "</div>"
      ],
      "text/plain": [
       "                 y        alpha         beta\n",
       "count  2994.000000  2994.000000  2994.000000\n",
       "mean      0.656981   500.917502   501.393454\n",
       "std       0.474797   289.387318   286.933215\n",
       "min       0.000000     0.000000     0.000000\n",
       "25%       0.000000   248.000000   256.000000\n",
       "50%       1.000000   505.500000   499.000000\n",
       "75%       1.000000   755.000000   749.000000\n",
       "max       1.000000   998.000000   999.000000"
      ]
     },
     "execution_count": 65,
     "metadata": {},
     "output_type": "execute_result"
    }
   ],
   "source": [
    "df.describe()"
   ]
  },
  {
   "cell_type": "code",
   "execution_count": 66,
   "metadata": {},
   "outputs": [],
   "source": [
    "from sklearn.metrics import accuracy_score\n",
    "from sklearn.neighbors import KNeighborsClassifier\n",
    "from sklearn.tree import DecisionTreeClassifier\n",
    "from sklearn.ensemble import RandomForestClassifier\n",
    "from sklearn.preprocessing import MaxAbsScaler\n",
    "from sklearn.metrics import confusion_matrix\n",
    "from sklearn.metrics import f1_score\n",
    "from sklearn.metrics import ConfusionMatrixDisplay"
   ]
  },
  {
   "cell_type": "code",
   "execution_count": 67,
   "metadata": {},
   "outputs": [],
   "source": [
    "features = np.array(df.drop(['y'], axis = 1))\n",
    "label = np.array(df.y)\n",
    "\n",
    "scaler = MaxAbsScaler()\n",
    "scaler.fit(features)\n",
    "featuresNormalizadas = scaler.transform(features)"
   ]
  },
  {
   "cell_type": "code",
   "execution_count": 103,
   "metadata": {},
   "outputs": [
    {
     "data": {
      "text/plain": [
       "(0.9024716098864396, 0.9949899799599199, 0.9716098864395457)"
      ]
     },
     "execution_count": 103,
     "metadata": {},
     "output_type": "execute_result"
    }
   ],
   "source": [
    "#Decision Tree\n",
    "tree = DecisionTreeClassifier(min_samples_split = 50)\n",
    "tree.fit(featuresNormalizadas, label)\n",
    "predictTree = tree.predict(featuresNormalizadas)\n",
    "accTree = accuracy_score(label,predictTree)\n",
    "\n",
    "#Random Forest\n",
    "forest = RandomForestClassifier(n_estimators = 10)\n",
    "forest.fit(featuresNormalizadas, label)\n",
    "predictForest = forest.predict(featuresNormalizadas)\n",
    "accForest = accuracy_score(label, predictForest)\n",
    "\n",
    "#KNeighbors Classifier\n",
    "knn = KNeighborsClassifier(n_neighbors = 5)\n",
    "knn.fit(featuresNormalizadas, label)\n",
    "predicaoKNN = knn.predict(featuresNormalizadas)\n",
    "accKNN = accuracy_score(label, predicaoKNN)\n",
    "\n",
    "accTree,accForest,accKNN"
   ]
  },
  {
   "cell_type": "code",
   "execution_count": 69,
   "metadata": {},
   "outputs": [
    {
     "data": {
      "text/plain": [
       "array([[ 871,  136],\n",
       "       [ 156, 1831]])"
      ]
     },
     "execution_count": 69,
     "metadata": {},
     "output_type": "execute_result"
    }
   ],
   "source": [
    "matrix = confusion_matrix(predictTree, label)\n",
    "\n",
    "tpr = matrix[0][0] / matrix[0].sum()\n",
    "fnr = matrix[0][1] / matrix[0].sum()\n",
    "tnr = matrix[1][1] / matrix[1].sum()\n",
    "fpr = matrix[1][0] / matrix[1].sum()\n",
    "\n",
    "matrix"
   ]
  },
  {
   "cell_type": "code",
   "execution_count": 112,
   "metadata": {},
   "outputs": [
    {
     "data": {
      "text/plain": [
       "<sklearn.metrics._plot.confusion_matrix.ConfusionMatrixDisplay at 0x7f3fa8437f50>"
      ]
     },
     "execution_count": 112,
     "metadata": {},
     "output_type": "execute_result"
    },
    {
     "data": {
      "image/png": "[encoded data removed]",
      "text/plain": [
       "<Figure size 432x288 with 2 Axes>"
      ]
     },
     "metadata": {
      "needs_background": "light"
     },
     "output_type": "display_data"
    }
   ],
   "source": [
    "ConfusionMatrixDisplay(confusion_matrix(label, predictTree), display_labels=['negativo', 'positivo']).plot(values_format= '1g')"
   ]
  },
  {
   "cell_type": "code",
   "execution_count": 71,
   "metadata": {},
   "outputs": [
    {
     "name": "stdout",
     "output_type": "stream",
     "text": [
      "True positive rate: 0.8649453823237339\n",
      "False negative rate 0.13505461767626614\n",
      "True negative rate 0.9214896829391042\n",
      "False positive rate 0.07851031706089583\n",
      "F1 score 0.9261507334344967\n"
     ]
    }
   ],
   "source": [
    "print(\"True positive rate:\", tpr)\n",
    "print(\"False negative rate\", fnr)\n",
    "print(\"True negative rate\",  tnr)\n",
    "print(\"False positive rate\", fpr)\n",
    "print(\"F1 score\", f1_score(label, predictTree))"
   ]
  },
  {
   "cell_type": "code",
   "execution_count": 72,
   "metadata": {},
   "outputs": [
    {
     "data": {
      "text/plain": [
       "array([[1027,    4],\n",
       "       [   0, 1963]])"
      ]
     },
     "execution_count": 72,
     "metadata": {},
     "output_type": "execute_result"
    }
   ],
   "source": [
    "matrix = confusion_matrix(predictForest, label)\n",
    "\n",
    "tpr = matrix[0][0] / matrix[0].sum()\n",
    "fnr = matrix[0][1] / matrix[0].sum()\n",
    "tnr = matrix[1][1] / matrix[1].sum()\n",
    "fpr = matrix[1][0] / matrix[1].sum()\n",
    "\n",
    "matrix"
   ]
  },
  {
   "cell_type": "code",
   "execution_count": 73,
   "metadata": {},
   "outputs": [
    {
     "data": {
      "text/plain": [
       "<sklearn.metrics._plot.confusion_matrix.ConfusionMatrixDisplay at 0x7f3fa862afd0>"
      ]
     },
     "execution_count": 73,
     "metadata": {},
     "output_type": "execute_result"
    },
    {
     "data": {
      "image/png": "[encoded data removed]",
      "text/plain": [
       "<Figure size 432x288 with 2 Axes>"
      ]
     },
     "metadata": {
      "needs_background": "light"
     },
     "output_type": "display_data"
    }
   ],
   "source": [
    "ConfusionMatrixDisplay(confusion_matrix(label, predictForest), display_labels=['negativo', 'positivo']).plot(values_format= '1g')"
   ]
  },
  {
   "cell_type": "code",
   "execution_count": 74,
   "metadata": {},
   "outputs": [
    {
     "name": "stdout",
     "output_type": "stream",
     "text": [
      "True positive rate: 0.9961202715809894\n",
      "False negative rate 0.0038797284190106693\n",
      "True negative rate 1.0\n",
      "False positive rate 0.0\n",
      "F1 score 0.9989821882951654\n"
     ]
    }
   ],
   "source": [
    "print(\"True positive rate:\", tpr)\n",
    "print(\"False negative rate\", fnr)\n",
    "print(\"True negative rate\",  tnr)\n",
    "print(\"False positive rate\", fpr)\n",
    "print(\"F1 score\", f1_score(label, predictForest))"
   ]
  },
  {
   "cell_type": "code",
   "execution_count": 75,
   "metadata": {},
   "outputs": [
    {
     "data": {
      "text/plain": [
       "array([[ 983,   41],\n",
       "       [  44, 1926]])"
      ]
     },
     "execution_count": 75,
     "metadata": {},
     "output_type": "execute_result"
    }
   ],
   "source": [
    "matrix = confusion_matrix(predicaoKNN, label)\n",
    "\n",
    "tpr = matrix[0][0] / matrix[0].sum()\n",
    "fnr = matrix[0][1] / matrix[0].sum()\n",
    "tnr = matrix[1][1] / matrix[1].sum()\n",
    "fpr = matrix[1][0] / matrix[1].sum()\n",
    "\n",
    "matrix"
   ]
  },
  {
   "cell_type": "code",
   "execution_count": 76,
   "metadata": {},
   "outputs": [
    {
     "data": {
      "text/plain": [
       "<sklearn.metrics._plot.confusion_matrix.ConfusionMatrixDisplay at 0x7f3fa87c6ad0>"
      ]
     },
     "execution_count": 76,
     "metadata": {},
     "output_type": "execute_result"
    },
    {
     "data": {
      "image/png": "[encoded data removed]",
      "text/plain": [
       "<Figure size 432x288 with 2 Axes>"
      ]
     },
     "metadata": {
      "needs_background": "light"
     },
     "output_type": "display_data"
    }
   ],
   "source": [
    "ConfusionMatrixDisplay(confusion_matrix(label, predicaoKNN), display_labels=['negativo', 'positivo']).plot(values_format= '1g')"
   ]
  },
  {
   "cell_type": "code",
   "execution_count": 77,
   "metadata": {},
   "outputs": [
    {
     "name": "stdout",
     "output_type": "stream",
     "text": [
      "True positive rate: 0.9599609375\n",
      "False negative rate 0.0400390625\n",
      "True negative rate 0.9776649746192894\n",
      "False positive rate 0.02233502538071066\n",
      "F1 score 0.9784099568199137\n"
     ]
    }
   ],
   "source": [
    "print(\"True positive rate:\", tpr)\n",
    "print(\"False negative rate\", fnr)\n",
    "print(\"True negative rate\",  tnr)\n",
    "print(\"False positive rate\", fpr)\n",
    "print(\"F1 score\", f1_score(label, predicaoKNN))"
   ]
  },
  {
   "cell_type": "code",
   "execution_count": 86,
   "metadata": {},
   "outputs": [],
   "source": [
    "from sklearn.model_selection import train_test_split\n",
    "\n",
    "featuresTreino, featuresTeste, labelTreino, labelTeste = train_test_split(featuresNormalizadas, label, train_size = 0.7, random_state = 42)"
   ]
  },
  {
   "cell_type": "code",
   "execution_count": 98,
   "metadata": {},
   "outputs": [
    {
     "name": "stdout",
     "output_type": "stream",
     "text": [
      "Tree => Treino/Teste 0.8701670644391408 0.8509454949944383\n",
      "Forest => Treino/Teste 0.9966587112171837 0.9354838709677419\n",
      "kNN => Treino/Teste 0.966109785202864 0.9299221357063404\n"
     ]
    }
   ],
   "source": [
    "#Decision Tree\n",
    "tree = DecisionTreeClassifier(min_samples_split = 50)\n",
    "tree.fit(featuresTreino, labelTreino)\n",
    "predictTree = tree.predict(featuresTeste)\n",
    "predictTreeTreino = tree.predict(featuresTreino)\n",
    "\n",
    "accTree = accuracy_score(labelTeste, predictTree)\n",
    "accTreeTreino = accuracy_score(labelTreino, predictTreeTreino)\n",
    "\n",
    "#Random Forest\n",
    "forest = RandomForestClassifier(n_estimators = 10)\n",
    "forest.fit(featuresTreino, labelTreino)\n",
    "predictForest = forest.predict(featuresTeste)\n",
    "predicaoForestTreino = forest.predict(featuresTreino)\n",
    "\n",
    "accForest = accuracy_score(labelTeste, predictForest)\n",
    "accForestTreino = accuracy_score(labelTreino, predicaoForestTreino)\n",
    "\n",
    "#KNeighbors Classifier\n",
    "knn = KNeighborsClassifier(n_neighbors = 5)\n",
    "knn.fit(featuresTreino, labelTreino)\n",
    "predicaoKNN = knn.predict(featuresTeste)\n",
    "predicaoKNNTreino = knn.predict(featuresTreino)\n",
    "\n",
    "accKNN = accuracy_score(labelTeste, predicaoKNN)\n",
    "accKNNTreino = accuracy_score(labelTreino, predicaoKNNTreino)\n",
    "\n",
    "\n",
    "print(\"Tree => Treino/Teste\", accTreeTreino, accTree)\n",
    "print(\"Forest => Treino/Teste\", accForestTreino, accForest)\n",
    "print(\"kNN => Treino/Teste\", accKNNTreino, accKNN)"
   ]
  },
  {
   "cell_type": "code",
   "execution_count": 109,
   "metadata": {},
   "outputs": [],
   "source": [
    "listaAccTreino = []\n",
    "listaAccTeste = []\n",
    "\n",
    "for i in range(200,1, -2):\n",
    "    tree = DecisionTreeClassifier(min_samples_split= i)\n",
    "    tree.fit(featuresTreino, labelTreino)\n",
    "    \n",
    "    predicaoTreeTreino = tree.predict(featuresTreino)\n",
    "    accTreino = accuracy_score(labelTreino, predicaoTreeTreino)\n",
    "    \n",
    "    predicaoTreeTeste = tree.predict(featuresTeste)\n",
    "    accTeste = accuracy_score(labelTeste, predicaoTreeTeste)\n",
    "    \n",
    "    listaAccTreino.append(1-accTreino)\n",
    "    listaAccTeste.append(1-accTeste)"
   ]
  },
  {
   "cell_type": "code",
   "execution_count": 114,
   "metadata": {},
   "outputs": [
    {
     "data": {
      "text/plain": [
       "array([[266,  42],\n",
       "       [ 25, 566]])"
      ]
     },
     "execution_count": 114,
     "metadata": {},
     "output_type": "execute_result"
    }
   ],
   "source": [
    "matrix = confusion_matrix(labelTeste,predicaoTreeTeste)\n",
    "\n",
    "tpr = matrix[0][0] / matrix[0].sum()\n",
    "fnr = matrix[0][1] / matrix[0].sum()\n",
    "tnr = matrix[1][1] / matrix[1].sum()\n",
    "fpr = matrix[1][0] / matrix[1].sum()\n",
    "\n",
    "matrix"
   ]
  },
  {
   "cell_type": "code",
   "execution_count": 116,
   "metadata": {},
   "outputs": [
    {
     "data": {
      "text/plain": [
       "<sklearn.metrics._plot.confusion_matrix.ConfusionMatrixDisplay at 0x7f3fa82d4c50>"
      ]
     },
     "execution_count": 116,
     "metadata": {},
     "output_type": "execute_result"
    },
    {
     "data": {
      "image/png": "[encoded data removed]",
      "text/plain": [
       "<Figure size 432x288 with 2 Axes>"
      ]
     },
     "metadata": {
      "needs_background": "light"
     },
     "output_type": "display_data"
    }
   ],
   "source": [
    "ConfusionMatrixDisplay(confusion_matrix(labelTeste, predicaoTreeTeste), display_labels=['negativo', 'positivo']).plot(values_format= '1g')"
   ]
  },
  {
   "cell_type": "code",
   "execution_count": 118,
   "metadata": {},
   "outputs": [
    {
     "name": "stdout",
     "output_type": "stream",
     "text": [
      "True positive rate: 0.8636363636363636\n",
      "False negative rate 0.13636363636363635\n",
      "True negative rate 0.9576988155668359\n",
      "False positive rate 0.04230118443316413\n",
      "F1 score 0.944120100083403\n"
     ]
    }
   ],
   "source": [
    "print(\"True positive rate:\", tpr)\n",
    "print(\"False negative rate\", fnr)\n",
    "print(\"True negative rate\",  tnr)\n",
    "print(\"False positive rate\", fpr)\n",
    "print(\"F1 score\", f1_score(labelTeste,predicaoTreeTeste))"
   ]
  },
  {
   "cell_type": "code",
   "execution_count": 120,
   "metadata": {},
   "outputs": [
    {
     "data": {
      "text/plain": [
       "<matplotlib.legend.Legend at 0x7f3fa6d65350>"
      ]
     },
     "execution_count": 120,
     "metadata": {},
     "output_type": "execute_result"
    },
    {
     "data": {
      "image/png": "[encoded data removed]",
      "text/plain": [
       "<Figure size 432x288 with 1 Axes>"
      ]
     },
     "metadata": {
      "needs_background": "light"
     },
     "output_type": "display_data"
    }
   ],
   "source": [
    "plt.plot(listaAccTreino)\n",
    "plt.plot(listaAccTeste)\n",
    "plt.legend(['Treino', 'Teste'])"
   ]
  },
  {
   "cell_type": "code",
   "execution_count": 122,
   "metadata": {},
   "outputs": [],
   "source": [
    "listaAccTreino = []\n",
    "listaAccTeste = []\n",
    "\n",
    "for estimator in range(10,100,1):\n",
    "       \n",
    "    forest = RandomForestClassifier(n_estimators = estimator)\n",
    "    forest.fit(featuresTreino, labelTreino)\n",
    "\n",
    "    predicaoForestTreino = forest.predict(featuresTreino)\n",
    "    accTreino = accuracy_score(labelTreino, predicaoForestTreino)\n",
    "    \n",
    "    predicaoForestTeste = forest.predict(featuresTeste)\n",
    "    accTeste = accuracy_score(labelTeste, predicaoForestTeste)\n",
    "    \n",
    "    listaAccTreino.append(1-accTreino)\n",
    "    listaAccTeste.append(1-accTeste)"
   ]
  },
  {
   "cell_type": "code",
   "execution_count": 124,
   "metadata": {},
   "outputs": [
    {
     "data": {
      "text/plain": [
       "array([[277,  31],\n",
       "       [ 10, 581]])"
      ]
     },
     "execution_count": 124,
     "metadata": {},
     "output_type": "execute_result"
    }
   ],
   "source": [
    "matrix = confusion_matrix(labelTeste,predicaoForestTeste)\n",
    "\n",
    "tpr = matrix[0][0] / matrix[0].sum()\n",
    "fnr = matrix[0][1] / matrix[0].sum()\n",
    "tnr = matrix[1][1] / matrix[1].sum()\n",
    "fpr = matrix[1][0] / matrix[1].sum()\n",
    "\n",
    "matrix"
   ]
  },
  {
   "cell_type": "code",
   "execution_count": 128,
   "metadata": {},
   "outputs": [
    {
     "data": {
      "text/plain": [
       "<sklearn.metrics._plot.confusion_matrix.ConfusionMatrixDisplay at 0x7f3fa6a9d450>"
      ]
     },
     "execution_count": 128,
     "metadata": {},
     "output_type": "execute_result"
    },
    {
     "data": {
      "image/png": "[encoded data removed]",
      "text/plain": [
       "<Figure size 432x288 with 2 Axes>"
      ]
     },
     "metadata": {
      "needs_background": "light"
     },
     "output_type": "display_data"
    }
   ],
   "source": [
    "ConfusionMatrixDisplay(confusion_matrix(labelTeste, predicaoForestTeste), display_labels=['negativo', 'positivo']).plot(values_format= '1g')"
   ]
  },
  {
   "cell_type": "code",
   "execution_count": 130,
   "metadata": {},
   "outputs": [
    {
     "name": "stdout",
     "output_type": "stream",
     "text": [
      "True positive rate: 0.8993506493506493\n",
      "False negative rate 0.10064935064935066\n",
      "True negative rate 0.9830795262267343\n",
      "False positive rate 0.01692047377326565\n",
      "F1 score 0.9659185369908561\n"
     ]
    }
   ],
   "source": [
    "print(\"True positive rate:\", tpr)\n",
    "print(\"False negative rate\", fnr)\n",
    "print(\"True negative rate\",  tnr)\n",
    "print(\"False positive rate\", fpr)\n",
    "print(\"F1 score\", f1_score(labelTeste,predicaoForestTeste))"
   ]
  },
  {
   "cell_type": "code",
   "execution_count": 136,
   "metadata": {},
   "outputs": [
    {
     "data": {
      "text/plain": [
       "<matplotlib.legend.Legend at 0x7f3fa65d17d0>"
      ]
     },
     "execution_count": 136,
     "metadata": {},
     "output_type": "execute_result"
    },
    {
     "data": {
      "image/png": "[encoded data removed]",
      "text/plain": [
       "<Figure size 432x288 with 1 Axes>"
      ]
     },
     "metadata": {
      "needs_background": "light"
     },
     "output_type": "display_data"
    }
   ],
   "source": [
    "plt.plot(listaAccTreino)\n",
    "plt.plot(listaAccTeste)\n",
    "plt.legend(['Treino', 'Teste'])"
   ]
  },
  {
   "cell_type": "code",
   "execution_count": 138,
   "metadata": {},
   "outputs": [],
   "source": [
    "listaAccTreino = []\n",
    "listaAccTeste = []\n",
    "\n",
    "for neighbor in range(5,100,1):\n",
    "       \n",
    "    knn = KNeighborsClassifier(n_neighbors = neighbor)\n",
    "    knn.fit(featuresTreino, labelTreino)\n",
    "    \n",
    "    predicaoKnnTreino = knn.predict(featuresTreino)\n",
    "    accTreino = accuracy_score(labelTreino, predicaoKnnTreino)\n",
    "    \n",
    "    predicaoKnnTeste = knn.predict(featuresTeste)\n",
    "    accTeste = accuracy_score(labelTeste, predicaoKnnTeste)\n",
    "    \n",
    "    listaAccTreino.append(1-accTreino)\n",
    "    listaAccTeste.append(1-accTeste)\n",
    "    "
   ]
  },
  {
   "cell_type": "code",
   "execution_count": 140,
   "metadata": {},
   "outputs": [
    {
     "data": {
      "text/plain": [
       "array([[129, 179],\n",
       "       [ 60, 531]])"
      ]
     },
     "execution_count": 140,
     "metadata": {},
     "output_type": "execute_result"
    }
   ],
   "source": [
    "matrix = confusion_matrix(labelTeste,predicaoKnnTeste)\n",
    "\n",
    "tpr = matrix[0][0] / matrix[0].sum()\n",
    "fnr = matrix[0][1] / matrix[0].sum()\n",
    "tnr = matrix[1][1] / matrix[1].sum()\n",
    "fpr = matrix[1][0] / matrix[1].sum()\n",
    "\n",
    "matrix"
   ]
  },
  {
   "cell_type": "code",
   "execution_count": 143,
   "metadata": {},
   "outputs": [
    {
     "data": {
      "text/plain": [
       "<sklearn.metrics._plot.confusion_matrix.ConfusionMatrixDisplay at 0x7f3fa6642110>"
      ]
     },
     "execution_count": 143,
     "metadata": {},
     "output_type": "execute_result"
    },
    {
     "data": {
      "image/png": "[encoded data removed]",
      "text/plain": [
       "<Figure size 432x288 with 2 Axes>"
      ]
     },
     "metadata": {
      "needs_background": "light"
     },
     "output_type": "display_data"
    }
   ],
   "source": [
    "ConfusionMatrixDisplay(confusion_matrix(labelTeste, predicaoKnnTeste), display_labels=['negativo', 'positivo']).plot(values_format= '1g')"
   ]
  },
  {
   "cell_type": "code",
   "execution_count": 145,
   "metadata": {},
   "outputs": [
    {
     "name": "stdout",
     "output_type": "stream",
     "text": [
      "True positive rate: 0.41883116883116883\n",
      "False negative rate 0.5811688311688312\n",
      "True negative rate 0.8984771573604061\n",
      "False positive rate 0.10152284263959391\n",
      "F1 score 0.8162951575710992\n"
     ]
    }
   ],
   "source": [
    "print(\"True positive rate:\", tpr)\n",
    "print(\"False negative rate\", fnr)\n",
    "print(\"True negative rate\",  tnr)\n",
    "print(\"False positive rate\", fpr)\n",
    "print(\"F1 score\", f1_score(labelTeste,predicaoKnnTeste))"
   ]
  },
  {
   "cell_type": "code",
   "execution_count": 146,
   "metadata": {},
   "outputs": [
    {
     "data": {
      "text/plain": [
       "<matplotlib.legend.Legend at 0x7f3fa6467250>"
      ]
     },
     "execution_count": 146,
     "metadata": {},
     "output_type": "execute_result"
    },
    {
     "data": {
      "image/png": "[encoded data removed]",
      "text/plain": [
       "<Figure size 432x288 with 1 Axes>"
      ]
     },
     "metadata": {
      "needs_background": "light"
     },
     "output_type": "display_data"
    }
   ],
   "source": [
    "plt.plot(listaAccTreino)\n",
    "plt.plot(listaAccTeste)\n",
    "plt.legend(['Treino', 'Teste'])"
   ]
  },
  {
   "cell_type": "code",
   "execution_count": 151,
   "metadata": {},
   "outputs": [
    {
     "name": "stdout",
     "output_type": "stream",
     "text": [
      "True positive rate: 0.8536585365853658\n",
      "False negative rate 0.14634146341463414\n",
      "True negative rate 0.9593908629441624\n",
      "False positive rate 0.04060913705583756\n",
      "F1 score 0.9426433915211969\n",
      "True positive rate: 0.8829268292682927\n",
      "False negative rate 0.11707317073170732\n",
      "True negative rate 0.9517766497461929\n",
      "False positive rate 0.048223350253807105\n",
      "F1 score 0.9457755359394704\n",
      "True positive rate: 0.8786407766990292\n",
      "False negative rate 0.12135922330097088\n",
      "True negative rate 0.9491094147582697\n",
      "False positive rate 0.05089058524173028\n",
      "F1 score 0.943109987357775\n",
      "True positive rate: 0.912621359223301\n",
      "False negative rate 0.08737864077669903\n",
      "True negative rate 0.9440203562340967\n",
      "False positive rate 0.05597964376590331\n",
      "F1 score 0.948849104859335\n",
      "True positive rate: 0.8926829268292683\n",
      "False negative rate 0.1073170731707317\n",
      "True negative rate 0.9491094147582697\n",
      "False positive rate 0.05089058524173028\n",
      "F1 score 0.9467005076142133\n",
      "0.8841060857210514\n"
     ]
    }
   ],
   "source": [
    "from sklearn.model_selection import RepeatedStratifiedKFold\n",
    "\n",
    "folds = RepeatedStratifiedKFold(n_splits=5, n_repeats=1, random_state= 42)\\\n",
    ".split(featuresNormalizadas, label)\n",
    "\n",
    "somaTpr = 0\n",
    "\n",
    "for indice_treino, indice_teste in folds:\n",
    "    \n",
    "    featuresTreino = featuresNormalizadas[indice_treino]\n",
    "    labelTreino = label[indice_treino]\n",
    "    \n",
    "    featuresTeste = featuresNormalizadas[indice_teste]\n",
    "    labelTeste = label[indice_teste]\n",
    "    \n",
    "    tree = DecisionTreeClassifier()\n",
    "    tree.fit(featuresTreino, labelTreino)\n",
    "    \n",
    "    predicaoTeste  = tree.predict(featuresTeste)\n",
    "    \n",
    "    matrix = confusion_matrix(labelTeste, predicaoTeste)\n",
    "\n",
    "    tpr = matrix[0][0] / matrix[0].sum()\n",
    "    fnr = matrix[0][1] / matrix[0].sum()\n",
    "    tnr = matrix[1][1] / matrix[1].sum()\n",
    "    fpr = matrix[1][0] / matrix[1].sum()\n",
    "    \n",
    "    somaTpr = somaTpr + tpr\n",
    "    \n",
    "    print(\"True positive rate:\", tpr)\n",
    "    print(\"False negative rate\", fnr)\n",
    "    print(\"True negative rate\",  tnr)\n",
    "    print(\"False positive rate\", fpr)\n",
    "    print(\"F1 score\", f1_score(labelTeste, predicaoTeste))\n",
    "    \n",
    "print(somaTpr / 5.0)"
   ]
  },
  {
   "cell_type": "code",
   "execution_count": 152,
   "metadata": {},
   "outputs": [
    {
     "name": "stdout",
     "output_type": "stream",
     "text": [
      "True positive rate: 0.9121951219512195\n",
      "False negative rate 0.08780487804878048\n",
      "True negative rate 0.9644670050761421\n",
      "False positive rate 0.03553299492385787\n",
      "F1 score 0.9595959595959597\n",
      "True positive rate: 0.8926829268292683\n",
      "False negative rate 0.1073170731707317\n",
      "True negative rate 0.9670050761421319\n",
      "False positive rate 0.03299492385786802\n",
      "F1 score 0.9560853199498118\n",
      "True positive rate: 0.9029126213592233\n",
      "False negative rate 0.0970873786407767\n",
      "True negative rate 0.9516539440203562\n",
      "False positive rate 0.04834605597964377\n",
      "F1 score 0.9504447268106734\n",
      "True positive rate: 0.9174757281553398\n",
      "False negative rate 0.0825242718446602\n",
      "True negative rate 0.9516539440203562\n",
      "False positive rate 0.04834605597964377\n",
      "F1 score 0.9540816326530612\n",
      "True positive rate: 0.8975609756097561\n",
      "False negative rate 0.1024390243902439\n",
      "True negative rate 0.9567430025445293\n",
      "False positive rate 0.043256997455470736\n",
      "F1 score 0.9518987341772152\n",
      "0.9045654747809614\n"
     ]
    }
   ],
   "source": [
    "from sklearn.model_selection import RepeatedStratifiedKFold\n",
    "\n",
    "folds = RepeatedStratifiedKFold(n_splits=5, n_repeats=1, random_state= 42)\\\n",
    ".split(featuresNormalizadas, label)\n",
    "\n",
    "somaTpr = 0\n",
    "\n",
    "for indice_treino, indice_teste in folds:\n",
    "    \n",
    "    featuresTreino = featuresNormalizadas[indice_treino]\n",
    "    labelTreino = label[indice_treino]\n",
    "    \n",
    "    featuresTeste = featuresNormalizadas[indice_teste]\n",
    "    labelTeste = label[indice_teste]\n",
    "    \n",
    "    knn = KNeighborsClassifier(n_neighbors = 5)\n",
    "    knn.fit(featuresTreino, labelTreino)\n",
    "    \n",
    "    predicaoTeste  = knn.predict(featuresTeste)\n",
    "    \n",
    "    matrix = confusion_matrix(labelTeste, predicaoTeste)\n",
    "\n",
    "    tpr = matrix[0][0] / matrix[0].sum()\n",
    "    fnr = matrix[0][1] / matrix[0].sum()\n",
    "    tnr = matrix[1][1] / matrix[1].sum()\n",
    "    fpr = matrix[1][0] / matrix[1].sum()\n",
    "    \n",
    "    somaTpr = somaTpr + tpr\n",
    "    \n",
    "    print(\"True positive rate:\", tpr)\n",
    "    print(\"False negative rate\", fnr)\n",
    "    print(\"True negative rate\",  tnr)\n",
    "    print(\"False positive rate\", fpr)\n",
    "    print(\"F1 score\", f1_score(labelTeste, predicaoTeste))\n",
    "    \n",
    "print(somaTpr / 5.0)"
   ]
  },
  {
   "cell_type": "code",
   "execution_count": 153,
   "metadata": {},
   "outputs": [
    {
     "name": "stdout",
     "output_type": "stream",
     "text": [
      "True positive rate: 0.8878048780487805\n",
      "False negative rate 0.11219512195121951\n",
      "True negative rate 0.9593908629441624\n",
      "False positive rate 0.04060913705583756\n",
      "F1 score 0.9509433962264151\n",
      "True positive rate: 0.8829268292682927\n",
      "False negative rate 0.11707317073170732\n",
      "True negative rate 0.9822335025380711\n",
      "False positive rate 0.017766497461928935\n",
      "F1 score 0.9614906832298136\n",
      "True positive rate: 0.8980582524271845\n",
      "False negative rate 0.10194174757281553\n",
      "True negative rate 0.9720101781170484\n",
      "False positive rate 0.027989821882951654\n",
      "F1 score 0.9597989949748743\n",
      "True positive rate: 0.9368932038834952\n",
      "False negative rate 0.06310679611650485\n",
      "True negative rate 0.9592875318066157\n",
      "False positive rate 0.04071246819338423\n",
      "F1 score 0.9629629629629629\n",
      "True positive rate: 0.9073170731707317\n",
      "False negative rate 0.09268292682926829\n",
      "True negative rate 0.9541984732824428\n",
      "False positive rate 0.04580152671755725\n",
      "F1 score 0.9529860228716646\n",
      "0.9026000473596969\n"
     ]
    }
   ],
   "source": [
    "from sklearn.model_selection import RepeatedStratifiedKFold\n",
    "\n",
    "folds = RepeatedStratifiedKFold(n_splits=5, n_repeats=1, random_state= 42)\\\n",
    ".split(featuresNormalizadas, label)\n",
    "\n",
    "somaTpr = 0\n",
    "\n",
    "for indice_treino, indice_teste in folds:\n",
    "    \n",
    "    featuresTreino = featuresNormalizadas[indice_treino]\n",
    "    labelTreino = label[indice_treino]\n",
    "    \n",
    "    featuresTeste = featuresNormalizadas[indice_teste]\n",
    "    labelTeste = label[indice_teste]\n",
    "     \n",
    "    forest = RandomForestClassifier(n_estimators = 100)\n",
    "    forest.fit(featuresTreino, labelTreino)\n",
    "    \n",
    "    predicaoTeste  = forest.predict(featuresTeste)\n",
    "    \n",
    "    matrix = confusion_matrix(labelTeste, predicaoTeste)\n",
    "\n",
    "    tpr = matrix[0][0] / matrix[0].sum()\n",
    "    fnr = matrix[0][1] / matrix[0].sum()\n",
    "    tnr = matrix[1][1] / matrix[1].sum()\n",
    "    fpr = matrix[1][0] / matrix[1].sum()\n",
    "    \n",
    "    somaTpr = somaTpr + tpr\n",
    "    \n",
    "    print(\"True positive rate:\", tpr)\n",
    "    print(\"False negative rate\", fnr)\n",
    "    print(\"True negative rate\",  tnr)\n",
    "    print(\"False positive rate\", fpr)\n",
    "    print(\"F1 score\", f1_score(labelTeste, predicaoTeste))\n",
    "    \n",
    "print(somaTpr / 5.0)"
   ]
  },
  {
   "cell_type": "markdown",
   "metadata": {},
   "source": [
    "#### Pratica 2 -  Dataset Titanic (datasets/titanic.csv)\n",
    "\n",
    "#### Descricao\n",
    "\n",
    "Problema\n",
    "\n",
    "The competition is simple: use machine learning to create a model that predicts which passengers survived the Titanic shipwreck.\n",
    "\n",
    "Atributos\n",
    "\n",
    "- survival (0 = No, 1 = Yes)\n",
    "- pclas: Ticket class (1 = 1st, 2 = 2nd, 3 = 3rd)\n",
    "- sex: Sex\t\n",
    "- sibsp: # of siblings / spouses aboard the Titanic\t\n",
    "- parch: # of parents / children aboard the Titanic\t\n",
    "- ticket: Ticket number\t\n",
    "- fare: Passenger fare\t\n",
    "- cabin: Cabin number\t\n",
    "- embarked: Port of Embarkation (C = Cherbourg, Q = Queenstown, S = Southampton)\n",
    "\n",
    "Etapas, fazendo a devida otimização de parametros:\n",
    "1. Utilizando a abordagem de holdout (70% para treinamento, 30% para teste), fazendo uso do ponto de operação com a generalização, determine:\n",
    "    - O melhor classificador para determinar quem sobreviveu, exiba a sua matriz de confusão com o resultado\n",
    "    - O melhor classificador para determinar quem não sobreviveu, exiba a sua matriz de confusão com o resultado\n",
    "    - O melhor classificador para determinar quem sobreviveu ou não\n",
    "2. Repita os passos 3 e 4 utilizando a abordagem de validação cruzada (5 folds)\n",
    "    - O melhor classificador para determinar quem sobreviveu, exiba a sua matriz de confusão com o resultado\n",
    "    - O melhor classificador para determinar quem não sobreviveu, exiba a sua matriz de confusão com o resultado\n",
    "    - O melhor classificador para determinar quem sobreviveu ou não"
   ]
  },
  {
   "cell_type": "code",
   "execution_count": 154,
   "metadata": {},
   "outputs": [],
   "source": [
    "import numpy as np\n",
    "import pandas as pd\n",
    "import matplotlib.pyplot as plt"
   ]
  },
  {
   "cell_type": "code",
   "execution_count": 155,
   "metadata": {},
   "outputs": [],
   "source": [
    "dfTitanic = pd.read_csv('datasets/titanic.csv')"
   ]
  },
  {
   "cell_type": "code",
   "execution_count": 156,
   "metadata": {},
   "outputs": [
    {
     "data": {
      "text/plain": [
       "PassengerId      int64\n",
       "Survived         int64\n",
       "Pclass           int64\n",
       "Name            object\n",
       "Sex             object\n",
       "SibSp            int64\n",
       "Parch            int64\n",
       "Ticket          object\n",
       "Fare           float64\n",
       "Cabin           object\n",
       "Embarked        object\n",
       "dtype: object"
      ]
     },
     "execution_count": 156,
     "metadata": {},
     "output_type": "execute_result"
    }
   ],
   "source": [
    "dfTitanic.dtypes"
   ]
  },
  {
   "cell_type": "code",
   "execution_count": 157,
   "metadata": {},
   "outputs": [],
   "source": [
    "dfTitanic = dfTitanic.drop(['PassengerId', 'Name', 'Ticket', 'Cabin'], axis = 1)"
   ]
  },
  {
   "cell_type": "code",
   "execution_count": 158,
   "metadata": {},
   "outputs": [
    {
     "data": {
      "text/plain": [
       "Survived      int64\n",
       "Pclass        int64\n",
       "Sex          object\n",
       "SibSp         int64\n",
       "Parch         int64\n",
       "Fare        float64\n",
       "Embarked     object\n",
       "dtype: object"
      ]
     },
     "execution_count": 158,
     "metadata": {},
     "output_type": "execute_result"
    }
   ],
   "source": [
    "dfTitanic.dtypes"
   ]
  },
  {
   "cell_type": "code",
   "execution_count": 159,
   "metadata": {},
   "outputs": [],
   "source": [
    "dfNumerico = pd.get_dummies(dfTitanic, prefix_sep='_', drop_first=True)"
   ]
  },
  {
   "cell_type": "code",
   "execution_count": 160,
   "metadata": {},
   "outputs": [
    {
     "data": {
      "text/html": [
       "<div>\n",
       "<style scoped>\n",
       "    .dataframe tbody tr th:only-of-type {\n",
       "        vertical-align: middle;\n",
       "    }\n",
       "\n",
       "    .dataframe tbody tr th {\n",
       "        vertical-align: top;\n",
       "    }\n",
       "\n",
       "    .dataframe thead th {\n",
       "        text-align: right;\n",
       "    }\n",
       "</style>\n",
       "<table border=\"1\" class=\"dataframe\">\n",
       "  <thead>\n",
       "    <tr style=\"text-align: right;\">\n",
       "      <th></th>\n",
       "      <th>Survived</th>\n",
       "      <th>Pclass</th>\n",
       "      <th>SibSp</th>\n",
       "      <th>Parch</th>\n",
       "      <th>Fare</th>\n",
       "      <th>Sex_male</th>\n",
       "      <th>Embarked_Q</th>\n",
       "      <th>Embarked_S</th>\n",
       "    </tr>\n",
       "  </thead>\n",
       "  <tbody>\n",
       "    <tr>\n",
       "      <th>count</th>\n",
       "      <td>891.000000</td>\n",
       "      <td>891.000000</td>\n",
       "      <td>891.000000</td>\n",
       "      <td>891.000000</td>\n",
       "      <td>891.000000</td>\n",
       "      <td>891.000000</td>\n",
       "      <td>891.000000</td>\n",
       "      <td>891.000000</td>\n",
       "    </tr>\n",
       "    <tr>\n",
       "      <th>mean</th>\n",
       "      <td>0.383838</td>\n",
       "      <td>2.308642</td>\n",
       "      <td>0.523008</td>\n",
       "      <td>0.381594</td>\n",
       "      <td>32.204208</td>\n",
       "      <td>0.647587</td>\n",
       "      <td>0.086420</td>\n",
       "      <td>0.722783</td>\n",
       "    </tr>\n",
       "    <tr>\n",
       "      <th>std</th>\n",
       "      <td>0.486592</td>\n",
       "      <td>0.836071</td>\n",
       "      <td>1.102743</td>\n",
       "      <td>0.806057</td>\n",
       "      <td>49.693429</td>\n",
       "      <td>0.477990</td>\n",
       "      <td>0.281141</td>\n",
       "      <td>0.447876</td>\n",
       "    </tr>\n",
       "    <tr>\n",
       "      <th>min</th>\n",
       "      <td>0.000000</td>\n",
       "      <td>1.000000</td>\n",
       "      <td>0.000000</td>\n",
       "      <td>0.000000</td>\n",
       "      <td>0.000000</td>\n",
       "      <td>0.000000</td>\n",
       "      <td>0.000000</td>\n",
       "      <td>0.000000</td>\n",
       "    </tr>\n",
       "    <tr>\n",
       "      <th>25%</th>\n",
       "      <td>0.000000</td>\n",
       "      <td>2.000000</td>\n",
       "      <td>0.000000</td>\n",
       "      <td>0.000000</td>\n",
       "      <td>7.910400</td>\n",
       "      <td>0.000000</td>\n",
       "      <td>0.000000</td>\n",
       "      <td>0.000000</td>\n",
       "    </tr>\n",
       "    <tr>\n",
       "      <th>50%</th>\n",
       "      <td>0.000000</td>\n",
       "      <td>3.000000</td>\n",
       "      <td>0.000000</td>\n",
       "      <td>0.000000</td>\n",
       "      <td>14.454200</td>\n",
       "      <td>1.000000</td>\n",
       "      <td>0.000000</td>\n",
       "      <td>1.000000</td>\n",
       "    </tr>\n",
       "    <tr>\n",
       "      <th>75%</th>\n",
       "      <td>1.000000</td>\n",
       "      <td>3.000000</td>\n",
       "      <td>1.000000</td>\n",
       "      <td>0.000000</td>\n",
       "      <td>31.000000</td>\n",
       "      <td>1.000000</td>\n",
       "      <td>0.000000</td>\n",
       "      <td>1.000000</td>\n",
       "    </tr>\n",
       "    <tr>\n",
       "      <th>max</th>\n",
       "      <td>1.000000</td>\n",
       "      <td>3.000000</td>\n",
       "      <td>8.000000</td>\n",
       "      <td>6.000000</td>\n",
       "      <td>512.329200</td>\n",
       "      <td>1.000000</td>\n",
       "      <td>1.000000</td>\n",
       "      <td>1.000000</td>\n",
       "    </tr>\n",
       "  </tbody>\n",
       "</table>\n",
       "</div>"
      ],
      "text/plain": [
       "         Survived      Pclass       SibSp       Parch        Fare    Sex_male  \\\n",
       "count  891.000000  891.000000  891.000000  891.000000  891.000000  891.000000   \n",
       "mean     0.383838    2.308642    0.523008    0.381594   32.204208    0.647587   \n",
       "std      0.486592    0.836071    1.102743    0.806057   49.693429    0.477990   \n",
       "min      0.000000    1.000000    0.000000    0.000000    0.000000    0.000000   \n",
       "25%      0.000000    2.000000    0.000000    0.000000    7.910400    0.000000   \n",
       "50%      0.000000    3.000000    0.000000    0.000000   14.454200    1.000000   \n",
       "75%      1.000000    3.000000    1.000000    0.000000   31.000000    1.000000   \n",
       "max      1.000000    3.000000    8.000000    6.000000  512.329200    1.000000   \n",
       "\n",
       "       Embarked_Q  Embarked_S  \n",
       "count  891.000000  891.000000  \n",
       "mean     0.086420    0.722783  \n",
       "std      0.281141    0.447876  \n",
       "min      0.000000    0.000000  \n",
       "25%      0.000000    0.000000  \n",
       "50%      0.000000    1.000000  \n",
       "75%      0.000000    1.000000  \n",
       "max      1.000000    1.000000  "
      ]
     },
     "execution_count": 160,
     "metadata": {},
     "output_type": "execute_result"
    }
   ],
   "source": [
    "dfNumerico.describe()"
   ]
  },
  {
   "cell_type": "code",
   "execution_count": 161,
   "metadata": {},
   "outputs": [],
   "source": [
    "from sklearn.preprocessing import MaxAbsScaler\n",
    "\n",
    "features = np.array(dfNumerico.drop(['Survived'], axis = 1))\n",
    "label = np.array(dfNumerico.Survived)\n",
    "\n",
    "scaler = MaxAbsScaler()\n",
    "scaler.fit(features)\n",
    "featuresNormalizadas = scaler.transform(features)"
   ]
  },
  {
   "cell_type": "code",
   "execution_count": 162,
   "metadata": {},
   "outputs": [],
   "source": [
    "featuresTreino, featuresTeste, labelTreino, labelTeste = train_test_split(featuresNormalizadas, label, train_size = 0.7, random_state = 42)"
   ]
  },
  {
   "cell_type": "code",
   "execution_count": 163,
   "metadata": {},
   "outputs": [],
   "source": [
    "listaErroTreino = []\n",
    "listaErroTeste = []\n",
    "\n",
    "for i in range(200,1,-2):\n",
    "    tree = DecisionTreeClassifier(min_samples_split= i)\n",
    "    tree.fit(featuresTreino, labelTreino)\n",
    "    \n",
    "    predicaoTreino = tree.predict(featuresTreino)\n",
    "    accTreino = accuracy_score(labelTreino, predicaoTreino)\n",
    "    \n",
    "    predicaoTeste = tree.predict(featuresTeste)\n",
    "    accTeste = accuracy_score(labelTeste, predicaoTeste)\n",
    "    \n",
    "    #100% - acc% = erro\n",
    "    listaErroTeste.append(1 - accTeste)\n",
    "    listaErroTreino.append(1- accTreino)\n",
    "    "
   ]
  },
  {
   "cell_type": "code",
   "execution_count": 164,
   "metadata": {},
   "outputs": [
    {
     "data": {
      "image/png": "[encoded data removed]",
      "text/plain": [
       "<Figure size 432x288 with 1 Axes>"
      ]
     },
     "metadata": {
      "needs_background": "light"
     },
     "output_type": "display_data"
    }
   ],
   "source": [
    "plt.plot(listaErroTreino)\n",
    "plt.plot(listaErroTeste)\n",
    "plt.legend(['Treino', 'Teste'])\n",
    "plt.show()"
   ]
  },
  {
   "cell_type": "code",
   "execution_count": 171,
   "metadata": {},
   "outputs": [],
   "source": [
    "from sklearn.ensemble import RandomForestClassifier\n",
    "listaErroTreino = []\n",
    "listaErroTeste = []\n",
    "\n",
    "for i in range(1,200,2):\n",
    "    forest = RandomForestClassifier(n_estimators = i)\n",
    "    forest.fit(featuresTreino, labelTreino)\n",
    "    \n",
    "    predicaoTreino = forest.predict(featuresTreino)\n",
    "    accTreino = accuracy_score(labelTreino, predicaoTreino)\n",
    "    \n",
    "    predicaoTeste = forest.predict(featuresTeste)\n",
    "    accTeste = accuracy_score(labelTeste, predicaoTeste)\n",
    "    \n",
    "    #100% - acc% = erro\n",
    "    listaErroTeste.append(1 - accTeste)\n",
    "    listaErroTreino.append(1- accTreino)\n",
    "    "
   ]
  },
  {
   "cell_type": "code",
   "execution_count": 172,
   "metadata": {},
   "outputs": [
    {
     "data": {
      "image/png": "[encoded data removed]",
      "text/plain": [
       "<Figure size 432x288 with 1 Axes>"
      ]
     },
     "metadata": {
      "needs_background": "light"
     },
     "output_type": "display_data"
    }
   ],
   "source": [
    "plt.plot(listaErroTreino)\n",
    "plt.plot(listaErroTeste)\n",
    "plt.legend(['Treino', 'Teste'])\n",
    "plt.show()"
   ]
  },
  {
   "cell_type": "code",
   "execution_count": 168,
   "metadata": {},
   "outputs": [],
   "source": [
    "listaAccTreino = []\n",
    "listaAccTeste = []\n",
    "\n",
    "for neighbor in range(5,100,1):\n",
    "       \n",
    "    knn = KNeighborsClassifier(n_neighbors = neighbor)\n",
    "    knn.fit(featuresTreino, labelTreino)\n",
    "    \n",
    "    predicaoKnnTreino = knn.predict(featuresTreino)\n",
    "    accTreino = accuracy_score(labelTreino, predicaoKnnTreino)\n",
    "    \n",
    "    predicaoKnnTeste = knn.predict(featuresTeste)\n",
    "    accTeste = accuracy_score(labelTeste, predicaoKnnTeste)\n",
    "    \n",
    "    listaAccTreino.append(1-accTreino)\n",
    "    listaAccTeste.append(1-accTeste)\n",
    "    "
   ]
  },
  {
   "cell_type": "code",
   "execution_count": 169,
   "metadata": {},
   "outputs": [
    {
     "data": {
      "image/png": "[encoded data removed]",
      "text/plain": [
       "<Figure size 432x288 with 1 Axes>"
      ]
     },
     "metadata": {
      "needs_background": "light"
     },
     "output_type": "display_data"
    }
   ],
   "source": [
    "plt.plot(listaErroTreino)\n",
    "plt.plot(listaErroTeste)\n",
    "plt.legend(['Treino', 'Teste'])\n",
    "plt.show()"
   ]
  },
  {
   "cell_type": "markdown",
   "metadata": {},
   "source": [
    "####  Pratica 3 -  Detecção de Números (datasets/digit.csv)\n",
    "\n",
    "#### Descricao\n",
    "\n",
    "Problema\n",
    "\n",
    "Detecção de imagens com números (0 a 9) escritos a mão.\n",
    "\n",
    "Atributos\n",
    "\n",
    "- Label (0,1,2,3,4,5,6,7,8,9)\n",
    "- pixel0\n",
    "- pixel1\n",
    "- ...\n",
    "- pixel783\n",
    "\n",
    "Etapas, fazendo a devida otimização de parametros:\n",
    "1. Utilizando a abordagem de holdout (70% para treinamento, 30% para teste), fazendo uso do ponto de operação com a generalização, determine:\n",
    "    - O melhor classificador para detecção dos números\n",
    "    - O melhor classificador para detecção do dígito '5'"
   ]
  },
  {
   "cell_type": "code",
   "execution_count": null,
   "metadata": {},
   "outputs": [],
   "source": []
  }
 ],
 "metadata": {
  "kernelspec": {
   "display_name": "Python 3",
   "language": "python",
   "name": "python3"
  },
  "language_info": {
   "codemirror_mode": {
    "name": "ipython",
    "version": 3
   },
   "file_extension": ".py",
   "mimetype": "text/x-python",
   "name": "python",
   "nbconvert_exporter": "python",
   "pygments_lexer": "ipython3",
   "version": "3.7.6"
  }
 },
 "nbformat": 4,
 "nbformat_minor": 4
}
