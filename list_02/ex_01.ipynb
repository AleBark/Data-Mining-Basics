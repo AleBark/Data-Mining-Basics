{
 "cells": [
  {
   "cell_type": "markdown",
   "metadata": {},
   "source": [
    "### Exercício 2\n",
    "\n",
    "#### Pratica 1 -  Dataset 2D (datasets/2d_dataset.csv)\n",
    "\n",
    "#### Descricao\n",
    "\n",
    "Atributos\n",
    "\n",
    "- alpha (numérico): valor x\n",
    "- beta (numérico): valor y\n",
    "- y (0 ou 1, numérico): classe\n",
    "\n",
    "Etapas:\n",
    "1. Importe as bibliotecas necessárias para analise dos dados\n",
    "```python\n",
    "import pandas as pd\n",
    "import numpy as np\n",
    "import seaborn as sns\n",
    "import matplotlib.pyplot as plt\n",
    "```\n",
    "2. Carregue o Dataset em um DataFrame\n",
    "```python\n",
    "df = pd.read_csv('datasets/2d_dataset.csv')\n",
    "```\n",
    "3. Treine modelos de:\n",
    "    1. kNN (efetuando as etapas de preprocessamento necessárias)\n",
    "    2. Árvore de Decisão (efetuando as etapas de preprocessamento necessárias)\n",
    "    3. Random Forest (efetuando as etapas de preprocessamento necessárias)\n",
    "4. Avalie os modelos treinados\n",
    "    - Utilize a avaliação através do sklearn\n",
    "    ```python\n",
    "    from sklearn.metrics import accuracy_score\n",
    "    accuracy_score(predicao, classe)\n",
    "    ```\n",
    "5. Faça busca dos melhores hiperparametros dos classificadores\n",
    "    - Quantidade de instâncias mínimas em um nó da árvore de decisão para efetuar o split (min_samples_split de 2 a 200)\n",
    "        - Plote a relação entre min_samples_split X acurácia\n",
    "        - Plote a relação entre min_samples_split X tamanho da árvore (.tree_.node_count)\n",
    "        - Plote a relação entre min_samples_split X tempo de teste\n",
    "    - Quantidade de árvores do Random Forest (n_estimators de 10 a 1000, incrementando 10)\n",
    "        - Plote a relação entre n_estimators X acurácia\n",
    "        - Plote a relação entre n_estimators X tempo de teste\n",
    "    - Quantidade de vizinhos do kNN (n_neighbors de 5 a 100)\n",
    "        - Plote a relação entre n_neighbors X acurácia\n",
    "        - Plote a relação entre n_neighbors X tempo de teste\n",
    "\n",
    "- Para medir o tempo utilize o seguinte código\n",
    "```python\n",
    "import time\n",
    "comeco = time.time()\n",
    "# seu codigo aqui\n",
    "tempo_total = time.time() - comeco\n",
    "```"
   ]
  },
  {
   "cell_type": "code",
   "execution_count": 21,
   "metadata": {},
   "outputs": [],
   "source": [
    "import pandas as pd\n",
    "import numpy as np\n",
    "import matplotlib.pyplot as plt"
   ]
  },
  {
   "cell_type": "code",
   "execution_count": 22,
   "metadata": {},
   "outputs": [],
   "source": [
    "from sklearn.metrics import accuracy_score\n",
    "from sklearn.neighbors import KNeighborsClassifier\n",
    "from sklearn.tree import DecisionTreeClassifier\n",
    "from sklearn.ensemble import RandomForestClassifier\n",
    "from sklearn.preprocessing import MaxAbsScaler"
   ]
  },
  {
   "cell_type": "code",
   "execution_count": 23,
   "metadata": {},
   "outputs": [],
   "source": [
    "df = pd.read_csv('datasets/2d_dataset.csv')"
   ]
  },
  {
   "cell_type": "code",
   "execution_count": 24,
   "metadata": {},
   "outputs": [
    {
     "data": {
      "text/html": [
       "<div>\n",
       "<style scoped>\n",
       "    .dataframe tbody tr th:only-of-type {\n",
       "        vertical-align: middle;\n",
       "    }\n",
       "\n",
       "    .dataframe tbody tr th {\n",
       "        vertical-align: top;\n",
       "    }\n",
       "\n",
       "    .dataframe thead th {\n",
       "        text-align: right;\n",
       "    }\n",
       "</style>\n",
       "<table border=\"1\" class=\"dataframe\">\n",
       "  <thead>\n",
       "    <tr style=\"text-align: right;\">\n",
       "      <th></th>\n",
       "      <th>y</th>\n",
       "      <th>alpha</th>\n",
       "      <th>beta</th>\n",
       "    </tr>\n",
       "  </thead>\n",
       "  <tbody>\n",
       "    <tr>\n",
       "      <th>count</th>\n",
       "      <td>2994.000000</td>\n",
       "      <td>2994.000000</td>\n",
       "      <td>2994.000000</td>\n",
       "    </tr>\n",
       "    <tr>\n",
       "      <th>mean</th>\n",
       "      <td>0.656981</td>\n",
       "      <td>500.917502</td>\n",
       "      <td>501.393454</td>\n",
       "    </tr>\n",
       "    <tr>\n",
       "      <th>std</th>\n",
       "      <td>0.474797</td>\n",
       "      <td>289.387318</td>\n",
       "      <td>286.933215</td>\n",
       "    </tr>\n",
       "    <tr>\n",
       "      <th>min</th>\n",
       "      <td>0.000000</td>\n",
       "      <td>0.000000</td>\n",
       "      <td>0.000000</td>\n",
       "    </tr>\n",
       "    <tr>\n",
       "      <th>25%</th>\n",
       "      <td>0.000000</td>\n",
       "      <td>248.000000</td>\n",
       "      <td>256.000000</td>\n",
       "    </tr>\n",
       "    <tr>\n",
       "      <th>50%</th>\n",
       "      <td>1.000000</td>\n",
       "      <td>505.500000</td>\n",
       "      <td>499.000000</td>\n",
       "    </tr>\n",
       "    <tr>\n",
       "      <th>75%</th>\n",
       "      <td>1.000000</td>\n",
       "      <td>755.000000</td>\n",
       "      <td>749.000000</td>\n",
       "    </tr>\n",
       "    <tr>\n",
       "      <th>max</th>\n",
       "      <td>1.000000</td>\n",
       "      <td>998.000000</td>\n",
       "      <td>999.000000</td>\n",
       "    </tr>\n",
       "  </tbody>\n",
       "</table>\n",
       "</div>"
      ],
      "text/plain": [
       "                 y        alpha         beta\n",
       "count  2994.000000  2994.000000  2994.000000\n",
       "mean      0.656981   500.917502   501.393454\n",
       "std       0.474797   289.387318   286.933215\n",
       "min       0.000000     0.000000     0.000000\n",
       "25%       0.000000   248.000000   256.000000\n",
       "50%       1.000000   505.500000   499.000000\n",
       "75%       1.000000   755.000000   749.000000\n",
       "max       1.000000   998.000000   999.000000"
      ]
     },
     "execution_count": 24,
     "metadata": {},
     "output_type": "execute_result"
    }
   ],
   "source": [
    "df.describe()"
   ]
  },
  {
   "cell_type": "code",
   "execution_count": 25,
   "metadata": {},
   "outputs": [
    {
     "data": {
      "text/plain": [
       "y        int64\n",
       "alpha    int64\n",
       "beta     int64\n",
       "dtype: object"
      ]
     },
     "execution_count": 25,
     "metadata": {},
     "output_type": "execute_result"
    }
   ],
   "source": [
    "df.dtypes"
   ]
  },
  {
   "cell_type": "code",
   "execution_count": 26,
   "metadata": {},
   "outputs": [],
   "source": [
    "features = np.array(df.drop(['y'], axis = 1))\n",
    "label = np.array(df['y'])"
   ]
  },
  {
   "cell_type": "code",
   "execution_count": 27,
   "metadata": {},
   "outputs": [],
   "source": [
    "scaler = MaxAbsScaler()\n",
    "scaler.fit(features)\n",
    "featuresNormalizadas = scaler.transform(features)"
   ]
  },
  {
   "cell_type": "code",
   "execution_count": 31,
   "metadata": {},
   "outputs": [
    {
     "data": {
      "text/plain": [
       "(0.9024716098864396, 0.9966599866399466, 0.9716098864395457, 161)"
      ]
     },
     "execution_count": 31,
     "metadata": {},
     "output_type": "execute_result"
    }
   ],
   "source": [
    "# Decision Tree\n",
    "tree = DecisionTreeClassifier(min_samples_split = 50)\n",
    "tree.fit(featuresNormalizadas, label)\n",
    "predictTree = tree.predict(featuresNormalizadas)\n",
    "accTree = accuracy_score(predictTree, label)\n",
    "\n",
    "#Random Forest\n",
    "forest = RandomForestClassifier(n_estimators = 10)\n",
    "forest.fit(featuresNormalizadas, label)\n",
    "predictForest = forest.predict(featuresNormalizadas)\n",
    "accForest = accuracy_score(predictForest, label)\n",
    "\n",
    "#KNeighbors Classifier\n",
    "knn = KNeighborsClassifier(n_neighbors = 5)\n",
    "knn.fit(featuresNormalizadas, label)\n",
    "predicaoKNN = knn.predict(featuresNormalizadas)\n",
    "accKNN = accuracy_score(predicaoKNN, label)\n",
    "\n",
    "accTree,accForest,accKNN,tree.tree_.node_count"
   ]
  },
  {
   "cell_type": "code",
   "execution_count": 29,
   "metadata": {},
   "outputs": [
    {
     "data": {
      "image/png": "[encoded data removed]",
      "text/plain": [
       "<Figure size 432x288 with 1 Axes>"
      ]
     },
     "metadata": {
      "needs_background": "light"
     },
     "output_type": "display_data"
    },
    {
     "data": {
      "image/png": "[encoded data removed]",
      "text/plain": [
       "<Figure size 432x288 with 1 Axes>"
      ]
     },
     "metadata": {
      "needs_background": "light"
     },
     "output_type": "display_data"
    },
    {
     "data": {
      "image/png": "[encoded data removed]",
      "text/plain": [
       "<Figure size 432x288 with 1 Axes>"
      ]
     },
     "metadata": {
      "needs_background": "light"
     },
     "output_type": "display_data"
    }
   ],
   "source": [
    "# Testando hiperparametros\n",
    "import time\n",
    "\n",
    "arr_acc =[]\n",
    "arr_time = []\n",
    "arr_size = []\n",
    "\n",
    "for sample in range(2,201):\n",
    "    start = time.time()\n",
    "    \n",
    "    tree = DecisionTreeClassifier(min_samples_split= sample)\n",
    "    # Training\n",
    "    tree.fit(attrs, _class)\n",
    "    \n",
    "    # Test\n",
    "    predictTree = tree.predict(attrs)\n",
    "    accTree = accuracy_score(predictTree, _class)\n",
    "    \n",
    "    arr_size.append(tree.tree_.node_count)\n",
    "    arr_acc.append(accTree)\n",
    "    arr_time.append(time.time() - start)\n",
    "    \n",
    "plt.plot(arr_size)\n",
    "plt.show()\n",
    "plt.plot(arr_acc)\n",
    "plt.show()\n",
    "plt.plot(arr_time)\n",
    "plt.show()"
   ]
  },
  {
   "cell_type": "code",
   "execution_count": 30,
   "metadata": {},
   "outputs": [
    {
     "data": {
      "image/png": "[encoded data removed]",
      "text/plain": [
       "<Figure size 432x288 with 1 Axes>"
      ]
     },
     "metadata": {
      "needs_background": "light"
     },
     "output_type": "display_data"
    },
    {
     "data": {
      "image/png": "[encoded data removed]",
      "text/plain": [
       "<Figure size 432x288 with 1 Axes>"
      ]
     },
     "metadata": {
      "needs_background": "light"
     },
     "output_type": "display_data"
    }
   ],
   "source": [
    "# Step 5.2\n",
    "\n",
    "#Quantidade de árvores do Random Forest (n_estimators de 10 a 1000, incrementando 10)\n",
    "#Plote a relação entre n_estimators X acurácia\n",
    "#Plote a relação entre n_estimators X tempo de teste\n",
    "\n",
    "import time\n",
    "from sklearn.preprocessing import MaxAbsScaler\n",
    "\n",
    "\n",
    "arr_acc =[]\n",
    "arr_time = []\n",
    "\n",
    "scaler = MaxAbsScaler()\n",
    "scaler.fit(attrs)\n",
    "attrs = scaler.transform(attrs)\n",
    "\n",
    "for estimator in range(10,1001,10):\n",
    "    start = time.time()\n",
    "    \n",
    "    forest = RandomForestClassifier(n_estimators = estimator)\n",
    "    # Training\n",
    "    forest.fit(attrs, _class)\n",
    "    \n",
    "    # Test\n",
    "    predictTree = tree.predict(attrs)\n",
    "    accTree = accuracy_score(predictTree, _class)\n",
    "    \n",
    "    arr_acc.append(accTree)\n",
    "    arr_time.append(time.time() - start)\n",
    "    \n",
    "plt.plot(arr_acc)\n",
    "plt.show()\n",
    "plt.plot(arr_time)\n",
    "plt.show()"
   ]
  },
  {
   "cell_type": "markdown",
   "metadata": {},
   "source": [
    "#### Pratica  2 - Income Classification (datasets/income.csv)\n",
    "\n",
    "#### Descricao\n",
    "\n",
    "\n",
    "Problema\n",
    "\n",
    "The Us Adult income dataset was extracted by Barry Becker from the 1994 US Census Database. The data set consists of anonymous information such as occupation, age, native country, race, capital gain, capital loss, education, work class and more.\n",
    "Each row is labelled as either having a salary greater than \">50K\" or \"<=50K\".\n",
    "\n",
    "Atributos\n",
    "\n",
    "- age (numérico): idade.\n",
    "- workclass (nominal): Private, Self-emp-not-inc, Self-emp-inc, Federal-gov, Local-gov, State-gov, Without-pay, Never-worked.\n",
    "- fnlwgt (numérico): continuous.\n",
    "- education (nominal): Bachelors, Some-college, 11th, HS-grad, Prof-school, Assoc-acdm, Assoc-voc, 9th, 7th-8th, 12th, Masters, 1st-4th, 10th, Doctorate, 5th-6th, Preschool.\n",
    "- education-num (numérico): continuous.\n",
    "- marital-status (nominal): Married-civ-spouse, Divorced, Never-married, Separated, Widowed, Married-spouse-absent, Married-AF-spouse.\n",
    "- occupation (nominal): Tech-support, Craft-repair, Other-service, Sales, Exec-managerial, Prof-specialty, Handlers-cleaners, Machine-op-inspct, Adm-clerical, Farming-fishing, Transport-moving, Priv-house-serv, Protective-serv, Armed-Forces.\n",
    "- relationship (nominal): Wife, Own-child, Husband, Not-in-family, Other-relative, Unmarried.\n",
    "- race (nominal): White, Asian-Pac-Islander, Amer-Indian-Eskimo, Other, Black.\n",
    "- sex (nominal): Female, Male.\n",
    "- capital-gain (numérico): continuous.\n",
    "- capital-loss (numérico): continuous.\n",
    "- hours-per-week (numérico): continuous.\n",
    "- native-country (nominal): United-States, Cambodia, England, Puerto-Rico, Canada, Germany, Outlying-US(Guam-USVI-etc), India, Japan, Greece, South, China, Cuba, Iran, Honduras, Philippines, Italy, Poland, Jamaica, Vietnam, Mexico, Portugal, Ireland, France, Dominican-Republic, Laos, Ecuador, Taiwan, Haiti, Columbia, Hungary, Guatemala, Nicaragua, Scotland, Thailand, Yugoslavia, El-Salvador, Trinadad&Tobago, Peru, Hong, Holand-Netherlands.\n",
    "- income (>50K ou <=50K, nominal): classe\n",
    "\n",
    "Etapas:\n",
    "1. Trabalhe com o dataset acima utilizando os primeiros 2000 eventos apenas\n",
    "    - Atenção este dataset possui dados nominais!\n",
    "        ```python\n",
    "        dfNumerico = pd.get_dummies(df, prefix_sep='_', drop_first=True)\n",
    "        dfNumerico = dfNumerico.head(2000)\n",
    "        ```\n",
    "2. Faça busca dos melhores hiperparametros dos classificadores\n",
    "    - Quantidade de instâncias mínimas em um nó da árvore de decisão para efetuar o split (min_samples_split de 2 a 200)\n",
    "        - Plote a relação entre min_samples_split X acurácia\n",
    "        - Plote a relação entre min_samples_split X tamanho da árvore (.tree_.node_count)\n",
    "        - Plote a relação entre min_samples_split X tempo de teste\n",
    "    - Quantidade de árvores do Random Forest (n_estimators de 10 a 1000, incrementando 10)\n",
    "        - Plote a relação entre n_estimators X acurácia\n",
    "        - Plote a relação entre n_estimators X tempo de teste\n",
    "    - Quantidade de vizinhos do kNN (n_neighbors de 5 a 100)\n",
    "        - Plote a relação entre n_neighbors X acurácia\n",
    "        - Plote a relação entre n_neighbors X tempo de teste\n",
    "        \n",
    "3. Compare o tempo de treinamento, tempo de teste e acurácia dos três classificadores nos melhores casos"
   ]
  },
  {
   "cell_type": "code",
   "execution_count": null,
   "metadata": {},
   "outputs": [],
   "source": []
  },
  {
   "cell_type": "markdown",
   "metadata": {},
   "source": [
    "#### Pratica 3 - Classificação de RaioX relacionado a Covid-19 (datasets/covid/covid.csv)\n",
    "\n",
    "#### Descricao\n",
    "\n",
    "Problema\n",
    "\n",
    "Dataset com raio-X de pacientes com e sem COVID-19.\n",
    "- Pasta datasets/covid/Normal possui os arquivos originais com pacientes sem COVID-19\n",
    "- Pasta datasets/covid/Covid possui os arquivos originais com pacientes com COVID-19\n",
    "Dataset\n",
    "\n",
    "Atributos\n",
    "\n",
    "- histo_0 (numérico): Ocorrencias do pixel com valor 0 na imagem de entrada\n",
    "- histo_1 (numérico): Ocorrencias do pixel com valor 1 na imagem de entrada\n",
    "- ...\n",
    "- histo_255 (numérico): Ocorrencias do pixel com valor 255 na imagem de entrada\n",
    "- arquivo (nominal): nome do arquivo que gerou a entrada (estará nas pastas datasets/covid/Covid ou datasets/covid/Normal de acordo com a sua label\n",
    "- label (normal ou covid, nominal): classe\n",
    "\n",
    "Etapas:\n",
    "1. Determine o melhor classificador para classificar raio X relacionados a COVID\n",
    "2. Determine o melhor classificador para classificar raio X que não sejam COVID"
   ]
  },
  {
   "cell_type": "code",
   "execution_count": null,
   "metadata": {},
   "outputs": [],
   "source": []
  }
 ],
 "metadata": {
  "kernelspec": {
   "display_name": "Python 3",
   "language": "python",
   "name": "python3"
  },
  "language_info": {
   "codemirror_mode": {
    "name": "ipython",
    "version": 3
   },
   "file_extension": ".py",
   "mimetype": "text/x-python",
   "name": "python",
   "nbconvert_exporter": "python",
   "pygments_lexer": "ipython3",
   "version": "3.7.6"
  }
 },
 "nbformat": 4,
 "nbformat_minor": 4
}
