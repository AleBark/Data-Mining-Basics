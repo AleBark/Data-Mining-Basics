{
 "cells": [
  {
   "cell_type": "markdown",
   "metadata": {},
   "source": [
    "### Exercício 4\n",
    "\n",
    "#### Pratica 1 -  Dataset 2D (datasets/2d_dataset.csv)\n",
    "\n",
    "#### Descricao\n",
    "\n",
    "Atributos\n",
    "\n",
    "- alpha (numérico): valor x\n",
    "- beta (numérico): valor y\n",
    "- y (0 ou 1, numérico): classe\n",
    "\n",
    "Etapas:\n",
    "1. Importe as bibliotecas necessárias para analise dos dados\n",
    "```python\n",
    "import pandas as pd\n",
    "import numpy as np\n",
    "import seaborn as sns\n",
    "import matplotlib.pyplot as plt\n",
    "```\n",
    "2. Carregue o Dataset em um DataFrame\n",
    "```python\n",
    "df = pd.read_csv('datasets/2d_dataset.csv')\n",
    "```\n",
    "3. Treine modelos, através da abordagem de holdout, de:\n",
    "    1. kNN (efetuando as etapas de preprocessamento necessárias e a devida otimização de parametros, k entre 10 a 100)\n",
    "    3. Random Forest (efetuando as etapas de preprocessamento necessárias e a devida otimização de parametros)\n",
    "4. Compare os classificadores através da curva ROC e AUC"
   ]
  },
  {
   "cell_type": "code",
   "execution_count": 262,
   "metadata": {},
   "outputs": [],
   "source": [
    "import pandas as pd\n",
    "import numpy as np\n",
    "import seaborn as sns\n",
    "import matplotlib.pyplot as plt\n",
    "\n",
    "from sklearn.preprocessing import MaxAbsScaler\n",
    "from sklearn.model_selection import train_test_split\n",
    "from sklearn.ensemble import RandomForestClassifier\n",
    "from sklearn.neighbors import KNeighborsClassifier\n",
    "from sklearn.tree import DecisionTreeClassifier\n",
    "\n",
    "from sklearn.metrics import accuracy_score\n",
    "from sklearn.metrics import auc\n",
    "from sklearn.metrics import confusion_matrix\n",
    "from sklearn.metrics import f1_score\n",
    "from sklearn.metrics import ConfusionMatrixDisplay\n",
    "from sklearn.metrics import roc_curve"
   ]
  },
  {
   "cell_type": "code",
   "execution_count": 263,
   "metadata": {},
   "outputs": [],
   "source": [
    "df = pd.read_csv('datasets/2d_dataset.csv')"
   ]
  },
  {
   "cell_type": "code",
   "execution_count": 264,
   "metadata": {},
   "outputs": [
    {
     "data": {
      "text/html": [
       "<div>\n",
       "<style scoped>\n",
       "    .dataframe tbody tr th:only-of-type {\n",
       "        vertical-align: middle;\n",
       "    }\n",
       "\n",
       "    .dataframe tbody tr th {\n",
       "        vertical-align: top;\n",
       "    }\n",
       "\n",
       "    .dataframe thead th {\n",
       "        text-align: right;\n",
       "    }\n",
       "</style>\n",
       "<table border=\"1\" class=\"dataframe\">\n",
       "  <thead>\n",
       "    <tr style=\"text-align: right;\">\n",
       "      <th></th>\n",
       "      <th>y</th>\n",
       "      <th>alpha</th>\n",
       "      <th>beta</th>\n",
       "    </tr>\n",
       "  </thead>\n",
       "  <tbody>\n",
       "    <tr>\n",
       "      <th>count</th>\n",
       "      <td>2994.000000</td>\n",
       "      <td>2994.000000</td>\n",
       "      <td>2994.000000</td>\n",
       "    </tr>\n",
       "    <tr>\n",
       "      <th>mean</th>\n",
       "      <td>0.656981</td>\n",
       "      <td>500.917502</td>\n",
       "      <td>501.393454</td>\n",
       "    </tr>\n",
       "    <tr>\n",
       "      <th>std</th>\n",
       "      <td>0.474797</td>\n",
       "      <td>289.387318</td>\n",
       "      <td>286.933215</td>\n",
       "    </tr>\n",
       "    <tr>\n",
       "      <th>min</th>\n",
       "      <td>0.000000</td>\n",
       "      <td>0.000000</td>\n",
       "      <td>0.000000</td>\n",
       "    </tr>\n",
       "    <tr>\n",
       "      <th>25%</th>\n",
       "      <td>0.000000</td>\n",
       "      <td>248.000000</td>\n",
       "      <td>256.000000</td>\n",
       "    </tr>\n",
       "    <tr>\n",
       "      <th>50%</th>\n",
       "      <td>1.000000</td>\n",
       "      <td>505.500000</td>\n",
       "      <td>499.000000</td>\n",
       "    </tr>\n",
       "    <tr>\n",
       "      <th>75%</th>\n",
       "      <td>1.000000</td>\n",
       "      <td>755.000000</td>\n",
       "      <td>749.000000</td>\n",
       "    </tr>\n",
       "    <tr>\n",
       "      <th>max</th>\n",
       "      <td>1.000000</td>\n",
       "      <td>998.000000</td>\n",
       "      <td>999.000000</td>\n",
       "    </tr>\n",
       "  </tbody>\n",
       "</table>\n",
       "</div>"
      ],
      "text/plain": [
       "                 y        alpha         beta\n",
       "count  2994.000000  2994.000000  2994.000000\n",
       "mean      0.656981   500.917502   501.393454\n",
       "std       0.474797   289.387318   286.933215\n",
       "min       0.000000     0.000000     0.000000\n",
       "25%       0.000000   248.000000   256.000000\n",
       "50%       1.000000   505.500000   499.000000\n",
       "75%       1.000000   755.000000   749.000000\n",
       "max       1.000000   998.000000   999.000000"
      ]
     },
     "execution_count": 264,
     "metadata": {},
     "output_type": "execute_result"
    }
   ],
   "source": [
    "df.describe()"
   ]
  },
  {
   "cell_type": "code",
   "execution_count": 265,
   "metadata": {},
   "outputs": [],
   "source": [
    "label = np.array(df.y)\n",
    "features = np.array(df.drop(['y'], axis = 1))\n",
    "\n",
    "scaler = MaxAbsScaler()\n",
    "scaler.fit(features)\n",
    "featuresNormalizado = scaler.transform(features)"
   ]
  },
  {
   "cell_type": "code",
   "execution_count": 266,
   "metadata": {},
   "outputs": [],
   "source": [
    "trainFeatures, testeFeatures, trainLabel, testLabel = train_test_split(featuresNormalizado, label, train_size = 0.7, random_state = 42)"
   ]
  },
  {
   "cell_type": "code",
   "execution_count": 267,
   "metadata": {},
   "outputs": [
    {
     "data": {
      "text/plain": [
       "RandomForestClassifier()"
      ]
     },
     "execution_count": 267,
     "metadata": {},
     "output_type": "execute_result"
    }
   ],
   "source": [
    "forest = RandomForestClassifier(n_estimators=100)\n",
    "forest.fit(trainFeatures, trainLabel)"
   ]
  },
  {
   "cell_type": "code",
   "execution_count": 268,
   "metadata": {},
   "outputs": [],
   "source": [
    "predictProbaForest = forest.predict_proba(testeFeatures)"
   ]
  },
  {
   "cell_type": "code",
   "execution_count": 269,
   "metadata": {},
   "outputs": [],
   "source": [
    "fprForest, tprForest, limiarForest = roc_curve(testLabel, predictProbaForest[:,1], pos_label=1)"
   ]
  },
  {
   "cell_type": "code",
   "execution_count": 270,
   "metadata": {},
   "outputs": [
    {
     "data": {
      "text/plain": [
       "KNeighborsClassifier(n_neighbors=10)"
      ]
     },
     "execution_count": 270,
     "metadata": {},
     "output_type": "execute_result"
    }
   ],
   "source": [
    "knn = KNeighborsClassifier(n_neighbors=10)\n",
    "knn.fit(trainFeatures, trainLabel)"
   ]
  },
  {
   "cell_type": "code",
   "execution_count": 271,
   "metadata": {},
   "outputs": [],
   "source": [
    "predictProbaKnn = knn.predict_proba(testeFeatures)"
   ]
  },
  {
   "cell_type": "code",
   "execution_count": 272,
   "metadata": {},
   "outputs": [],
   "source": [
    "fprKnn, tprKnn, limiarKnn = roc_curve(testLabel, predictProbaKnn[:,1], pos_label=1)"
   ]
  },
  {
   "cell_type": "code",
   "execution_count": 273,
   "metadata": {},
   "outputs": [
    {
     "data": {
      "text/plain": [
       "DecisionTreeClassifier(min_samples_leaf=100)"
      ]
     },
     "execution_count": 273,
     "metadata": {},
     "output_type": "execute_result"
    }
   ],
   "source": [
    "tree = DecisionTreeClassifier(min_samples_leaf = 100)\n",
    "tree.fit(trainFeatures, trainLabel)"
   ]
  },
  {
   "cell_type": "code",
   "execution_count": 274,
   "metadata": {},
   "outputs": [],
   "source": [
    "predictProbaTree = tree.predict_proba(testeFeatures)"
   ]
  },
  {
   "cell_type": "code",
   "execution_count": 275,
   "metadata": {},
   "outputs": [],
   "source": [
    "fprTree, tprTree, limiarTree = roc_curve(testLabel, predictProbaTree[:,1], pos_label=1)"
   ]
  },
  {
   "cell_type": "code",
   "execution_count": 276,
   "metadata": {},
   "outputs": [
    {
     "data": {
      "text/plain": [
       "Text(0, 0.5, 'Tpr')"
      ]
     },
     "execution_count": 276,
     "metadata": {},
     "output_type": "execute_result"
    },
    {
     "data": {
      "image/png": "[encoded data removed]",
      "text/plain": [
       "<Figure size 432x288 with 1 Axes>"
      ]
     },
     "metadata": {
      "needs_background": "light"
     },
     "output_type": "display_data"
    }
   ],
   "source": [
    "plt.plot(fprTree, tprTree)\n",
    "plt.plot(fprForest, tprForest)\n",
    "plt.plot(fprKnn, tprKnn)\n",
    "plt.legend(['Tree', 'Forest', 'kNN'])\n",
    "plt.xlabel('Fpr')\n",
    "plt.ylabel('Tpr')"
   ]
  },
  {
   "cell_type": "code",
   "execution_count": 277,
   "metadata": {},
   "outputs": [
    {
     "data": {
      "text/plain": [
       "{0.16901408450704225,\n",
       " 0.2358490566037736,\n",
       " 0.37,\n",
       " 0.3902439024390244,\n",
       " 0.4230769230769231,\n",
       " 0.55,\n",
       " 0.5544554455445545,\n",
       " 0.68,\n",
       " 0.6916666666666667,\n",
       " 0.7,\n",
       " 0.75,\n",
       " 0.78,\n",
       " 0.7920792079207921,\n",
       " 0.8543689320388349,\n",
       " 0.9,\n",
       " 0.9302325581395349,\n",
       " 0.9553072625698324,\n",
       " 0.9606299212598425,\n",
       " 1.9606299212598426}"
      ]
     },
     "execution_count": 277,
     "metadata": {},
     "output_type": "execute_result"
    }
   ],
   "source": [
    "set(limiarTree)"
   ]
  },
  {
   "cell_type": "code",
   "execution_count": 278,
   "metadata": {},
   "outputs": [
    {
     "data": {
      "text/plain": [
       "(0.984719383831059, 0.7960313797877251, 0.978808205331048)"
      ]
     },
     "execution_count": 278,
     "metadata": {},
     "output_type": "execute_result"
    }
   ],
   "source": [
    "auc(fprForest, tprForest),auc(fprTree, tprTree),auc(fprKnn, tprKnn)"
   ]
  },
  {
   "cell_type": "markdown",
   "metadata": {},
   "source": [
    "#### Pratica 2 -  Dataset Titanic (datasets/titanic.csv)\n",
    "\n",
    "#### Descricao\n",
    "\n",
    "Problema\n",
    "\n",
    "The competition is simple: use machine learning to create a model that predicts which passengers survived the Titanic shipwreck.\n",
    "\n",
    "Atributos\n",
    "\n",
    "- survival (0 = No, 1 = Yes)\n",
    "- pclas: Ticket class (1 = 1st, 2 = 2nd, 3 = 3rd)\n",
    "- sex: Sex\t\n",
    "- sibsp: # of siblings / spouses aboard the Titanic\t\n",
    "- parch: # of parents / children aboard the Titanic\t\n",
    "- ticket: Ticket number\t\n",
    "- fare: Passenger fare\t\n",
    "- cabin: Cabin number\t\n",
    "- embarked: Port of Embarkation (C = Cherbourg, Q = Queenstown, S = Southampton)\n",
    "\n",
    "Etapas, fazendo a devida otimização de parametros:\n",
    "1. Utilizando a abordagem de holdout (70% para treinamento, 30% para teste), fazendo uso do ponto de operação com a generalização e determine o melhor classificador"
   ]
  },
  {
   "cell_type": "code",
   "execution_count": 279,
   "metadata": {},
   "outputs": [],
   "source": [
    "dfTitanic = pd.read_csv('datasets/titanic.csv')"
   ]
  },
  {
   "cell_type": "code",
   "execution_count": 280,
   "metadata": {},
   "outputs": [
    {
     "data": {
      "text/plain": [
       "PassengerId      int64\n",
       "Survived         int64\n",
       "Pclass           int64\n",
       "Name            object\n",
       "Sex             object\n",
       "SibSp            int64\n",
       "Parch            int64\n",
       "Ticket          object\n",
       "Fare           float64\n",
       "Cabin           object\n",
       "Embarked        object\n",
       "dtype: object"
      ]
     },
     "execution_count": 280,
     "metadata": {},
     "output_type": "execute_result"
    }
   ],
   "source": [
    "dfTitanic.dtypes"
   ]
  },
  {
   "cell_type": "code",
   "execution_count": 281,
   "metadata": {},
   "outputs": [],
   "source": [
    "dfTitanic = dfTitanic.drop(['PassengerId', 'Name', 'Ticket', 'Cabin'], axis = 1)"
   ]
  },
  {
   "cell_type": "code",
   "execution_count": 282,
   "metadata": {},
   "outputs": [
    {
     "data": {
      "text/plain": [
       "Survived      int64\n",
       "Pclass        int64\n",
       "Sex          object\n",
       "SibSp         int64\n",
       "Parch         int64\n",
       "Fare        float64\n",
       "Embarked     object\n",
       "dtype: object"
      ]
     },
     "execution_count": 282,
     "metadata": {},
     "output_type": "execute_result"
    }
   ],
   "source": [
    "dfTitanic.dtypes"
   ]
  },
  {
   "cell_type": "code",
   "execution_count": 283,
   "metadata": {},
   "outputs": [],
   "source": [
    "dfNumerico = pd.get_dummies(dfTitanic, prefix_sep='_', drop_first=True)"
   ]
  },
  {
   "cell_type": "code",
   "execution_count": 284,
   "metadata": {},
   "outputs": [
    {
     "data": {
      "text/html": [
       "<div>\n",
       "<style scoped>\n",
       "    .dataframe tbody tr th:only-of-type {\n",
       "        vertical-align: middle;\n",
       "    }\n",
       "\n",
       "    .dataframe tbody tr th {\n",
       "        vertical-align: top;\n",
       "    }\n",
       "\n",
       "    .dataframe thead th {\n",
       "        text-align: right;\n",
       "    }\n",
       "</style>\n",
       "<table border=\"1\" class=\"dataframe\">\n",
       "  <thead>\n",
       "    <tr style=\"text-align: right;\">\n",
       "      <th></th>\n",
       "      <th>Survived</th>\n",
       "      <th>Pclass</th>\n",
       "      <th>SibSp</th>\n",
       "      <th>Parch</th>\n",
       "      <th>Fare</th>\n",
       "      <th>Sex_male</th>\n",
       "      <th>Embarked_Q</th>\n",
       "      <th>Embarked_S</th>\n",
       "    </tr>\n",
       "  </thead>\n",
       "  <tbody>\n",
       "    <tr>\n",
       "      <th>count</th>\n",
       "      <td>891.000000</td>\n",
       "      <td>891.000000</td>\n",
       "      <td>891.000000</td>\n",
       "      <td>891.000000</td>\n",
       "      <td>891.000000</td>\n",
       "      <td>891.000000</td>\n",
       "      <td>891.000000</td>\n",
       "      <td>891.000000</td>\n",
       "    </tr>\n",
       "    <tr>\n",
       "      <th>mean</th>\n",
       "      <td>0.383838</td>\n",
       "      <td>2.308642</td>\n",
       "      <td>0.523008</td>\n",
       "      <td>0.381594</td>\n",
       "      <td>32.204208</td>\n",
       "      <td>0.647587</td>\n",
       "      <td>0.086420</td>\n",
       "      <td>0.722783</td>\n",
       "    </tr>\n",
       "    <tr>\n",
       "      <th>std</th>\n",
       "      <td>0.486592</td>\n",
       "      <td>0.836071</td>\n",
       "      <td>1.102743</td>\n",
       "      <td>0.806057</td>\n",
       "      <td>49.693429</td>\n",
       "      <td>0.477990</td>\n",
       "      <td>0.281141</td>\n",
       "      <td>0.447876</td>\n",
       "    </tr>\n",
       "    <tr>\n",
       "      <th>min</th>\n",
       "      <td>0.000000</td>\n",
       "      <td>1.000000</td>\n",
       "      <td>0.000000</td>\n",
       "      <td>0.000000</td>\n",
       "      <td>0.000000</td>\n",
       "      <td>0.000000</td>\n",
       "      <td>0.000000</td>\n",
       "      <td>0.000000</td>\n",
       "    </tr>\n",
       "    <tr>\n",
       "      <th>25%</th>\n",
       "      <td>0.000000</td>\n",
       "      <td>2.000000</td>\n",
       "      <td>0.000000</td>\n",
       "      <td>0.000000</td>\n",
       "      <td>7.910400</td>\n",
       "      <td>0.000000</td>\n",
       "      <td>0.000000</td>\n",
       "      <td>0.000000</td>\n",
       "    </tr>\n",
       "    <tr>\n",
       "      <th>50%</th>\n",
       "      <td>0.000000</td>\n",
       "      <td>3.000000</td>\n",
       "      <td>0.000000</td>\n",
       "      <td>0.000000</td>\n",
       "      <td>14.454200</td>\n",
       "      <td>1.000000</td>\n",
       "      <td>0.000000</td>\n",
       "      <td>1.000000</td>\n",
       "    </tr>\n",
       "    <tr>\n",
       "      <th>75%</th>\n",
       "      <td>1.000000</td>\n",
       "      <td>3.000000</td>\n",
       "      <td>1.000000</td>\n",
       "      <td>0.000000</td>\n",
       "      <td>31.000000</td>\n",
       "      <td>1.000000</td>\n",
       "      <td>0.000000</td>\n",
       "      <td>1.000000</td>\n",
       "    </tr>\n",
       "    <tr>\n",
       "      <th>max</th>\n",
       "      <td>1.000000</td>\n",
       "      <td>3.000000</td>\n",
       "      <td>8.000000</td>\n",
       "      <td>6.000000</td>\n",
       "      <td>512.329200</td>\n",
       "      <td>1.000000</td>\n",
       "      <td>1.000000</td>\n",
       "      <td>1.000000</td>\n",
       "    </tr>\n",
       "  </tbody>\n",
       "</table>\n",
       "</div>"
      ],
      "text/plain": [
       "         Survived      Pclass       SibSp       Parch        Fare    Sex_male  \\\n",
       "count  891.000000  891.000000  891.000000  891.000000  891.000000  891.000000   \n",
       "mean     0.383838    2.308642    0.523008    0.381594   32.204208    0.647587   \n",
       "std      0.486592    0.836071    1.102743    0.806057   49.693429    0.477990   \n",
       "min      0.000000    1.000000    0.000000    0.000000    0.000000    0.000000   \n",
       "25%      0.000000    2.000000    0.000000    0.000000    7.910400    0.000000   \n",
       "50%      0.000000    3.000000    0.000000    0.000000   14.454200    1.000000   \n",
       "75%      1.000000    3.000000    1.000000    0.000000   31.000000    1.000000   \n",
       "max      1.000000    3.000000    8.000000    6.000000  512.329200    1.000000   \n",
       "\n",
       "       Embarked_Q  Embarked_S  \n",
       "count  891.000000  891.000000  \n",
       "mean     0.086420    0.722783  \n",
       "std      0.281141    0.447876  \n",
       "min      0.000000    0.000000  \n",
       "25%      0.000000    0.000000  \n",
       "50%      0.000000    1.000000  \n",
       "75%      0.000000    1.000000  \n",
       "max      1.000000    1.000000  "
      ]
     },
     "execution_count": 284,
     "metadata": {},
     "output_type": "execute_result"
    }
   ],
   "source": [
    "dfNumerico.describe()"
   ]
  },
  {
   "cell_type": "code",
   "execution_count": 285,
   "metadata": {},
   "outputs": [],
   "source": [
    "features = np.array(dfNumerico.drop(['Survived'], axis = 1))\n",
    "label = np.array(dfNumerico.Survived)\n",
    "\n",
    "scaler = MaxAbsScaler()\n",
    "scaler.fit(features)\n",
    "featuresNormalizadas = scaler.transform(features)"
   ]
  },
  {
   "cell_type": "code",
   "execution_count": 286,
   "metadata": {},
   "outputs": [],
   "source": [
    "featuresTreino, featuresTeste, labelTreino, labelTeste = train_test_split(featuresNormalizadas, label, train_size = 0.7, random_state = 42)"
   ]
  },
  {
   "cell_type": "code",
   "execution_count": 287,
   "metadata": {},
   "outputs": [],
   "source": [
    "listaErroTreino = []\n",
    "listaErroTeste = []\n",
    "\n",
    "for i in range(200,1,-2):\n",
    "    tree = DecisionTreeClassifier(min_samples_split= i)\n",
    "    tree.fit(featuresTreino, labelTreino)\n",
    "    \n",
    "    predicaoTreino = tree.predict(featuresTreino)\n",
    "    accTreino = accuracy_score(labelTreino, predicaoTreino)\n",
    "    \n",
    "    predicaoTeste = tree.predict(featuresTeste)\n",
    "    accTeste = accuracy_score(labelTeste, predicaoTeste)\n",
    "    \n",
    "    #100% - acc% = erro\n",
    "    listaErroTeste.append(1 - accTeste)\n",
    "    listaErroTreino.append(1- accTreino)\n",
    "    "
   ]
  },
  {
   "cell_type": "code",
   "execution_count": 288,
   "metadata": {},
   "outputs": [
    {
     "data": {
      "image/png": "[encoded data removed]",
      "text/plain": [
       "<Figure size 432x288 with 1 Axes>"
      ]
     },
     "metadata": {
      "needs_background": "light"
     },
     "output_type": "display_data"
    }
   ],
   "source": [
    "plt.plot(listaErroTreino)\n",
    "plt.plot(listaErroTeste)\n",
    "plt.legend(['Treino', 'Teste'])\n",
    "plt.show()"
   ]
  },
  {
   "cell_type": "code",
   "execution_count": 289,
   "metadata": {},
   "outputs": [],
   "source": [
    "#for (i, item) in enumerate(listaErroTeste, start=1):\n",
    "#    print(i, item)\n",
    "#58"
   ]
  },
  {
   "cell_type": "code",
   "execution_count": 290,
   "metadata": {},
   "outputs": [],
   "source": [
    "tree = DecisionTreeClassifier(min_samples_split= 58)\n",
    "tree.fit(featuresTreino, labelTreino)\n",
    "predictProbaTree = tree.predict_proba(featuresTeste)\n",
    "\n",
    "fprTree, tprTree, limiarTree = roc_curve(labelTeste, predictProbaTree[:,1], pos_label=1)"
   ]
  },
  {
   "cell_type": "code",
   "execution_count": 291,
   "metadata": {},
   "outputs": [],
   "source": [
    "listaErroTreino = []\n",
    "listaErroTeste = []\n",
    "\n",
    "for i in range(1,200,2):\n",
    "    forest = RandomForestClassifier(n_estimators = i)\n",
    "    forest.fit(featuresTreino, labelTreino)\n",
    "    \n",
    "    predicaoTreino = forest.predict(featuresTreino)\n",
    "    accTreino = accuracy_score(labelTreino, predicaoTreino)\n",
    "    \n",
    "    predicaoTeste = forest.predict(featuresTeste)\n",
    "    accTeste = accuracy_score(labelTeste, predicaoTeste)\n",
    "    \n",
    "    #100% - acc% = erro\n",
    "    listaErroTeste.append(1 - accTeste)\n",
    "    listaErroTreino.append(1- accTreino)\n",
    "    "
   ]
  },
  {
   "cell_type": "code",
   "execution_count": 292,
   "metadata": {},
   "outputs": [
    {
     "data": {
      "image/png": "[encoded data removed]",
      "text/plain": [
       "<Figure size 432x288 with 1 Axes>"
      ]
     },
     "metadata": {
      "needs_background": "light"
     },
     "output_type": "display_data"
    }
   ],
   "source": [
    "plt.plot(listaErroTreino)\n",
    "plt.plot(listaErroTeste)\n",
    "plt.legend(['Treino', 'Teste'])\n",
    "plt.show()"
   ]
  },
  {
   "cell_type": "code",
   "execution_count": 293,
   "metadata": {},
   "outputs": [],
   "source": [
    "#for (i, item) in enumerate(listaErroTeste, start=1):\n",
    "#    print(i, item)\n",
    "#4    "
   ]
  },
  {
   "cell_type": "code",
   "execution_count": 294,
   "metadata": {},
   "outputs": [],
   "source": [
    "forest = RandomForestClassifier(min_samples_split= 4)\n",
    "forest.fit(featuresTreino, labelTreino)\n",
    "predictProbaForest = forest.predict_proba(featuresTeste)\n",
    "\n",
    "fprForest, tprForest, limiarForest = roc_curve(labelTeste, predictProbaForest[:,1], pos_label=1)"
   ]
  },
  {
   "cell_type": "code",
   "execution_count": 295,
   "metadata": {},
   "outputs": [],
   "source": [
    "listaAccTreino = []\n",
    "listaAccTeste = []\n",
    "\n",
    "for neighbor in range(5,100,1):\n",
    "       \n",
    "    knn = KNeighborsClassifier(n_neighbors = neighbor)\n",
    "    knn.fit(featuresTreino, labelTreino)\n",
    "    \n",
    "    predicaoKnnTreino = knn.predict(featuresTreino)\n",
    "    accTreino = accuracy_score(labelTreino, predicaoKnnTreino)\n",
    "    \n",
    "    predicaoKnnTeste = knn.predict(featuresTeste)\n",
    "    accTeste = accuracy_score(labelTeste, predicaoKnnTeste)\n",
    "    \n",
    "    listaAccTreino.append(1-accTreino)\n",
    "    listaAccTeste.append(1-accTeste)\n",
    "    "
   ]
  },
  {
   "cell_type": "code",
   "execution_count": 296,
   "metadata": {},
   "outputs": [
    {
     "data": {
      "image/png": "[encoded data removed]",
      "text/plain": [
       "<Figure size 432x288 with 1 Axes>"
      ]
     },
     "metadata": {
      "needs_background": "light"
     },
     "output_type": "display_data"
    }
   ],
   "source": [
    "plt.plot(listaAccTreino)\n",
    "plt.plot(listaAccTeste)\n",
    "plt.legend(['Treino', 'Teste'])\n",
    "plt.show()"
   ]
  },
  {
   "cell_type": "code",
   "execution_count": 297,
   "metadata": {},
   "outputs": [],
   "source": [
    "#for (i, item) in enumerate(listaErroTeste, start=1):\n",
    "#    print(i, item)\n",
    "#65   "
   ]
  },
  {
   "cell_type": "code",
   "execution_count": 298,
   "metadata": {},
   "outputs": [],
   "source": [
    "kNN = KNeighborsClassifier(n_neighbors = 65)\n",
    "kNN.fit(featuresTreino, labelTreino)\n",
    "predictProbaKNN = kNN.predict_proba(featuresTeste)\n",
    "\n",
    "fprKnn, tprKnn, limiarKnn = roc_curve(labelTeste, predictProbaKNN[:,1], pos_label=1)"
   ]
  },
  {
   "cell_type": "code",
   "execution_count": 299,
   "metadata": {},
   "outputs": [
    {
     "data": {
      "text/plain": [
       "Text(0, 0.5, 'Tpr')"
      ]
     },
     "execution_count": 299,
     "metadata": {},
     "output_type": "execute_result"
    },
    {
     "data": {
      "image/png": "[encoded data removed]",
      "text/plain": [
       "<Figure size 432x288 with 1 Axes>"
      ]
     },
     "metadata": {
      "needs_background": "light"
     },
     "output_type": "display_data"
    }
   ],
   "source": [
    "plt.plot(fprTree, tprTree)\n",
    "plt.plot(fprForest, tprForest)\n",
    "plt.plot(fprKnn, tprKnn)\n",
    "plt.legend(['Tree', 'Forest', 'kNN'])\n",
    "plt.xlabel('Fpr')\n",
    "plt.ylabel('Tpr')"
   ]
  },
  {
   "cell_type": "code",
   "execution_count": 300,
   "metadata": {},
   "outputs": [
    {
     "data": {
      "text/plain": [
       "(0.8293739599472083, 0.8728696849715958, 0.8415676823320136)"
      ]
     },
     "execution_count": 300,
     "metadata": {},
     "output_type": "execute_result"
    }
   ],
   "source": [
    "auc(fprForest, tprForest),auc(fprTree, tprTree),auc(fprKnn, tprKnn)"
   ]
  },
  {
   "cell_type": "markdown",
   "metadata": {},
   "source": [
    "####  Pratica 3 -  Detecção de Emprestimo Bancário (datasets/loan.csv)\n",
    "\n",
    "#### Descricao\n",
    "\n",
    "Problema\n",
    "\n",
    "The classification goal is to predict the likelihood of a liability customer buying personal loans.\n",
    "\n",
    "Atributos\n",
    "\n",
    "- Age : Customer's age in completed years\n",
    "- Experience : #years of professional experience\n",
    "- Income : Annual income of the customer\n",
    "- Family : Family size of the customer\n",
    "- Education : Education Level. 1: Undergrad; 2: Graduate; 3: Advanced/Professional\n",
    "- Mortgage : Value of house mortgage if any.\n",
    "- Securities Account : Does the customer have a securities account with the bank?\n",
    "- CD Account : Does the customer have a certificate of deposit (CD) account with the bank?\n",
    "- Online : Does the customer use internet banking facilities?\n",
    "- Credit card : Does the customer use a credit card issued by\n",
    "- class: made loan (0=no, 1=yes)\n",
    "\n",
    "Etapas, fazendo a devida otimização de parametros:\n",
    "1. Utilizando a abordagem de holdout (70% para treinamento, 30% para teste), fazendo uso do ponto de operação com a generalização, determine:\n",
    "    - O melhor classificador para detecção do dígito de empréstimos"
   ]
  },
  {
   "cell_type": "code",
   "execution_count": 301,
   "metadata": {},
   "outputs": [],
   "source": [
    "df = pd.read_csv(\"datasets/loan.csv\")"
   ]
  },
  {
   "cell_type": "code",
   "execution_count": 302,
   "metadata": {},
   "outputs": [
    {
     "data": {
      "text/html": [
       "<div>\n",
       "<style scoped>\n",
       "    .dataframe tbody tr th:only-of-type {\n",
       "        vertical-align: middle;\n",
       "    }\n",
       "\n",
       "    .dataframe tbody tr th {\n",
       "        vertical-align: top;\n",
       "    }\n",
       "\n",
       "    .dataframe thead th {\n",
       "        text-align: right;\n",
       "    }\n",
       "</style>\n",
       "<table border=\"1\" class=\"dataframe\">\n",
       "  <thead>\n",
       "    <tr style=\"text-align: right;\">\n",
       "      <th></th>\n",
       "      <th>Age</th>\n",
       "      <th>Experience</th>\n",
       "      <th>Income</th>\n",
       "      <th>Family</th>\n",
       "      <th>Education</th>\n",
       "      <th>Mortgage</th>\n",
       "      <th>Securities Account</th>\n",
       "      <th>CD Account</th>\n",
       "      <th>Online</th>\n",
       "      <th>CreditCard</th>\n",
       "      <th>class</th>\n",
       "    </tr>\n",
       "  </thead>\n",
       "  <tbody>\n",
       "    <tr>\n",
       "      <th>count</th>\n",
       "      <td>5000.000000</td>\n",
       "      <td>5000.000000</td>\n",
       "      <td>5000.000000</td>\n",
       "      <td>5000.000000</td>\n",
       "      <td>5000.000000</td>\n",
       "      <td>5000.000000</td>\n",
       "      <td>5000.000000</td>\n",
       "      <td>5000.00000</td>\n",
       "      <td>5000.000000</td>\n",
       "      <td>5000.000000</td>\n",
       "      <td>5000.000000</td>\n",
       "    </tr>\n",
       "    <tr>\n",
       "      <th>mean</th>\n",
       "      <td>45.338400</td>\n",
       "      <td>20.104600</td>\n",
       "      <td>73.774200</td>\n",
       "      <td>2.396400</td>\n",
       "      <td>1.881000</td>\n",
       "      <td>56.498800</td>\n",
       "      <td>0.104400</td>\n",
       "      <td>0.06040</td>\n",
       "      <td>0.596800</td>\n",
       "      <td>0.294000</td>\n",
       "      <td>0.096000</td>\n",
       "    </tr>\n",
       "    <tr>\n",
       "      <th>std</th>\n",
       "      <td>11.463166</td>\n",
       "      <td>11.467954</td>\n",
       "      <td>46.033729</td>\n",
       "      <td>1.147663</td>\n",
       "      <td>0.839869</td>\n",
       "      <td>101.713802</td>\n",
       "      <td>0.305809</td>\n",
       "      <td>0.23825</td>\n",
       "      <td>0.490589</td>\n",
       "      <td>0.455637</td>\n",
       "      <td>0.294621</td>\n",
       "    </tr>\n",
       "    <tr>\n",
       "      <th>min</th>\n",
       "      <td>23.000000</td>\n",
       "      <td>-3.000000</td>\n",
       "      <td>8.000000</td>\n",
       "      <td>1.000000</td>\n",
       "      <td>1.000000</td>\n",
       "      <td>0.000000</td>\n",
       "      <td>0.000000</td>\n",
       "      <td>0.00000</td>\n",
       "      <td>0.000000</td>\n",
       "      <td>0.000000</td>\n",
       "      <td>0.000000</td>\n",
       "    </tr>\n",
       "    <tr>\n",
       "      <th>25%</th>\n",
       "      <td>35.000000</td>\n",
       "      <td>10.000000</td>\n",
       "      <td>39.000000</td>\n",
       "      <td>1.000000</td>\n",
       "      <td>1.000000</td>\n",
       "      <td>0.000000</td>\n",
       "      <td>0.000000</td>\n",
       "      <td>0.00000</td>\n",
       "      <td>0.000000</td>\n",
       "      <td>0.000000</td>\n",
       "      <td>0.000000</td>\n",
       "    </tr>\n",
       "    <tr>\n",
       "      <th>50%</th>\n",
       "      <td>45.000000</td>\n",
       "      <td>20.000000</td>\n",
       "      <td>64.000000</td>\n",
       "      <td>2.000000</td>\n",
       "      <td>2.000000</td>\n",
       "      <td>0.000000</td>\n",
       "      <td>0.000000</td>\n",
       "      <td>0.00000</td>\n",
       "      <td>1.000000</td>\n",
       "      <td>0.000000</td>\n",
       "      <td>0.000000</td>\n",
       "    </tr>\n",
       "    <tr>\n",
       "      <th>75%</th>\n",
       "      <td>55.000000</td>\n",
       "      <td>30.000000</td>\n",
       "      <td>98.000000</td>\n",
       "      <td>3.000000</td>\n",
       "      <td>3.000000</td>\n",
       "      <td>101.000000</td>\n",
       "      <td>0.000000</td>\n",
       "      <td>0.00000</td>\n",
       "      <td>1.000000</td>\n",
       "      <td>1.000000</td>\n",
       "      <td>0.000000</td>\n",
       "    </tr>\n",
       "    <tr>\n",
       "      <th>max</th>\n",
       "      <td>67.000000</td>\n",
       "      <td>43.000000</td>\n",
       "      <td>224.000000</td>\n",
       "      <td>4.000000</td>\n",
       "      <td>3.000000</td>\n",
       "      <td>635.000000</td>\n",
       "      <td>1.000000</td>\n",
       "      <td>1.00000</td>\n",
       "      <td>1.000000</td>\n",
       "      <td>1.000000</td>\n",
       "      <td>1.000000</td>\n",
       "    </tr>\n",
       "  </tbody>\n",
       "</table>\n",
       "</div>"
      ],
      "text/plain": [
       "               Age   Experience       Income       Family    Education  \\\n",
       "count  5000.000000  5000.000000  5000.000000  5000.000000  5000.000000   \n",
       "mean     45.338400    20.104600    73.774200     2.396400     1.881000   \n",
       "std      11.463166    11.467954    46.033729     1.147663     0.839869   \n",
       "min      23.000000    -3.000000     8.000000     1.000000     1.000000   \n",
       "25%      35.000000    10.000000    39.000000     1.000000     1.000000   \n",
       "50%      45.000000    20.000000    64.000000     2.000000     2.000000   \n",
       "75%      55.000000    30.000000    98.000000     3.000000     3.000000   \n",
       "max      67.000000    43.000000   224.000000     4.000000     3.000000   \n",
       "\n",
       "          Mortgage  Securities Account  CD Account       Online   CreditCard  \\\n",
       "count  5000.000000         5000.000000  5000.00000  5000.000000  5000.000000   \n",
       "mean     56.498800            0.104400     0.06040     0.596800     0.294000   \n",
       "std     101.713802            0.305809     0.23825     0.490589     0.455637   \n",
       "min       0.000000            0.000000     0.00000     0.000000     0.000000   \n",
       "25%       0.000000            0.000000     0.00000     0.000000     0.000000   \n",
       "50%       0.000000            0.000000     0.00000     1.000000     0.000000   \n",
       "75%     101.000000            0.000000     0.00000     1.000000     1.000000   \n",
       "max     635.000000            1.000000     1.00000     1.000000     1.000000   \n",
       "\n",
       "             class  \n",
       "count  5000.000000  \n",
       "mean      0.096000  \n",
       "std       0.294621  \n",
       "min       0.000000  \n",
       "25%       0.000000  \n",
       "50%       0.000000  \n",
       "75%       0.000000  \n",
       "max       1.000000  "
      ]
     },
     "execution_count": 302,
     "metadata": {},
     "output_type": "execute_result"
    }
   ],
   "source": [
    "df.describe()"
   ]
  },
  {
   "cell_type": "code",
   "execution_count": 303,
   "metadata": {},
   "outputs": [
    {
     "data": {
      "text/plain": [
       "Age                   int64\n",
       "Experience            int64\n",
       "Income                int64\n",
       "Family                int64\n",
       "Education             int64\n",
       "Mortgage              int64\n",
       "Securities Account    int64\n",
       "CD Account            int64\n",
       "Online                int64\n",
       "CreditCard            int64\n",
       "class                 int64\n",
       "dtype: object"
      ]
     },
     "execution_count": 303,
     "metadata": {},
     "output_type": "execute_result"
    }
   ],
   "source": [
    "df.dtypes"
   ]
  },
  {
   "cell_type": "code",
   "execution_count": 304,
   "metadata": {},
   "outputs": [],
   "source": [
    "features = np.array(df.drop(['class'], axis = 1))\n",
    "label = np.array(df['class'])\n",
    "\n",
    "scaler = MaxAbsScaler()\n",
    "scaler.fit(features)\n",
    "featuresNormalizadas = scaler.transform(features)"
   ]
  },
  {
   "cell_type": "code",
   "execution_count": 305,
   "metadata": {},
   "outputs": [],
   "source": [
    "featuresTreino, featuresTeste, labelTreino, labelTeste = train_test_split(featuresNormalizadas, label, train_size = 0.7, random_state = 42)"
   ]
  },
  {
   "cell_type": "code",
   "execution_count": 306,
   "metadata": {},
   "outputs": [],
   "source": [
    "listaErroTreino = []\n",
    "listaErroTeste = []\n",
    "\n",
    "for i in range(200,1,-2):\n",
    "    tree = DecisionTreeClassifier(min_samples_split= i)\n",
    "    tree.fit(featuresTreino, labelTreino)\n",
    "    \n",
    "    predicaoTreino = tree.predict(featuresTreino)\n",
    "    accTreino = accuracy_score(labelTreino, predicaoTreino)\n",
    "    \n",
    "    predicaoTeste = tree.predict(featuresTeste)\n",
    "    accTeste = accuracy_score(labelTeste, predicaoTeste)\n",
    "    \n",
    "    #100% - acc% = erro\n",
    "    listaErroTeste.append(1 - accTeste)\n",
    "    listaErroTreino.append(1- accTreino)\n",
    "    "
   ]
  },
  {
   "cell_type": "code",
   "execution_count": 307,
   "metadata": {},
   "outputs": [
    {
     "data": {
      "image/png": "[encoded data removed]",
      "text/plain": [
       "<Figure size 432x288 with 1 Axes>"
      ]
     },
     "metadata": {
      "needs_background": "light"
     },
     "output_type": "display_data"
    }
   ],
   "source": [
    "plt.plot(listaErroTreino)\n",
    "plt.plot(listaErroTeste)\n",
    "plt.legend(['Treino', 'Teste'])\n",
    "plt.show()"
   ]
  },
  {
   "cell_type": "code",
   "execution_count": 308,
   "metadata": {},
   "outputs": [],
   "source": [
    "#for (i, item) in enumerate(listaErroTeste, start=1):\n",
    "#    print(i, item)\n",
    "#50"
   ]
  },
  {
   "cell_type": "code",
   "execution_count": 309,
   "metadata": {},
   "outputs": [],
   "source": [
    "tree = DecisionTreeClassifier(min_samples_split= 50)\n",
    "tree.fit(featuresTreino, labelTreino)\n",
    "predictProbaTree = tree.predict_proba(featuresTeste)\n",
    "\n",
    "fprTree, tprTree, limiarTree = roc_curve(labelTeste, predictProbaTree[:,1], pos_label=1)"
   ]
  },
  {
   "cell_type": "code",
   "execution_count": 310,
   "metadata": {},
   "outputs": [],
   "source": [
    "listaErroTreino = []\n",
    "listaErroTeste = []\n",
    "\n",
    "for i in range(1,200,2):\n",
    "    forest = RandomForestClassifier(n_estimators = i)\n",
    "    forest.fit(featuresTreino, labelTreino)\n",
    "    \n",
    "    predicaoTreino = forest.predict(featuresTreino)\n",
    "    accTreino = accuracy_score(labelTreino, predicaoTreino)\n",
    "    \n",
    "    predicaoTeste = forest.predict(featuresTeste)\n",
    "    accTeste = accuracy_score(labelTeste, predicaoTeste)\n",
    "    \n",
    "    #100% - acc% = erro\n",
    "    listaErroTeste.append(1 - accTeste)\n",
    "    listaErroTreino.append(1- accTreino)\n",
    "    "
   ]
  },
  {
   "cell_type": "code",
   "execution_count": 311,
   "metadata": {},
   "outputs": [
    {
     "data": {
      "image/png": "[encoded data removed]",
      "text/plain": [
       "<Figure size 432x288 with 1 Axes>"
      ]
     },
     "metadata": {
      "needs_background": "light"
     },
     "output_type": "display_data"
    }
   ],
   "source": [
    "plt.plot(listaErroTreino)\n",
    "plt.plot(listaErroTeste)\n",
    "plt.legend(['Treino', 'Teste'])\n",
    "plt.show()"
   ]
  },
  {
   "cell_type": "code",
   "execution_count": 312,
   "metadata": {},
   "outputs": [],
   "source": [
    "#for (i, item) in enumerate(listaErroTeste, start=1):\n",
    "#    print(i, item)\n",
    "#14   "
   ]
  },
  {
   "cell_type": "code",
   "execution_count": 313,
   "metadata": {},
   "outputs": [],
   "source": [
    "forest = RandomForestClassifier(min_samples_split= 14)\n",
    "forest.fit(featuresTreino, labelTreino)\n",
    "predictProbaForest = forest.predict_proba(featuresTeste)\n",
    "\n",
    "fprForest, tprForest, limiarForest = roc_curve(labelTeste, predictProbaForest[:,1], pos_label=1)"
   ]
  },
  {
   "cell_type": "code",
   "execution_count": 314,
   "metadata": {},
   "outputs": [],
   "source": [
    "listaAccTreino = []\n",
    "listaAccTeste = []\n",
    "\n",
    "for neighbor in range(5,100,1):\n",
    "       \n",
    "    knn = KNeighborsClassifier(n_neighbors = neighbor)\n",
    "    knn.fit(featuresTreino, labelTreino)\n",
    "    \n",
    "    predicaoKnnTreino = knn.predict(featuresTreino)\n",
    "    accTreino = accuracy_score(labelTreino, predicaoKnnTreino)\n",
    "    \n",
    "    predicaoKnnTeste = knn.predict(featuresTeste)\n",
    "    accTeste = accuracy_score(labelTeste, predicaoKnnTeste)\n",
    "    \n",
    "    listaAccTreino.append(1-accTreino)\n",
    "    listaAccTeste.append(1-accTeste)\n",
    "    "
   ]
  },
  {
   "cell_type": "code",
   "execution_count": 315,
   "metadata": {},
   "outputs": [
    {
     "data": {
      "image/png": "[encoded data removed]",
      "text/plain": [
       "<Figure size 432x288 with 1 Axes>"
      ]
     },
     "metadata": {
      "needs_background": "light"
     },
     "output_type": "display_data"
    }
   ],
   "source": [
    "plt.plot(listaAccTreino)\n",
    "plt.plot(listaAccTeste)\n",
    "plt.legend(['Treino', 'Teste'])\n",
    "plt.show()"
   ]
  },
  {
   "cell_type": "code",
   "execution_count": 316,
   "metadata": {},
   "outputs": [],
   "source": [
    "#for (i, item) in enumerate(listaErroTeste, start=1):\n",
    "#    print(i, item)\n",
    "#7   "
   ]
  },
  {
   "cell_type": "code",
   "execution_count": 317,
   "metadata": {},
   "outputs": [],
   "source": [
    "kNN = KNeighborsClassifier(n_neighbors = 7)\n",
    "kNN.fit(featuresTreino, labelTreino)\n",
    "predictProbaKNN = kNN.predict_proba(featuresTeste)\n",
    "\n",
    "fprKnn, tprKnn, limiarKnn = roc_curve(labelTeste, predictProbaKNN[:,1], pos_label=1)"
   ]
  },
  {
   "cell_type": "code",
   "execution_count": 318,
   "metadata": {},
   "outputs": [
    {
     "data": {
      "text/plain": [
       "Text(0, 0.5, 'Tpr')"
      ]
     },
     "execution_count": 318,
     "metadata": {},
     "output_type": "execute_result"
    },
    {
     "data": {
      "image/png": "[encoded data removed]",
      "text/plain": [
       "<Figure size 432x288 with 1 Axes>"
      ]
     },
     "metadata": {
      "needs_background": "light"
     },
     "output_type": "display_data"
    }
   ],
   "source": [
    "plt.plot(fprTree, tprTree)\n",
    "plt.plot(fprForest, tprForest)\n",
    "plt.plot(fprKnn, tprKnn)\n",
    "plt.legend(['Tree', 'Forest', 'kNN'])\n",
    "plt.xlabel('Fpr')\n",
    "plt.ylabel('Tpr')"
   ]
  },
  {
   "cell_type": "code",
   "execution_count": 319,
   "metadata": {},
   "outputs": [
    {
     "data": {
      "text/plain": [
       "(0.9873654855798645, 0.9704412120407302, 0.9482122446656643)"
      ]
     },
     "execution_count": 319,
     "metadata": {},
     "output_type": "execute_result"
    }
   ],
   "source": [
    "auc(fprForest, tprForest),auc(fprTree, tprTree),auc(fprKnn, tprKnn)"
   ]
  },
  {
   "cell_type": "markdown",
   "metadata": {},
   "source": [
    "####  Pratica 4 -  Detecção de Números (datasets/digit.csv)\n",
    "\n",
    "#### Descricao\n",
    "\n",
    "Problema\n",
    "\n",
    "Detecção de imagens com números (0 a 9) escritos a mão.\n",
    "\n",
    "Atributos\n",
    "\n",
    "- Label (0,1,2,3,4,5,6,7,8,9)\n",
    "- pixel0\n",
    "- pixel1\n",
    "- ...\n",
    "- pixel783\n",
    "\n",
    "Etapas, fazendo a devida otimização de parametros:\n",
    "1. Utilizando a abordagem de holdout (70% para treinamento, 30% para teste), fazendo uso do ponto de operação com a generalização, determine:\n",
    "    - O melhor classificador para detecção dos números\n",
    "    - O melhor classificador para detecção do dígito '3'"
   ]
  },
  {
   "cell_type": "code",
   "execution_count": 320,
   "metadata": {},
   "outputs": [],
   "source": [
    "df = pd.read_csv('datasets/digit.csv')"
   ]
  },
  {
   "cell_type": "code",
   "execution_count": 321,
   "metadata": {},
   "outputs": [
    {
     "data": {
      "text/html": [
       "<div>\n",
       "<style scoped>\n",
       "    .dataframe tbody tr th:only-of-type {\n",
       "        vertical-align: middle;\n",
       "    }\n",
       "\n",
       "    .dataframe tbody tr th {\n",
       "        vertical-align: top;\n",
       "    }\n",
       "\n",
       "    .dataframe thead th {\n",
       "        text-align: right;\n",
       "    }\n",
       "</style>\n",
       "<table border=\"1\" class=\"dataframe\">\n",
       "  <thead>\n",
       "    <tr style=\"text-align: right;\">\n",
       "      <th></th>\n",
       "      <th>label</th>\n",
       "      <th>pixel0</th>\n",
       "      <th>pixel1</th>\n",
       "      <th>pixel2</th>\n",
       "      <th>pixel3</th>\n",
       "      <th>pixel4</th>\n",
       "      <th>pixel5</th>\n",
       "      <th>pixel6</th>\n",
       "      <th>pixel7</th>\n",
       "      <th>pixel8</th>\n",
       "      <th>...</th>\n",
       "      <th>pixel774</th>\n",
       "      <th>pixel775</th>\n",
       "      <th>pixel776</th>\n",
       "      <th>pixel777</th>\n",
       "      <th>pixel778</th>\n",
       "      <th>pixel779</th>\n",
       "      <th>pixel780</th>\n",
       "      <th>pixel781</th>\n",
       "      <th>pixel782</th>\n",
       "      <th>pixel783</th>\n",
       "    </tr>\n",
       "  </thead>\n",
       "  <tbody>\n",
       "    <tr>\n",
       "      <th>count</th>\n",
       "      <td>42000.000000</td>\n",
       "      <td>42000.0</td>\n",
       "      <td>42000.0</td>\n",
       "      <td>42000.0</td>\n",
       "      <td>42000.0</td>\n",
       "      <td>42000.0</td>\n",
       "      <td>42000.0</td>\n",
       "      <td>42000.0</td>\n",
       "      <td>42000.0</td>\n",
       "      <td>42000.0</td>\n",
       "      <td>...</td>\n",
       "      <td>42000.000000</td>\n",
       "      <td>42000.000000</td>\n",
       "      <td>42000.000000</td>\n",
       "      <td>42000.00000</td>\n",
       "      <td>42000.000000</td>\n",
       "      <td>42000.000000</td>\n",
       "      <td>42000.0</td>\n",
       "      <td>42000.0</td>\n",
       "      <td>42000.0</td>\n",
       "      <td>42000.0</td>\n",
       "    </tr>\n",
       "    <tr>\n",
       "      <th>mean</th>\n",
       "      <td>4.456643</td>\n",
       "      <td>0.0</td>\n",
       "      <td>0.0</td>\n",
       "      <td>0.0</td>\n",
       "      <td>0.0</td>\n",
       "      <td>0.0</td>\n",
       "      <td>0.0</td>\n",
       "      <td>0.0</td>\n",
       "      <td>0.0</td>\n",
       "      <td>0.0</td>\n",
       "      <td>...</td>\n",
       "      <td>0.219286</td>\n",
       "      <td>0.117095</td>\n",
       "      <td>0.059024</td>\n",
       "      <td>0.02019</td>\n",
       "      <td>0.017238</td>\n",
       "      <td>0.002857</td>\n",
       "      <td>0.0</td>\n",
       "      <td>0.0</td>\n",
       "      <td>0.0</td>\n",
       "      <td>0.0</td>\n",
       "    </tr>\n",
       "    <tr>\n",
       "      <th>std</th>\n",
       "      <td>2.887730</td>\n",
       "      <td>0.0</td>\n",
       "      <td>0.0</td>\n",
       "      <td>0.0</td>\n",
       "      <td>0.0</td>\n",
       "      <td>0.0</td>\n",
       "      <td>0.0</td>\n",
       "      <td>0.0</td>\n",
       "      <td>0.0</td>\n",
       "      <td>0.0</td>\n",
       "      <td>...</td>\n",
       "      <td>6.312890</td>\n",
       "      <td>4.633819</td>\n",
       "      <td>3.274488</td>\n",
       "      <td>1.75987</td>\n",
       "      <td>1.894498</td>\n",
       "      <td>0.414264</td>\n",
       "      <td>0.0</td>\n",
       "      <td>0.0</td>\n",
       "      <td>0.0</td>\n",
       "      <td>0.0</td>\n",
       "    </tr>\n",
       "    <tr>\n",
       "      <th>min</th>\n",
       "      <td>0.000000</td>\n",
       "      <td>0.0</td>\n",
       "      <td>0.0</td>\n",
       "      <td>0.0</td>\n",
       "      <td>0.0</td>\n",
       "      <td>0.0</td>\n",
       "      <td>0.0</td>\n",
       "      <td>0.0</td>\n",
       "      <td>0.0</td>\n",
       "      <td>0.0</td>\n",
       "      <td>...</td>\n",
       "      <td>0.000000</td>\n",
       "      <td>0.000000</td>\n",
       "      <td>0.000000</td>\n",
       "      <td>0.00000</td>\n",
       "      <td>0.000000</td>\n",
       "      <td>0.000000</td>\n",
       "      <td>0.0</td>\n",
       "      <td>0.0</td>\n",
       "      <td>0.0</td>\n",
       "      <td>0.0</td>\n",
       "    </tr>\n",
       "    <tr>\n",
       "      <th>25%</th>\n",
       "      <td>2.000000</td>\n",
       "      <td>0.0</td>\n",
       "      <td>0.0</td>\n",
       "      <td>0.0</td>\n",
       "      <td>0.0</td>\n",
       "      <td>0.0</td>\n",
       "      <td>0.0</td>\n",
       "      <td>0.0</td>\n",
       "      <td>0.0</td>\n",
       "      <td>0.0</td>\n",
       "      <td>...</td>\n",
       "      <td>0.000000</td>\n",
       "      <td>0.000000</td>\n",
       "      <td>0.000000</td>\n",
       "      <td>0.00000</td>\n",
       "      <td>0.000000</td>\n",
       "      <td>0.000000</td>\n",
       "      <td>0.0</td>\n",
       "      <td>0.0</td>\n",
       "      <td>0.0</td>\n",
       "      <td>0.0</td>\n",
       "    </tr>\n",
       "    <tr>\n",
       "      <th>50%</th>\n",
       "      <td>4.000000</td>\n",
       "      <td>0.0</td>\n",
       "      <td>0.0</td>\n",
       "      <td>0.0</td>\n",
       "      <td>0.0</td>\n",
       "      <td>0.0</td>\n",
       "      <td>0.0</td>\n",
       "      <td>0.0</td>\n",
       "      <td>0.0</td>\n",
       "      <td>0.0</td>\n",
       "      <td>...</td>\n",
       "      <td>0.000000</td>\n",
       "      <td>0.000000</td>\n",
       "      <td>0.000000</td>\n",
       "      <td>0.00000</td>\n",
       "      <td>0.000000</td>\n",
       "      <td>0.000000</td>\n",
       "      <td>0.0</td>\n",
       "      <td>0.0</td>\n",
       "      <td>0.0</td>\n",
       "      <td>0.0</td>\n",
       "    </tr>\n",
       "    <tr>\n",
       "      <th>75%</th>\n",
       "      <td>7.000000</td>\n",
       "      <td>0.0</td>\n",
       "      <td>0.0</td>\n",
       "      <td>0.0</td>\n",
       "      <td>0.0</td>\n",
       "      <td>0.0</td>\n",
       "      <td>0.0</td>\n",
       "      <td>0.0</td>\n",
       "      <td>0.0</td>\n",
       "      <td>0.0</td>\n",
       "      <td>...</td>\n",
       "      <td>0.000000</td>\n",
       "      <td>0.000000</td>\n",
       "      <td>0.000000</td>\n",
       "      <td>0.00000</td>\n",
       "      <td>0.000000</td>\n",
       "      <td>0.000000</td>\n",
       "      <td>0.0</td>\n",
       "      <td>0.0</td>\n",
       "      <td>0.0</td>\n",
       "      <td>0.0</td>\n",
       "    </tr>\n",
       "    <tr>\n",
       "      <th>max</th>\n",
       "      <td>9.000000</td>\n",
       "      <td>0.0</td>\n",
       "      <td>0.0</td>\n",
       "      <td>0.0</td>\n",
       "      <td>0.0</td>\n",
       "      <td>0.0</td>\n",
       "      <td>0.0</td>\n",
       "      <td>0.0</td>\n",
       "      <td>0.0</td>\n",
       "      <td>0.0</td>\n",
       "      <td>...</td>\n",
       "      <td>254.000000</td>\n",
       "      <td>254.000000</td>\n",
       "      <td>253.000000</td>\n",
       "      <td>253.00000</td>\n",
       "      <td>254.000000</td>\n",
       "      <td>62.000000</td>\n",
       "      <td>0.0</td>\n",
       "      <td>0.0</td>\n",
       "      <td>0.0</td>\n",
       "      <td>0.0</td>\n",
       "    </tr>\n",
       "  </tbody>\n",
       "</table>\n",
       "<p>8 rows × 785 columns</p>\n",
       "</div>"
      ],
      "text/plain": [
       "              label   pixel0   pixel1   pixel2   pixel3   pixel4   pixel5  \\\n",
       "count  42000.000000  42000.0  42000.0  42000.0  42000.0  42000.0  42000.0   \n",
       "mean       4.456643      0.0      0.0      0.0      0.0      0.0      0.0   \n",
       "std        2.887730      0.0      0.0      0.0      0.0      0.0      0.0   \n",
       "min        0.000000      0.0      0.0      0.0      0.0      0.0      0.0   \n",
       "25%        2.000000      0.0      0.0      0.0      0.0      0.0      0.0   \n",
       "50%        4.000000      0.0      0.0      0.0      0.0      0.0      0.0   \n",
       "75%        7.000000      0.0      0.0      0.0      0.0      0.0      0.0   \n",
       "max        9.000000      0.0      0.0      0.0      0.0      0.0      0.0   \n",
       "\n",
       "        pixel6   pixel7   pixel8  ...      pixel774      pixel775  \\\n",
       "count  42000.0  42000.0  42000.0  ...  42000.000000  42000.000000   \n",
       "mean       0.0      0.0      0.0  ...      0.219286      0.117095   \n",
       "std        0.0      0.0      0.0  ...      6.312890      4.633819   \n",
       "min        0.0      0.0      0.0  ...      0.000000      0.000000   \n",
       "25%        0.0      0.0      0.0  ...      0.000000      0.000000   \n",
       "50%        0.0      0.0      0.0  ...      0.000000      0.000000   \n",
       "75%        0.0      0.0      0.0  ...      0.000000      0.000000   \n",
       "max        0.0      0.0      0.0  ...    254.000000    254.000000   \n",
       "\n",
       "           pixel776     pixel777      pixel778      pixel779  pixel780  \\\n",
       "count  42000.000000  42000.00000  42000.000000  42000.000000   42000.0   \n",
       "mean       0.059024      0.02019      0.017238      0.002857       0.0   \n",
       "std        3.274488      1.75987      1.894498      0.414264       0.0   \n",
       "min        0.000000      0.00000      0.000000      0.000000       0.0   \n",
       "25%        0.000000      0.00000      0.000000      0.000000       0.0   \n",
       "50%        0.000000      0.00000      0.000000      0.000000       0.0   \n",
       "75%        0.000000      0.00000      0.000000      0.000000       0.0   \n",
       "max      253.000000    253.00000    254.000000     62.000000       0.0   \n",
       "\n",
       "       pixel781  pixel782  pixel783  \n",
       "count   42000.0   42000.0   42000.0  \n",
       "mean        0.0       0.0       0.0  \n",
       "std         0.0       0.0       0.0  \n",
       "min         0.0       0.0       0.0  \n",
       "25%         0.0       0.0       0.0  \n",
       "50%         0.0       0.0       0.0  \n",
       "75%         0.0       0.0       0.0  \n",
       "max         0.0       0.0       0.0  \n",
       "\n",
       "[8 rows x 785 columns]"
      ]
     },
     "execution_count": 321,
     "metadata": {},
     "output_type": "execute_result"
    }
   ],
   "source": [
    "df.describe()"
   ]
  },
  {
   "cell_type": "code",
   "execution_count": 322,
   "metadata": {},
   "outputs": [
    {
     "data": {
      "text/plain": [
       "label       int64\n",
       "pixel0      int64\n",
       "pixel1      int64\n",
       "pixel2      int64\n",
       "pixel3      int64\n",
       "            ...  \n",
       "pixel779    int64\n",
       "pixel780    int64\n",
       "pixel781    int64\n",
       "pixel782    int64\n",
       "pixel783    int64\n",
       "Length: 785, dtype: object"
      ]
     },
     "execution_count": 322,
     "metadata": {},
     "output_type": "execute_result"
    }
   ],
   "source": [
    "df.dtypes"
   ]
  },
  {
   "cell_type": "code",
   "execution_count": 323,
   "metadata": {},
   "outputs": [
    {
     "data": {
      "text/plain": [
       "{0, 1, 2, 3, 4, 5, 6, 7, 8, 9}"
      ]
     },
     "execution_count": 323,
     "metadata": {},
     "output_type": "execute_result"
    }
   ],
   "source": [
    "set(df.label)"
   ]
  },
  {
   "cell_type": "code",
   "execution_count": 324,
   "metadata": {},
   "outputs": [],
   "source": [
    "features = np.array(df.drop(['label'], axis =1))\n",
    "label = np.array(df['label'])"
   ]
  },
  {
   "cell_type": "code",
   "execution_count": 325,
   "metadata": {},
   "outputs": [],
   "source": [
    "scaler = MaxAbsScaler()\n",
    "scaler.fit(features)\n",
    "featuresNormalizadas = scaler.transform(features)"
   ]
  },
  {
   "cell_type": "code",
   "execution_count": 326,
   "metadata": {},
   "outputs": [],
   "source": [
    "featuresTreino, featuresTeste, labelTreino, labelTeste = train_test_split(featuresNormalizadas, label, train_size = 0.7, random_state = 42)"
   ]
  },
  {
   "cell_type": "code",
   "execution_count": 327,
   "metadata": {},
   "outputs": [],
   "source": [
    "listaErroTreino = []\n",
    "listaErroTeste = []\n",
    "\n",
    "for i in range(200, 1, -20):\n",
    "    tree = DecisionTreeClassifier(min_samples_split = i)\n",
    "    tree.fit(featuresTreino, labelTreino)\n",
    "    \n",
    "    predicaoTreino = tree.predict(featuresTreino)\n",
    "    predicaoTeste = tree.predict(featuresTeste)\n",
    "    \n",
    "    erroTreino =(1 - accuracy_score(predicaoTreino, labelTreino))\n",
    "    erroTeste = (1- accuracy_score(predicaoTeste, labelTeste))\n",
    "    \n",
    "    listaErroTeste.append(erroTeste)\n",
    "    listaErroTreino.append(erroTreino)"
   ]
  },
  {
   "cell_type": "code",
   "execution_count": 328,
   "metadata": {},
   "outputs": [
    {
     "data": {
      "image/png": "[encoded data removed]",
      "text/plain": [
       "<Figure size 432x288 with 1 Axes>"
      ]
     },
     "metadata": {
      "needs_background": "light"
     },
     "output_type": "display_data"
    }
   ],
   "source": [
    "plt.plot(listaErroTreino)\n",
    "plt.plot(listaErroTeste)\n",
    "plt.legend(['Treino', 'Teste'])\n",
    "plt.show()"
   ]
  },
  {
   "cell_type": "code",
   "execution_count": 329,
   "metadata": {},
   "outputs": [
    {
     "data": {
      "text/plain": [
       "DecisionTreeClassifier(min_samples_split=20)"
      ]
     },
     "execution_count": 329,
     "metadata": {},
     "output_type": "execute_result"
    }
   ],
   "source": [
    "tree = DecisionTreeClassifier(min_samples_split = 20)\n",
    "tree.fit(featuresTreino, labelTreino)"
   ]
  },
  {
   "cell_type": "code",
   "execution_count": 330,
   "metadata": {},
   "outputs": [],
   "source": [
    "predictTeste = tree.predict(featuresTeste)\n",
    "matrix = confusion_matrix(labelTeste, predictTeste)"
   ]
  },
  {
   "cell_type": "code",
   "execution_count": 331,
   "metadata": {},
   "outputs": [
    {
     "data": {
      "text/plain": [
       "array([[1084,    6,   23,   10,   10,   36,   13,    3,   11,    4],\n",
       "       [   3, 1303,   18,    8,    9,    6,    3,    5,   25,    9],\n",
       "       [  27,   27, 1059,   34,   25,   21,   16,   33,   42,   10],\n",
       "       [  22,   19,   50, 1053,   21,   84,    1,   21,   56,   28],\n",
       "       [   8,   14,   19,   18, 1045,   15,   21,    8,   24,   51],\n",
       "       [  15,   16,   18,   59,   24,  856,   34,   11,   32,   20],\n",
       "       [  22,    6,   24,   16,   30,   35, 1093,    3,   21,    6],\n",
       "       [  15,   11,   38,   25,   19,   13,    0, 1200,    6,   32],\n",
       "       [  23,   30,   40,   49,   36,   38,   20,    7,  936,   30],\n",
       "       [  10,    3,   10,   27,   67,   32,   12,   27,   44,  999]])"
      ]
     },
     "execution_count": 331,
     "metadata": {},
     "output_type": "execute_result"
    }
   ],
   "source": [
    "matrix\n",
    "#linha = classe\n",
    "#coluna = como a classe foi classificada"
   ]
  },
  {
   "cell_type": "code",
   "execution_count": 332,
   "metadata": {},
   "outputs": [
    {
     "data": {
      "text/plain": [
       "<sklearn.metrics._plot.confusion_matrix.ConfusionMatrixDisplay at 0x7f601b7cf2d0>"
      ]
     },
     "execution_count": 332,
     "metadata": {},
     "output_type": "execute_result"
    },
    {
     "data": {
      "image/png": "[encoded data removed]",
      "text/plain": [
       "<Figure size 432x288 with 2 Axes>"
      ]
     },
     "metadata": {
      "needs_background": "light"
     },
     "output_type": "display_data"
    }
   ],
   "source": [
    "ConfusionMatrixDisplay(confusion_matrix(labelTeste, predicaoTeste), display_labels=range(0,10)).plot()"
   ]
  },
  {
   "cell_type": "code",
   "execution_count": 333,
   "metadata": {},
   "outputs": [
    {
     "data": {
      "text/plain": [
       "array([[0.  , 0.  , 0.  , ..., 0.  , 0.  , 0.25],\n",
       "       [0.  , 1.  , 0.  , ..., 0.  , 0.  , 0.  ],\n",
       "       [0.  , 0.  , 0.  , ..., 0.  , 0.  , 1.  ],\n",
       "       ...,\n",
       "       [0.  , 0.  , 0.  , ..., 0.  , 0.  , 0.  ],\n",
       "       [1.  , 0.  , 0.  , ..., 0.  , 0.  , 0.  ],\n",
       "       [0.  , 0.  , 0.  , ..., 0.  , 0.  , 0.  ]])"
      ]
     },
     "execution_count": 333,
     "metadata": {},
     "output_type": "execute_result"
    }
   ],
   "source": [
    "confiancas = tree.predict_proba(featuresTeste)\n",
    "confiancas\n",
    "# tree.predict_proba(featuresTeste)[0] confianças da primeira linha (instância 0)"
   ]
  },
  {
   "cell_type": "code",
   "execution_count": 334,
   "metadata": {},
   "outputs": [
    {
     "data": {
      "text/plain": [
       "array([0., 0., 0., ..., 0., 0., 0.])"
      ]
     },
     "execution_count": 334,
     "metadata": {},
     "output_type": "execute_result"
    }
   ],
   "source": [
    "#Confianças do dígito 3\n",
    "confiancas[:,3]"
   ]
  },
  {
   "cell_type": "code",
   "execution_count": 335,
   "metadata": {},
   "outputs": [],
   "source": [
    "fprTree, tprTree, limiaresTree = roc_curve(labelTeste, confiancas[:,3], pos_label = 3)"
   ]
  },
  {
   "cell_type": "code",
   "execution_count": 336,
   "metadata": {},
   "outputs": [
    {
     "data": {
      "text/plain": [
       "array([2.        , 1.        , 0.94736842, 0.94444444, 0.94117647,\n",
       "       0.92857143, 0.9       , 0.88888889, 0.88235294, 0.875     ,\n",
       "       0.85714286, 0.83333333, 0.81818182, 0.8125    , 0.8       ,\n",
       "       0.75      , 0.70588235, 0.68421053, 0.66666667, 0.64705882,\n",
       "       0.625     , 0.57142857, 0.55555556, 0.54545455, 0.5       ,\n",
       "       0.44444444, 0.41666667, 0.4       , 0.38888889, 0.375     ,\n",
       "       0.36363636, 0.33333333, 0.30769231, 0.29411765, 0.28571429,\n",
       "       0.27777778, 0.27272727, 0.26666667, 0.25      , 0.23529412,\n",
       "       0.22222222, 0.21052632, 0.2       , 0.18181818, 0.17647059,\n",
       "       0.16666667, 0.15789474, 0.15384615, 0.14285714, 0.13333333,\n",
       "       0.125     , 0.11764706, 0.11111111, 0.10526316, 0.1       ,\n",
       "       0.09090909, 0.08333333, 0.07692308, 0.07142857, 0.06666667,\n",
       "       0.0625    , 0.05882353, 0.05555556, 0.05263158, 0.        ])"
      ]
     },
     "execution_count": 336,
     "metadata": {},
     "output_type": "execute_result"
    }
   ],
   "source": [
    "limiaresTree"
   ]
  },
  {
   "cell_type": "code",
   "execution_count": 337,
   "metadata": {},
   "outputs": [
    {
     "data": {
      "image/png": "[encoded data removed]",
      "text/plain": [
       "<Figure size 432x288 with 1 Axes>"
      ]
     },
     "metadata": {
      "needs_background": "light"
     },
     "output_type": "display_data"
    }
   ],
   "source": [
    "plt.plot(fprTree, tprTree)\n",
    "plt.legend(['Tree'])\n",
    "plt.xlabel('False Positive Rate')\n",
    "plt.ylabel('True Positive Rate')\n",
    "plt.show()"
   ]
  },
  {
   "cell_type": "code",
   "execution_count": 338,
   "metadata": {},
   "outputs": [
    {
     "data": {
      "text/plain": [
       "0.9274766001261294"
      ]
     },
     "execution_count": 338,
     "metadata": {},
     "output_type": "execute_result"
    }
   ],
   "source": [
    "auc(fprTree, tprTree)"
   ]
  }
 ],
 "metadata": {
  "kernelspec": {
   "display_name": "Python 3",
   "language": "python",
   "name": "python3"
  },
  "language_info": {
   "codemirror_mode": {
    "name": "ipython",
    "version": 3
   },
   "file_extension": ".py",
   "mimetype": "text/x-python",
   "name": "python",
   "nbconvert_exporter": "python",
   "pygments_lexer": "ipython3",
   "version": "3.7.6"
  }
 },
 "nbformat": 4,
 "nbformat_minor": 4
}
